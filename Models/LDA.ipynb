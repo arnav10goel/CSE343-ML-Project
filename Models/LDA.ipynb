{
 "cells": [
  {
   "cell_type": "markdown",
   "metadata": {},
   "source": [
    "### Linear Discriminant Analysis"
   ]
  },
  {
   "cell_type": "code",
   "execution_count": 1,
   "metadata": {},
   "outputs": [],
   "source": [
    "import numpy as np\n",
    "import pandas as pd\n",
    "import matplotlib.pyplot as plt\n",
    "\n",
    "from sklearn.discriminant_analysis import LinearDiscriminantAnalysis\n",
    "from sklearn.model_selection import GridSearchCV\n",
    "\n",
    "from sklearn.metrics import accuracy_score, confusion_matrix, classification_report\n",
    "from sklearn.metrics import roc_curve, auc, roc_auc_score\n",
    "from sklearn.metrics import precision_recall_curve, average_precision_score\n",
    "from sklearn.metrics import f1_score\n",
    "from sklearn.preprocessing import StandardScaler\n",
    "from sklearn.decomposition import PCA"
   ]
  },
  {
   "cell_type": "code",
   "execution_count": 2,
   "metadata": {},
   "outputs": [
    {
     "name": "stdout",
     "output_type": "stream",
     "text": [
      "(22500, 1000)\n",
      "(7500, 1000)\n"
     ]
    }
   ],
   "source": [
    "# Open the .csv files\n",
    "X_train = pd.read_csv('/Users/arnav/Desktop/MachineLearning/ML_CSE343 Project/train_tfidf.csv')\n",
    "X_test = pd.read_csv('/Users/arnav/Desktop/MachineLearning/ML_CSE343 Project/test_tfidf.csv')\n",
    "\n",
    "X_train = X_train.drop(['Unnamed: 0'], axis=1)\n",
    "X_test = X_test.drop(['Unnamed: 0'], axis=1)\n",
    "\n",
    "# Check the shape of the data\n",
    "print(X_train.shape)\n",
    "print(X_test.shape)"
   ]
  },
  {
   "cell_type": "code",
   "execution_count": 3,
   "metadata": {},
   "outputs": [
    {
     "name": "stdout",
     "output_type": "stream",
     "text": [
      "(22500, 1)\n",
      "(7500, 1)\n"
     ]
    }
   ],
   "source": [
    "# Extract the features into a numpy array\n",
    "X_train = X_train.values\n",
    "X_test = X_test.values\n",
    "\n",
    "# Open the labels\n",
    "y_train_df = pd.read_csv('/Users/arnav/Desktop/MachineLearning/ML_CSE343 Project/CSE343-ML-Project/Data/Preprocessed-Data/train_labels.csv')\n",
    "y_test_df = pd.read_csv('/Users/arnav/Desktop/MachineLearning/ML_CSE343 Project/CSE343-ML-Project/Data/Preprocessed-Data/test_labels.csv')\n",
    "\n",
    "# Check the shape of the labels\n",
    "print(y_train_df.shape)\n",
    "print(y_test_df.shape)"
   ]
  },
  {
   "cell_type": "code",
   "execution_count": 4,
   "metadata": {},
   "outputs": [
    {
     "name": "stdout",
     "output_type": "stream",
     "text": [
      "(22500,)\n",
      "(7500,)\n",
      "(22500,)\n",
      "(7500,)\n"
     ]
    }
   ],
   "source": [
    "# Convert class to non_suicide = 0 and suicide = 1\n",
    "y_train_temp = y_train_df['class'].values\n",
    "y_test_temp = y_test_df['class'].values\n",
    "\n",
    "# Check the shape of the labels\n",
    "print(y_train_temp.shape)\n",
    "print(y_test_temp.shape)\n",
    "\n",
    "y_train = np.array([0 if label == \"non-suicide\" else 1 for label in y_train_temp])\n",
    "y_test = np.array([0 if label == \"non-suicide\" else 1 for label in y_test_temp])\n",
    "\n",
    "# Check the shape of the labels\n",
    "print(y_train.shape)\n",
    "print(y_test.shape)"
   ]
  },
  {
   "cell_type": "markdown",
   "metadata": {},
   "source": [
    "### Running without Hyperparameter Tuning"
   ]
  },
  {
   "cell_type": "code",
   "execution_count": 5,
   "metadata": {},
   "outputs": [],
   "source": [
    "# Define the LDA classifier\n",
    "lda_base = LinearDiscriminantAnalysis()\n",
    "\n",
    "# Fit the model\n",
    "lda_base.fit(X_train, y_train)\n",
    "\n",
    "# Predict\n",
    "y_pred = lda_base.predict(X_test)"
   ]
  },
  {
   "cell_type": "code",
   "execution_count": 6,
   "metadata": {},
   "outputs": [
    {
     "name": "stdout",
     "output_type": "stream",
     "text": [
      "Accuracy Score: 0.9130666666666667\n",
      "Confusion Matrix:\n",
      " [[3470  238]\n",
      " [ 414 3378]]\n",
      "AUC Score: 0.9133186200210288\n",
      "Classification Report:\n",
      "               precision    recall  f1-score   support\n",
      "\n",
      "           0       0.89      0.94      0.91      3708\n",
      "           1       0.93      0.89      0.91      3792\n",
      "\n",
      "    accuracy                           0.91      7500\n",
      "   macro avg       0.91      0.91      0.91      7500\n",
      "weighted avg       0.91      0.91      0.91      7500\n",
      "\n",
      "Weighted F1-score: 0.9130416384644972\n"
     ]
    }
   ],
   "source": [
    "# Print the accuracy score\n",
    "print(\"Accuracy Score:\", accuracy_score(y_test, y_pred))\n",
    "\n",
    "# Print the confusion matrix\n",
    "print(\"Confusion Matrix:\\n\", confusion_matrix(y_test, y_pred))\n",
    "\n",
    "# Print AUC score\n",
    "print(\"AUC Score:\", roc_auc_score(y_test, y_pred))\n",
    "\n",
    "# Print the classification report\n",
    "print(\"Classification Report:\\n\", classification_report(y_test, y_pred))\n",
    "\n",
    "# Print weighted F1-score\n",
    "print(\"Weighted F1-score:\", f1_score(y_test, y_pred, average='weighted'))"
   ]
  },
  {
   "cell_type": "markdown",
   "metadata": {},
   "source": [
    "### Hyperparameter Tuning"
   ]
  },
  {
   "cell_type": "code",
   "execution_count": 7,
   "metadata": {},
   "outputs": [
    {
     "name": "stdout",
     "output_type": "stream",
     "text": [
      "Fitting 5 folds for each of 18 candidates, totalling 90 fits\n",
      "[CV] END .n_components=1, solver=svd, store_covariance=False; total time=  49.6s\n",
      "[CV] END .n_components=1, solver=svd, store_covariance=False; total time=  49.8s\n",
      "[CV] END .n_components=1, solver=svd, store_covariance=False; total time=  50.6s\n",
      "[CV] END ..n_components=1, solver=svd, store_covariance=True; total time=  53.2s\n",
      "[CV] END ..n_components=1, solver=svd, store_covariance=True; total time=  53.4s\n",
      "[CV] END ..n_components=1, solver=svd, store_covariance=True; total time=  54.1s\n",
      "[CV] END ..n_components=1, solver=svd, store_covariance=True; total time=  54.2s\n",
      "[CV] END ..n_components=1, solver=svd, store_covariance=True; total time=  54.2s\n",
      "[CV] END .n_components=1, solver=lsqr, store_covariance=True; total time=   6.8s\n",
      "[CV] END .n_components=1, solver=lsqr, store_covariance=True; total time=   6.9s\n",
      "[CV] END .n_components=1, solver=lsqr, store_covariance=True; total time=   7.4s\n",
      "[CV] END n_components=1, solver=lsqr, store_covariance=False; total time=   7.2s\n",
      "[CV] END .n_components=1, solver=lsqr, store_covariance=True; total time=   7.7s\n",
      "[CV] END .n_components=1, solver=lsqr, store_covariance=True; total time=   7.7s\n",
      "[CV] END n_components=1, solver=lsqr, store_covariance=False; total time=   7.4s\n",
      "[CV] END n_components=1, solver=lsqr, store_covariance=False; total time=   7.0s\n",
      "[CV] END n_components=1, solver=lsqr, store_covariance=False; total time=   7.2s\n",
      "[CV] END n_components=1, solver=lsqr, store_covariance=False; total time=   7.0s\n",
      "[CV] END n_components=1, solver=eigen, store_covariance=True; total time=   9.3s\n",
      "[CV] END n_components=1, solver=eigen, store_covariance=True; total time=   9.4s\n",
      "[CV] END .n_components=1, solver=svd, store_covariance=False; total time=  22.2s\n",
      "[CV] END .n_components=1, solver=svd, store_covariance=False; total time=  22.1s\n",
      "[CV] END n_components=1, solver=eigen, store_covariance=True; total time=   8.8s\n",
      "[CV] END ..n_components=2, solver=svd, store_covariance=True; total time=   0.2s\n",
      "[CV] END ..n_components=2, solver=svd, store_covariance=True; total time=   0.2s\n",
      "[CV] END ..n_components=2, solver=svd, store_covariance=True; total time=   0.2s\n",
      "[CV] END ..n_components=2, solver=svd, store_covariance=True; total time=   0.2s\n",
      "[CV] END ..n_components=2, solver=svd, store_covariance=True; total time=   0.2s\n",
      "[CV] END .n_components=2, solver=svd, store_covariance=False; total time=   0.2s\n",
      "[CV] END .n_components=2, solver=svd, store_covariance=False; total time=   0.3s\n",
      "[CV] END .n_components=2, solver=svd, store_covariance=False; total time=   0.2s\n",
      "[CV] END .n_components=2, solver=svd, store_covariance=False; total time=   0.2s\n",
      "[CV] END n_components=1, solver=eigen, store_covariance=True; total time=   9.0s\n",
      "[CV] END .n_components=2, solver=svd, store_covariance=False; total time=   0.2s\n",
      "[CV] END .n_components=2, solver=lsqr, store_covariance=True; total time=   0.3s\n",
      "[CV] END .n_components=2, solver=lsqr, store_covariance=True; total time=   0.2s\n",
      "[CV] END .n_components=2, solver=lsqr, store_covariance=True; total time=   0.3s\n",
      "[CV] END .n_components=2, solver=lsqr, store_covariance=True; total time=   0.3s\n",
      "[CV] END .n_components=2, solver=lsqr, store_covariance=True; total time=   0.3s\n",
      "[CV] END n_components=1, solver=eigen, store_covariance=True; total time=   9.1s\n",
      "[CV] END n_components=2, solver=lsqr, store_covariance=False; total time=   0.3s\n",
      "[CV] END n_components=2, solver=lsqr, store_covariance=False; total time=   0.3s\n",
      "[CV] END n_components=2, solver=lsqr, store_covariance=False; total time=   0.3s\n",
      "[CV] END n_components=2, solver=lsqr, store_covariance=False; total time=   0.3s\n",
      "[CV] END n_components=1, solver=eigen, store_covariance=False; total time=   8.8s\n",
      "[CV] END n_components=2, solver=lsqr, store_covariance=False; total time=   0.2s\n",
      "[CV] END n_components=2, solver=eigen, store_covariance=True; total time=   0.2s\n",
      "[CV] END n_components=2, solver=eigen, store_covariance=True; total time=   0.3s\n",
      "[CV] END n_components=2, solver=eigen, store_covariance=True; total time=   0.3s\n",
      "[CV] END n_components=2, solver=eigen, store_covariance=True; total time=   0.2s\n",
      "[CV] END n_components=2, solver=eigen, store_covariance=False; total time=   0.3s\n",
      "[CV] END n_components=2, solver=eigen, store_covariance=False; total time=   0.3s\n",
      "[CV] END n_components=2, solver=eigen, store_covariance=False; total time=   0.3s\n",
      "[CV] END n_components=2, solver=eigen, store_covariance=True; total time=   0.4s\n",
      "[CV] END n_components=2, solver=eigen, store_covariance=False; total time=   0.2s\n",
      "[CV] END n_components=2, solver=eigen, store_covariance=False; total time=   0.2s\n",
      "[CV] END ..n_components=3, solver=svd, store_covariance=True; total time=   0.3s\n",
      "[CV] END ..n_components=3, solver=svd, store_covariance=True; total time=   0.3s\n",
      "[CV] END ..n_components=3, solver=svd, store_covariance=True; total time=   0.2s\n",
      "[CV] END ..n_components=3, solver=svd, store_covariance=True; total time=   0.2s\n",
      "[CV] END .n_components=3, solver=svd, store_covariance=False; total time=   0.2s\n",
      "[CV] END ..n_components=3, solver=svd, store_covariance=True; total time=   0.2s\n",
      "[CV] END .n_components=3, solver=svd, store_covariance=False; total time=   0.2s\n",
      "[CV] END .n_components=3, solver=svd, store_covariance=False; total time=   0.2s\n",
      "[CV] END .n_components=3, solver=svd, store_covariance=False; total time=   0.2s\n",
      "[CV] END .n_components=3, solver=svd, store_covariance=False; total time=   0.2s\n",
      "[CV] END .n_components=3, solver=lsqr, store_covariance=True; total time=   0.2s\n",
      "[CV] END .n_components=3, solver=lsqr, store_covariance=True; total time=   0.2s\n",
      "[CV] END .n_components=3, solver=lsqr, store_covariance=True; total time=   0.2s\n",
      "[CV] END .n_components=3, solver=lsqr, store_covariance=True; total time=   0.2s\n",
      "[CV] END .n_components=3, solver=lsqr, store_covariance=True; total time=   0.2s\n",
      "[CV] END n_components=3, solver=lsqr, store_covariance=False; total time=   0.2s\n",
      "[CV] END n_components=3, solver=lsqr, store_covariance=False; total time=   0.2s\n",
      "[CV] END n_components=3, solver=lsqr, store_covariance=False; total time=   0.2s\n",
      "[CV] END n_components=3, solver=lsqr, store_covariance=False; total time=   0.2s\n",
      "[CV] END n_components=3, solver=lsqr, store_covariance=False; total time=   0.2s\n",
      "[CV] END n_components=3, solver=eigen, store_covariance=True; total time=   0.2s\n",
      "[CV] END n_components=3, solver=eigen, store_covariance=True; total time=   0.2s\n",
      "[CV] END n_components=1, solver=eigen, store_covariance=False; total time=   8.3s\n",
      "[CV] END n_components=3, solver=eigen, store_covariance=True; total time=   0.2s\n",
      "[CV] END n_components=3, solver=eigen, store_covariance=True; total time=   0.2s\n",
      "[CV] END n_components=3, solver=eigen, store_covariance=True; total time=   0.2s\n",
      "[CV] END n_components=3, solver=eigen, store_covariance=False; total time=   0.2s\n",
      "[CV] END n_components=3, solver=eigen, store_covariance=False; total time=   0.2s\n",
      "[CV] END n_components=3, solver=eigen, store_covariance=False; total time=   0.2s\n",
      "[CV] END n_components=3, solver=eigen, store_covariance=False; total time=   0.2s\n",
      "[CV] END n_components=3, solver=eigen, store_covariance=False; total time=   0.2s\n",
      "[CV] END n_components=1, solver=eigen, store_covariance=False; total time=   9.0s\n",
      "[CV] END n_components=1, solver=eigen, store_covariance=False; total time=   8.5s\n",
      "[CV] END n_components=1, solver=eigen, store_covariance=False; total time=   8.5s\n"
     ]
    },
    {
     "name": "stderr",
     "output_type": "stream",
     "text": [
      "/Library/Frameworks/Python.framework/Versions/3.10/lib/python3.10/site-packages/sklearn/model_selection/_validation.py:378: FitFailedWarning: \n",
      "62 fits failed out of a total of 90.\n",
      "The score on these train-test partitions for these parameters will be set to nan.\n",
      "If these failures are not expected, you can try to debug them by setting error_score='raise'.\n",
      "\n",
      "Below are more details about the failures:\n",
      "--------------------------------------------------------------------------------\n",
      "2 fits failed with the following error:\n",
      "Traceback (most recent call last):\n",
      "  File \"/Library/Frameworks/Python.framework/Versions/3.10/lib/python3.10/site-packages/sklearn/model_selection/_validation.py\", line 686, in _fit_and_score\n",
      "    estimator.fit(X_train, y_train, **fit_params)\n",
      "  File \"/Library/Frameworks/Python.framework/Versions/3.10/lib/python3.10/site-packages/sklearn/discriminant_analysis.py\", line 631, in fit\n",
      "    self._solve_eigen(\n",
      "  File \"/Library/Frameworks/Python.framework/Versions/3.10/lib/python3.10/site-packages/sklearn/discriminant_analysis.py\", line 463, in _solve_eigen\n",
      "    evals, evecs = linalg.eigh(Sb, Sw)\n",
      "  File \"/Library/Frameworks/Python.framework/Versions/3.10/lib/python3.10/site-packages/scipy/linalg/_decomp.py\", line 580, in eigh\n",
      "    raise LinAlgError('The leading minor of order {} of B is not '\n",
      "numpy.linalg.LinAlgError: The leading minor of order 247 of B is not positive definite. The factorization of B could not be completed and no eigenvalues or eigenvectors were computed.\n",
      "\n",
      "--------------------------------------------------------------------------------\n",
      "60 fits failed with the following error:\n",
      "Traceback (most recent call last):\n",
      "  File \"/Library/Frameworks/Python.framework/Versions/3.10/lib/python3.10/site-packages/sklearn/model_selection/_validation.py\", line 686, in _fit_and_score\n",
      "    estimator.fit(X_train, y_train, **fit_params)\n",
      "  File \"/Library/Frameworks/Python.framework/Versions/3.10/lib/python3.10/site-packages/sklearn/discriminant_analysis.py\", line 608, in fit\n",
      "    raise ValueError(\n",
      "ValueError: n_components cannot be larger than min(n_features, n_classes - 1).\n",
      "\n",
      "  warnings.warn(some_fits_failed_message, FitFailedWarning)\n",
      "/Library/Frameworks/Python.framework/Versions/3.10/lib/python3.10/site-packages/sklearn/model_selection/_search.py:952: UserWarning: One or more of the test scores are non-finite: [0.9048 0.9048 0.9048 0.9048    nan    nan    nan    nan    nan    nan\n",
      "    nan    nan    nan    nan    nan    nan    nan    nan]\n",
      "  warnings.warn(\n"
     ]
    },
    {
     "data": {
      "text/html": [
       "<style>#sk-container-id-1 {color: black;background-color: white;}#sk-container-id-1 pre{padding: 0;}#sk-container-id-1 div.sk-toggleable {background-color: white;}#sk-container-id-1 label.sk-toggleable__label {cursor: pointer;display: block;width: 100%;margin-bottom: 0;padding: 0.3em;box-sizing: border-box;text-align: center;}#sk-container-id-1 label.sk-toggleable__label-arrow:before {content: \"▸\";float: left;margin-right: 0.25em;color: #696969;}#sk-container-id-1 label.sk-toggleable__label-arrow:hover:before {color: black;}#sk-container-id-1 div.sk-estimator:hover label.sk-toggleable__label-arrow:before {color: black;}#sk-container-id-1 div.sk-toggleable__content {max-height: 0;max-width: 0;overflow: hidden;text-align: left;background-color: #f0f8ff;}#sk-container-id-1 div.sk-toggleable__content pre {margin: 0.2em;color: black;border-radius: 0.25em;background-color: #f0f8ff;}#sk-container-id-1 input.sk-toggleable__control:checked~div.sk-toggleable__content {max-height: 200px;max-width: 100%;overflow: auto;}#sk-container-id-1 input.sk-toggleable__control:checked~label.sk-toggleable__label-arrow:before {content: \"▾\";}#sk-container-id-1 div.sk-estimator input.sk-toggleable__control:checked~label.sk-toggleable__label {background-color: #d4ebff;}#sk-container-id-1 div.sk-label input.sk-toggleable__control:checked~label.sk-toggleable__label {background-color: #d4ebff;}#sk-container-id-1 input.sk-hidden--visually {border: 0;clip: rect(1px 1px 1px 1px);clip: rect(1px, 1px, 1px, 1px);height: 1px;margin: -1px;overflow: hidden;padding: 0;position: absolute;width: 1px;}#sk-container-id-1 div.sk-estimator {font-family: monospace;background-color: #f0f8ff;border: 1px dotted black;border-radius: 0.25em;box-sizing: border-box;margin-bottom: 0.5em;}#sk-container-id-1 div.sk-estimator:hover {background-color: #d4ebff;}#sk-container-id-1 div.sk-parallel-item::after {content: \"\";width: 100%;border-bottom: 1px solid gray;flex-grow: 1;}#sk-container-id-1 div.sk-label:hover label.sk-toggleable__label {background-color: #d4ebff;}#sk-container-id-1 div.sk-serial::before {content: \"\";position: absolute;border-left: 1px solid gray;box-sizing: border-box;top: 0;bottom: 0;left: 50%;z-index: 0;}#sk-container-id-1 div.sk-serial {display: flex;flex-direction: column;align-items: center;background-color: white;padding-right: 0.2em;padding-left: 0.2em;position: relative;}#sk-container-id-1 div.sk-item {position: relative;z-index: 1;}#sk-container-id-1 div.sk-parallel {display: flex;align-items: stretch;justify-content: center;background-color: white;position: relative;}#sk-container-id-1 div.sk-item::before, #sk-container-id-1 div.sk-parallel-item::before {content: \"\";position: absolute;border-left: 1px solid gray;box-sizing: border-box;top: 0;bottom: 0;left: 50%;z-index: -1;}#sk-container-id-1 div.sk-parallel-item {display: flex;flex-direction: column;z-index: 1;position: relative;background-color: white;}#sk-container-id-1 div.sk-parallel-item:first-child::after {align-self: flex-end;width: 50%;}#sk-container-id-1 div.sk-parallel-item:last-child::after {align-self: flex-start;width: 50%;}#sk-container-id-1 div.sk-parallel-item:only-child::after {width: 0;}#sk-container-id-1 div.sk-dashed-wrapped {border: 1px dashed gray;margin: 0 0.4em 0.5em 0.4em;box-sizing: border-box;padding-bottom: 0.4em;background-color: white;}#sk-container-id-1 div.sk-label label {font-family: monospace;font-weight: bold;display: inline-block;line-height: 1.2em;}#sk-container-id-1 div.sk-label-container {text-align: center;}#sk-container-id-1 div.sk-container {/* jupyter's `normalize.less` sets `[hidden] { display: none; }` but bootstrap.min.css set `[hidden] { display: none !important; }` so we also need the `!important` here to be able to override the default hidden behavior on the sphinx rendered scikit-learn.org. See: https://github.com/scikit-learn/scikit-learn/issues/21755 */display: inline-block !important;position: relative;}#sk-container-id-1 div.sk-text-repr-fallback {display: none;}</style><div id=\"sk-container-id-1\" class=\"sk-top-container\"><div class=\"sk-text-repr-fallback\"><pre>GridSearchCV(cv=5, estimator=LinearDiscriminantAnalysis(), n_jobs=-1,\n",
       "             param_grid={&#x27;n_components&#x27;: [1, 2, 3],\n",
       "                         &#x27;solver&#x27;: [&#x27;svd&#x27;, &#x27;lsqr&#x27;, &#x27;eigen&#x27;],\n",
       "                         &#x27;store_covariance&#x27;: [True, False]},\n",
       "             verbose=2)</pre><b>In a Jupyter environment, please rerun this cell to show the HTML representation or trust the notebook. <br />On GitHub, the HTML representation is unable to render, please try loading this page with nbviewer.org.</b></div><div class=\"sk-container\" hidden><div class=\"sk-item sk-dashed-wrapped\"><div class=\"sk-label-container\"><div class=\"sk-label sk-toggleable\"><input class=\"sk-toggleable__control sk-hidden--visually\" id=\"sk-estimator-id-1\" type=\"checkbox\" ><label for=\"sk-estimator-id-1\" class=\"sk-toggleable__label sk-toggleable__label-arrow\">GridSearchCV</label><div class=\"sk-toggleable__content\"><pre>GridSearchCV(cv=5, estimator=LinearDiscriminantAnalysis(), n_jobs=-1,\n",
       "             param_grid={&#x27;n_components&#x27;: [1, 2, 3],\n",
       "                         &#x27;solver&#x27;: [&#x27;svd&#x27;, &#x27;lsqr&#x27;, &#x27;eigen&#x27;],\n",
       "                         &#x27;store_covariance&#x27;: [True, False]},\n",
       "             verbose=2)</pre></div></div></div><div class=\"sk-parallel\"><div class=\"sk-parallel-item\"><div class=\"sk-item\"><div class=\"sk-label-container\"><div class=\"sk-label sk-toggleable\"><input class=\"sk-toggleable__control sk-hidden--visually\" id=\"sk-estimator-id-2\" type=\"checkbox\" ><label for=\"sk-estimator-id-2\" class=\"sk-toggleable__label sk-toggleable__label-arrow\">estimator: LinearDiscriminantAnalysis</label><div class=\"sk-toggleable__content\"><pre>LinearDiscriminantAnalysis()</pre></div></div></div><div class=\"sk-serial\"><div class=\"sk-item\"><div class=\"sk-estimator sk-toggleable\"><input class=\"sk-toggleable__control sk-hidden--visually\" id=\"sk-estimator-id-3\" type=\"checkbox\" ><label for=\"sk-estimator-id-3\" class=\"sk-toggleable__label sk-toggleable__label-arrow\">LinearDiscriminantAnalysis</label><div class=\"sk-toggleable__content\"><pre>LinearDiscriminantAnalysis()</pre></div></div></div></div></div></div></div></div></div></div>"
      ],
      "text/plain": [
       "GridSearchCV(cv=5, estimator=LinearDiscriminantAnalysis(), n_jobs=-1,\n",
       "             param_grid={'n_components': [1, 2, 3],\n",
       "                         'solver': ['svd', 'lsqr', 'eigen'],\n",
       "                         'store_covariance': [True, False]},\n",
       "             verbose=2)"
      ]
     },
     "execution_count": 7,
     "metadata": {},
     "output_type": "execute_result"
    }
   ],
   "source": [
    "# Define the LDA classifier\n",
    "lda = LinearDiscriminantAnalysis()\n",
    "\n",
    "# Define a grid of hyperparameters to search\n",
    "param_grid = {\n",
    "    'solver': ['svd', 'lsqr', 'eigen'],  # LDA solver\n",
    "    'n_components': [1, 2, 3],  # Number of components to keep\n",
    "    'store_covariance': [True, False]  # Whether to store covariance matrices\n",
    "}\n",
    "\n",
    "# Create a grid search object with 5-fold cross validation\n",
    "grid_search = GridSearchCV(estimator=lda, param_grid=param_grid, cv=5, verbose=2, n_jobs=-1)\n",
    "\n",
    "# Fit the grid search to the data\n",
    "grid_search.fit(X_train, y_train)"
   ]
  },
  {
   "cell_type": "code",
   "execution_count": null,
   "metadata": {},
   "outputs": [],
   "source": [
    "# Print the best hyperparameters found by the grid search\n",
    "print(\"Best Hyperparameters:\")\n",
    "print(grid_search.best_params_)"
   ]
  },
  {
   "cell_type": "code",
   "execution_count": 7,
   "metadata": {},
   "outputs": [
    {
     "data": {
      "text/html": [
       "<style>#sk-container-id-1 {color: black;background-color: white;}#sk-container-id-1 pre{padding: 0;}#sk-container-id-1 div.sk-toggleable {background-color: white;}#sk-container-id-1 label.sk-toggleable__label {cursor: pointer;display: block;width: 100%;margin-bottom: 0;padding: 0.3em;box-sizing: border-box;text-align: center;}#sk-container-id-1 label.sk-toggleable__label-arrow:before {content: \"▸\";float: left;margin-right: 0.25em;color: #696969;}#sk-container-id-1 label.sk-toggleable__label-arrow:hover:before {color: black;}#sk-container-id-1 div.sk-estimator:hover label.sk-toggleable__label-arrow:before {color: black;}#sk-container-id-1 div.sk-toggleable__content {max-height: 0;max-width: 0;overflow: hidden;text-align: left;background-color: #f0f8ff;}#sk-container-id-1 div.sk-toggleable__content pre {margin: 0.2em;color: black;border-radius: 0.25em;background-color: #f0f8ff;}#sk-container-id-1 input.sk-toggleable__control:checked~div.sk-toggleable__content {max-height: 200px;max-width: 100%;overflow: auto;}#sk-container-id-1 input.sk-toggleable__control:checked~label.sk-toggleable__label-arrow:before {content: \"▾\";}#sk-container-id-1 div.sk-estimator input.sk-toggleable__control:checked~label.sk-toggleable__label {background-color: #d4ebff;}#sk-container-id-1 div.sk-label input.sk-toggleable__control:checked~label.sk-toggleable__label {background-color: #d4ebff;}#sk-container-id-1 input.sk-hidden--visually {border: 0;clip: rect(1px 1px 1px 1px);clip: rect(1px, 1px, 1px, 1px);height: 1px;margin: -1px;overflow: hidden;padding: 0;position: absolute;width: 1px;}#sk-container-id-1 div.sk-estimator {font-family: monospace;background-color: #f0f8ff;border: 1px dotted black;border-radius: 0.25em;box-sizing: border-box;margin-bottom: 0.5em;}#sk-container-id-1 div.sk-estimator:hover {background-color: #d4ebff;}#sk-container-id-1 div.sk-parallel-item::after {content: \"\";width: 100%;border-bottom: 1px solid gray;flex-grow: 1;}#sk-container-id-1 div.sk-label:hover label.sk-toggleable__label {background-color: #d4ebff;}#sk-container-id-1 div.sk-serial::before {content: \"\";position: absolute;border-left: 1px solid gray;box-sizing: border-box;top: 0;bottom: 0;left: 50%;z-index: 0;}#sk-container-id-1 div.sk-serial {display: flex;flex-direction: column;align-items: center;background-color: white;padding-right: 0.2em;padding-left: 0.2em;position: relative;}#sk-container-id-1 div.sk-item {position: relative;z-index: 1;}#sk-container-id-1 div.sk-parallel {display: flex;align-items: stretch;justify-content: center;background-color: white;position: relative;}#sk-container-id-1 div.sk-item::before, #sk-container-id-1 div.sk-parallel-item::before {content: \"\";position: absolute;border-left: 1px solid gray;box-sizing: border-box;top: 0;bottom: 0;left: 50%;z-index: -1;}#sk-container-id-1 div.sk-parallel-item {display: flex;flex-direction: column;z-index: 1;position: relative;background-color: white;}#sk-container-id-1 div.sk-parallel-item:first-child::after {align-self: flex-end;width: 50%;}#sk-container-id-1 div.sk-parallel-item:last-child::after {align-self: flex-start;width: 50%;}#sk-container-id-1 div.sk-parallel-item:only-child::after {width: 0;}#sk-container-id-1 div.sk-dashed-wrapped {border: 1px dashed gray;margin: 0 0.4em 0.5em 0.4em;box-sizing: border-box;padding-bottom: 0.4em;background-color: white;}#sk-container-id-1 div.sk-label label {font-family: monospace;font-weight: bold;display: inline-block;line-height: 1.2em;}#sk-container-id-1 div.sk-label-container {text-align: center;}#sk-container-id-1 div.sk-container {/* jupyter's `normalize.less` sets `[hidden] { display: none; }` but bootstrap.min.css set `[hidden] { display: none !important; }` so we also need the `!important` here to be able to override the default hidden behavior on the sphinx rendered scikit-learn.org. See: https://github.com/scikit-learn/scikit-learn/issues/21755 */display: inline-block !important;position: relative;}#sk-container-id-1 div.sk-text-repr-fallback {display: none;}</style><div id=\"sk-container-id-1\" class=\"sk-top-container\"><div class=\"sk-text-repr-fallback\"><pre>LinearDiscriminantAnalysis(n_components=1, store_covariance=True)</pre><b>In a Jupyter environment, please rerun this cell to show the HTML representation or trust the notebook. <br />On GitHub, the HTML representation is unable to render, please try loading this page with nbviewer.org.</b></div><div class=\"sk-container\" hidden><div class=\"sk-item\"><div class=\"sk-estimator sk-toggleable\"><input class=\"sk-toggleable__control sk-hidden--visually\" id=\"sk-estimator-id-1\" type=\"checkbox\" checked><label for=\"sk-estimator-id-1\" class=\"sk-toggleable__label sk-toggleable__label-arrow\">LinearDiscriminantAnalysis</label><div class=\"sk-toggleable__content\"><pre>LinearDiscriminantAnalysis(n_components=1, store_covariance=True)</pre></div></div></div></div></div>"
      ],
      "text/plain": [
       "LinearDiscriminantAnalysis(n_components=1, store_covariance=True)"
      ]
     },
     "execution_count": 7,
     "metadata": {},
     "output_type": "execute_result"
    }
   ],
   "source": [
    "# Best Model\n",
    "best_lda = LinearDiscriminantAnalysis(n_components=1, solver='svd', store_covariance=True)\n",
    "\n",
    "# Fit the model\n",
    "best_lda.fit(X_train, y_train)"
   ]
  },
  {
   "cell_type": "code",
   "execution_count": 8,
   "metadata": {},
   "outputs": [
    {
     "name": "stdout",
     "output_type": "stream",
     "text": [
      "Best LDA: Testing Data\n",
      "Accuracy Score: 0.9130666666666667\n",
      "Confusion Matrix:\n",
      " [[3470  238]\n",
      " [ 414 3378]]\n",
      "AUC Score: 0.9133186200210288\n",
      "Classification Report:\n",
      "               precision    recall  f1-score   support\n",
      "\n",
      "           0       0.89      0.94      0.91      3708\n",
      "           1       0.93      0.89      0.91      3792\n",
      "\n",
      "    accuracy                           0.91      7500\n",
      "   macro avg       0.91      0.91      0.91      7500\n",
      "weighted avg       0.91      0.91      0.91      7500\n",
      "\n",
      "Weighted F1-score: 0.9130416384644972\n"
     ]
    }
   ],
   "source": [
    "# Predict on the test data\n",
    "y_pred = best_lda.predict(X_test)\n",
    "\n",
    "# Print the accuracy score\n",
    "print(\"Best LDA: Testing Data\")\n",
    "print(\"Accuracy Score:\", accuracy_score(y_test, y_pred))\n",
    "\n",
    "# Print the confusion matrix\n",
    "print(\"Confusion Matrix:\\n\", confusion_matrix(y_test, y_pred))\n",
    "\n",
    "# Print AUC score\n",
    "print(\"AUC Score:\", roc_auc_score(y_test, y_pred))\n",
    "\n",
    "# Print the classification report\n",
    "print(\"Classification Report:\\n\", classification_report(y_test, y_pred))\n",
    "\n",
    "# Print weighted F1-score\n",
    "print(\"Weighted F1-score:\", f1_score(y_test, y_pred, average='weighted'))"
   ]
  },
  {
   "cell_type": "code",
   "execution_count": 9,
   "metadata": {},
   "outputs": [
    {
     "name": "stdout",
     "output_type": "stream",
     "text": [
      "Best LDA: Training Data\n",
      "Accuracy Score: 0.9206666666666666\n",
      "Confusion Matrix:\n",
      " [[10710   582]\n",
      " [ 1203 10005]]\n",
      "AUC Score: 0.920562519484716\n",
      "Classification Report:\n",
      "               precision    recall  f1-score   support\n",
      "\n",
      "           0       0.90      0.95      0.92     11292\n",
      "           1       0.95      0.89      0.92     11208\n",
      "\n",
      "    accuracy                           0.92     22500\n",
      "   macro avg       0.92      0.92      0.92     22500\n",
      "weighted avg       0.92      0.92      0.92     22500\n",
      "\n",
      "Weighted F1-score: 0.9205979917765191\n"
     ]
    }
   ],
   "source": [
    "# Predict on training data\n",
    "y_pred_train = best_lda.predict(X_train)\n",
    "\n",
    "# Print the accuracy score\n",
    "print(\"Best LDA: Training Data\")\n",
    "print(\"Accuracy Score:\", accuracy_score(y_train, y_pred_train))\n",
    "\n",
    "# Print the confusion matrix\n",
    "print(\"Confusion Matrix:\\n\", confusion_matrix(y_train, y_pred_train))\n",
    "\n",
    "# Print AUC score\n",
    "print(\"AUC Score:\", roc_auc_score(y_train, y_pred_train))\n",
    "\n",
    "# Print the classification report\n",
    "print(\"Classification Report:\\n\", classification_report(y_train, y_pred_train))\n",
    "\n",
    "# Print weighted F1-score\n",
    "print(\"Weighted F1-score:\", f1_score(y_train, y_pred_train, average='weighted'))"
   ]
  },
  {
   "cell_type": "markdown",
   "metadata": {},
   "source": [
    "### Principal Component Analysis"
   ]
  },
  {
   "cell_type": "code",
   "execution_count": 10,
   "metadata": {},
   "outputs": [
    {
     "name": "stdout",
     "output_type": "stream",
     "text": [
      "(22500, 434)\n"
     ]
    }
   ],
   "source": [
    "# Perform PCA on the data and extract the features that explain 85% of the variance\n",
    "pca = PCA(n_components=0.75)\n",
    "X_train_pca = pca.fit_transform(X_train)\n",
    "X_test_pca = pca.transform(X_test)\n",
    "print(X_train_pca.shape)"
   ]
  },
  {
   "cell_type": "code",
   "execution_count": 11,
   "metadata": {},
   "outputs": [],
   "source": [
    "# Train the LDA classifier on the PCA features\n",
    "best_lda.fit(X_train_pca, y_train)\n",
    "\n",
    "# Predict on the test data\n",
    "y_pred = best_lda.predict(X_test_pca)"
   ]
  },
  {
   "cell_type": "code",
   "execution_count": 12,
   "metadata": {},
   "outputs": [
    {
     "name": "stdout",
     "output_type": "stream",
     "text": [
      "Best LDA: PCA Testing Data\n",
      "Accuracy Score: 0.9093333333333333\n",
      "Confusion Matrix:\n",
      " [[3477  231]\n",
      " [ 449 3343]]\n",
      "AUC Score: 0.9096475461881938\n",
      "Classification Report:\n",
      "               precision    recall  f1-score   support\n",
      "\n",
      "           0       0.89      0.94      0.91      3708\n",
      "           1       0.94      0.88      0.91      3792\n",
      "\n",
      "    accuracy                           0.91      7500\n",
      "   macro avg       0.91      0.91      0.91      7500\n",
      "weighted avg       0.91      0.91      0.91      7500\n",
      "\n",
      "Weighted F1-score: 0.9092862328817355\n"
     ]
    }
   ],
   "source": [
    "# Print the accuracy score\n",
    "print(\"Best LDA: PCA Testing Data\")\n",
    "print(\"Accuracy Score:\", accuracy_score(y_test, y_pred))\n",
    "\n",
    "# Print the confusion matrix\n",
    "print(\"Confusion Matrix:\\n\", confusion_matrix(y_test, y_pred))\n",
    "\n",
    "# Print AUC score\n",
    "print(\"AUC Score:\", roc_auc_score(y_test, y_pred))\n",
    "\n",
    "# Print the classification report\n",
    "print(\"Classification Report:\\n\", classification_report(y_test, y_pred))\n",
    "\n",
    "# Print weighted F1-score\n",
    "print(\"Weighted F1-score:\", f1_score(y_test, y_pred, average='weighted'))"
   ]
  },
  {
   "cell_type": "code",
   "execution_count": 13,
   "metadata": {},
   "outputs": [
    {
     "name": "stdout",
     "output_type": "stream",
     "text": [
      "Best LDA: PCA Training Data\n",
      "Accuracy Score: 0.9122666666666667\n",
      "Confusion Matrix:\n",
      " [[10617   675]\n",
      " [ 1299  9909]]\n",
      "AUC Score: 0.9121619046210351\n",
      "Classification Report:\n",
      "               precision    recall  f1-score   support\n",
      "\n",
      "           0       0.89      0.94      0.91     11292\n",
      "           1       0.94      0.88      0.91     11208\n",
      "\n",
      "    accuracy                           0.91     22500\n",
      "   macro avg       0.91      0.91      0.91     22500\n",
      "weighted avg       0.91      0.91      0.91     22500\n",
      "\n",
      "Weighted F1-score: 0.9121900280474452\n"
     ]
    }
   ],
   "source": [
    "# Predict on training data\n",
    "y_pred_train = best_lda.predict(X_train_pca)\n",
    "\n",
    "# Print the accuracy score\n",
    "print(\"Best LDA: PCA Training Data\")\n",
    "print(\"Accuracy Score:\", accuracy_score(y_train, y_pred_train))\n",
    "\n",
    "# Print the confusion matrix\n",
    "print(\"Confusion Matrix:\\n\", confusion_matrix(y_train, y_pred_train))\n",
    "\n",
    "# Print AUC score\n",
    "print(\"AUC Score:\", roc_auc_score(y_train, y_pred_train))\n",
    "\n",
    "# Print the classification report\n",
    "print(\"Classification Report:\\n\", classification_report(y_train, y_pred_train))\n",
    "\n",
    "# Print weighted F1-score\n",
    "print(\"Weighted F1-score:\", f1_score(y_train, y_pred_train, average='weighted'))"
   ]
  }
 ],
 "metadata": {
  "kernelspec": {
   "display_name": "Python 3",
   "language": "python",
   "name": "python3"
  },
  "language_info": {
   "codemirror_mode": {
    "name": "ipython",
    "version": 3
   },
   "file_extension": ".py",
   "mimetype": "text/x-python",
   "name": "python",
   "nbconvert_exporter": "python",
   "pygments_lexer": "ipython3",
   "version": "3.10.0"
  }
 },
 "nbformat": 4,
 "nbformat_minor": 2
}
