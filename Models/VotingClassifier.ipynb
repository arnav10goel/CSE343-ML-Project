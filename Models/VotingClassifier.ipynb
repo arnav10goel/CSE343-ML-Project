{
 "cells": [
  {
   "cell_type": "code",
   "execution_count": 15,
   "id": "54f1efd0-4ad2-4d8d-b495-ed9efaba6271",
   "metadata": {
    "tags": []
   },
   "outputs": [],
   "source": [
    "from sklearn.ensemble import VotingClassifier \n",
    "from sklearn.linear_model import LogisticRegression \n",
    "from sklearn.svm import SVC \n",
    "from sklearn.tree import DecisionTreeClassifier\n",
    "from sklearn.ensemble import RandomForestClassifier\n",
    "from sklearn.datasets import load_iris \n",
    "from sklearn.naive_bayes import BernoulliNB\n",
    "from sklearn.metrics import accuracy_score \n",
    "from sklearn.model_selection import train_test_split \n",
    "import pandas as pd\n",
    "import numpy as np"
   ]
  },
  {
   "cell_type": "code",
   "execution_count": 2,
   "id": "d65855e8-225e-4918-9cd1-a6a731c824dc",
   "metadata": {
    "tags": []
   },
   "outputs": [],
   "source": [
    "# Load the TF-IDF data from CSV files\n",
    "X_train = pd.read_csv('train_tfidf.csv')\n",
    "X_test = pd.read_csv('test_tfidf.csv')\n",
    "\n",
    "X_train.drop(X_train.columns[0], axis=1, inplace=True)\n",
    "X_test.drop(X_test.columns[0], axis=1, inplace=True)\n",
    "\n",
    "# Loading the labels\n",
    "pd_train = pd.read_csv('train_labels.csv').values.ravel()\n",
    "pd_test = pd.read_csv('test_labels.csv').values.ravel()\n",
    "\n",
    "pd_train = list(pd_train)\n",
    "pd_test = list(pd_test)\n",
    "\n",
    "y_train = [1 if x == \"non-suicide\" else 0 for x in pd_train]\n",
    "y_test = [1 if x == \"non-suicide\" else 0 for x in pd_test]\n",
    "y_train = np.array(y_train)\n",
    "y_test = np.array(y_test)"
   ]
  },
  {
   "cell_type": "code",
   "execution_count": 3,
   "id": "840e53a6-2241-4026-88b1-c89543d2dea7",
   "metadata": {
    "tags": []
   },
   "outputs": [],
   "source": [
    "estimator = [] \n",
    "#estimator.append(('LR', LogisticRegression(solver ='lbfgs', multi_class ='multinomial', max_iter = 200))) \n",
    "estimator.append(('SVC', SVC(probability = True))) \n",
    "#estimator.append(('DTC', DecisionTreeClassifier())) "
   ]
  },
  {
   "cell_type": "code",
   "execution_count": 16,
   "id": "6b887428-f289-4a6a-aba2-08c1284801c1",
   "metadata": {
    "tags": []
   },
   "outputs": [],
   "source": [
    "lr_best = LogisticRegression(max_iter=1000, C = 1, penalty = 'l2', solver = 'newton-cg')\n",
    "dtclf_best = DecisionTreeClassifier(criterion='gini', max_depth=10, min_samples_leaf=1, min_samples_split=5, splitter='best')\n",
    "rf = RandomForestClassifier(criterion='entropy', max_depth=10, min_samples_leaf=2, min_samples_split=10,\n",
    "                                    n_estimators =  200)\n",
    "svc = SVC()\n",
    "best_estimator_bnb = BernoulliNB(alpha=1, binarize=None)"
   ]
  },
  {
   "cell_type": "code",
   "execution_count": 5,
   "id": "c87fb1ef-dfb6-415e-a8e5-c4950b91c950",
   "metadata": {
    "tags": []
   },
   "outputs": [
    {
     "data": {
      "text/plain": [
       "0.9150666666666667"
      ]
     },
     "execution_count": 5,
     "metadata": {},
     "output_type": "execute_result"
    }
   ],
   "source": [
    "lr_best.fit(X_train, y_train)\n",
    "accuracy_score(y_test, lr_best.predict(X_test))"
   ]
  },
  {
   "cell_type": "code",
   "execution_count": 6,
   "id": "5597a975-c04e-4c54-b5ed-6f9259964653",
   "metadata": {
    "tags": []
   },
   "outputs": [
    {
     "data": {
      "text/plain": [
       "0.8536"
      ]
     },
     "execution_count": 6,
     "metadata": {},
     "output_type": "execute_result"
    }
   ],
   "source": [
    "dtclf_best.fit(X_train, y_train)\n",
    "accuracy_score(y_test, dtclf_best.predict(X_test))"
   ]
  },
  {
   "cell_type": "code",
   "execution_count": 7,
   "id": "831a15e9-a60a-46f0-98f0-aed6cb9ddb1d",
   "metadata": {
    "tags": []
   },
   "outputs": [
    {
     "data": {
      "text/plain": [
       "0.8582666666666666"
      ]
     },
     "execution_count": 7,
     "metadata": {},
     "output_type": "execute_result"
    }
   ],
   "source": [
    "rf.fit(X_train, y_train)\n",
    "accuracy_score(y_test, rf.predict(X_test))"
   ]
  },
  {
   "cell_type": "code",
   "execution_count": 8,
   "id": "d46cdddd-4116-4562-b63f-75122d3486bb",
   "metadata": {
    "tags": []
   },
   "outputs": [
    {
     "data": {
      "text/plain": [
       "0.8713777777777778"
      ]
     },
     "execution_count": 8,
     "metadata": {},
     "output_type": "execute_result"
    }
   ],
   "source": [
    "accuracy_score(y_train, rf.predict(X_train))"
   ]
  },
  {
   "cell_type": "code",
   "execution_count": 17,
   "id": "5850ad2d-b30e-4d78-8da6-e7ad29b0b054",
   "metadata": {
    "tags": []
   },
   "outputs": [
    {
     "data": {
      "text/plain": [
       "0.8858666666666667"
      ]
     },
     "execution_count": 17,
     "metadata": {},
     "output_type": "execute_result"
    }
   ],
   "source": [
    "best_estimator_bnb.fit(X_train, y_train)\n",
    "accuracy_score(y_test, best_estimator_bnb.predict(X_test))"
   ]
  },
  {
   "cell_type": "code",
   "execution_count": 20,
   "id": "18a33ebd-600f-4ac6-a1da-2b3835e0f86c",
   "metadata": {
    "tags": []
   },
   "outputs": [
    {
     "name": "stdout",
     "output_type": "stream",
     "text": [
      "Test Accuracy: 0.9137333333333333\n"
     ]
    }
   ],
   "source": [
    "from sklearn.ensemble import StackingClassifier\n",
    "\n",
    "# Create a list of classifiers\n",
    "level0 = [('rf',rf), ('best_estimator_bnb', best_estimator_bnb)]\n",
    "level1 = lr_best\n",
    "\n",
    "# Create a stacking classifier object\n",
    "stack_clf = StackingClassifier(estimators=level0, final_estimator=level1, cv=5, n_jobs=-1, passthrough=True)\n",
    "\n",
    "# Train the classifier\n",
    "stack_clf.fit(X_train, y_train)\n",
    "\n",
    "# Predict the validation set\n",
    "y_pred = stack_clf.predict(X_test)\n",
    "\n",
    "# Calculate the accuracy\n",
    "print(\"Test Accuracy:\", accuracy_score(y_test, y_pred))"
   ]
  },
  {
   "cell_type": "code",
   "execution_count": 25,
   "id": "e8e909f0-f498-4193-b94a-a2953b0602c4",
   "metadata": {
    "tags": []
   },
   "outputs": [
    {
     "name": "stdout",
     "output_type": "stream",
     "text": [
      "Test Accuracy: 0.9142666666666667\n"
     ]
    }
   ],
   "source": [
    "# Create a voting classifier object\n",
    "from sklearn.ensemble import VotingClassifier\n",
    "\n",
    "# Create a list of classifiers\n",
    "estimators = [('lr_best', lr_best), ('stack_clf',stack_clf), ('rf', rf)]\n",
    "\n",
    "# Create a voting classifier object\n",
    "ensemble = VotingClassifier(estimators, voting='hard')\n",
    "\n",
    "# Train the classifier\n",
    "ensemble.fit(X_train, y_train)\n",
    "\n",
    "# Predict the validation set\n",
    "y_pred = ensemble.predict(X_test)\n",
    "\n",
    "# Calculate the accuracy\n",
    "print(\"Test Accuracy:\", accuracy_score(y_test, y_pred))"
   ]
  },
  {
   "cell_type": "code",
   "execution_count": null,
   "id": "81c512b5-4a77-4b68-9d49-8f903d7fe3ab",
   "metadata": {},
   "outputs": [],
   "source": []
  }
 ],
 "metadata": {
  "kernelspec": {
   "display_name": "Python 3 (ipykernel)",
   "language": "python",
   "name": "python3"
  },
  "language_info": {
   "codemirror_mode": {
    "name": "ipython",
    "version": 3
   },
   "file_extension": ".py",
   "mimetype": "text/x-python",
   "name": "python",
   "nbconvert_exporter": "python",
   "pygments_lexer": "ipython3",
   "version": "3.11.5"
  }
 },
 "nbformat": 4,
 "nbformat_minor": 5
}
