{
 "cells": [
  {
   "cell_type": "code",
   "execution_count": 1,
   "id": "54f1efd0-4ad2-4d8d-b495-ed9efaba6271",
   "metadata": {
    "tags": []
   },
   "outputs": [],
   "source": [
    "from sklearn.ensemble import VotingClassifier \n",
    "from sklearn.linear_model import LogisticRegression \n",
    "from sklearn.svm import SVC \n",
    "from sklearn.tree import DecisionTreeClassifier \n",
    "from sklearn.datasets import load_iris \n",
    "from sklearn.metrics import accuracy_score \n",
    "from sklearn.model_selection import train_test_split \n",
    "import pandas as pd\n",
    "import numpy as np"
   ]
  },
  {
   "cell_type": "code",
   "execution_count": 2,
   "id": "d65855e8-225e-4918-9cd1-a6a731c824dc",
   "metadata": {
    "tags": []
   },
   "outputs": [],
   "source": [
    "# Load the TF-IDF data from CSV files\n",
    "X_train = pd.read_csv('train_tfidf.csv')\n",
    "X_test = pd.read_csv('test_tfidf.csv')\n",
    "\n",
    "X_train.drop(X_train.columns[0], axis=1, inplace=True)\n",
    "X_test.drop(X_test.columns[0], axis=1, inplace=True)\n",
    "\n",
    "X_train = X_train.to_numpy()\n",
    "X_test = X_test.to_numpy()\n",
    "\n",
    "# Loading the labels\n",
    "pd_train = pd.read_csv('train_labels.csv').values.ravel()\n",
    "pd_test = pd.read_csv('test_labels.csv').values.ravel()\n",
    "\n",
    "pd_train = list(pd_train)\n",
    "pd_test = list(pd_test)\n",
    "\n",
    "y_train = [1 if x == \"non-suicide\" else 0 for x in pd_train]\n",
    "y_test = [1 if x == \"non-suicide\" else 0 for x in pd_test]\n",
    "y_train = np.array(y_train)\n",
    "y_test = np.array(y_test)"
   ]
  },
  {
   "cell_type": "code",
   "execution_count": 3,
   "id": "840e53a6-2241-4026-88b1-c89543d2dea7",
   "metadata": {
    "tags": []
   },
   "outputs": [],
   "source": [
    "estimator = [] \n",
    "#estimator.append(('LR', LogisticRegression(solver ='lbfgs', multi_class ='multinomial', max_iter = 200))) \n",
    "estimator.append(('SVC', SVC(probability = True))) \n",
    "#estimator.append(('DTC', DecisionTreeClassifier())) "
   ]
  },
  {
   "cell_type": "code",
   "execution_count": 4,
   "id": "6b887428-f289-4a6a-aba2-08c1284801c1",
   "metadata": {
    "tags": []
   },
   "outputs": [],
   "source": [
    "lr_best = LogisticRegression(max_iter=1000, C = 1, penalty = 'l2', solver = 'newton-cg')\n",
    "dtclf_best = DecisionTreeClassifier(criterion='gini', max_depth=10, min_samples_leaf=1, min_samples_split=5, splitter='best')\n",
    "svc = SVC()"
   ]
  },
  {
   "cell_type": "code",
   "execution_count": 5,
   "id": "18a33ebd-600f-4ac6-a1da-2b3835e0f86c",
   "metadata": {
    "tags": []
   },
   "outputs": [
    {
     "name": "stdout",
     "output_type": "stream",
     "text": [
      "Test Accuracy: 0.9156\n"
     ]
    }
   ],
   "source": [
    "from sklearn.ensemble import StackingClassifier\n",
    "\n",
    "# Create a list of classifiers\n",
    "level0 = [('lr_best', lr_best), ('dtclf_best', dtclf_best)]\n",
    "level1 = lr_best\n",
    "\n",
    "# Create a stacking classifier object\n",
    "stack_clf = StackingClassifier(estimators=level0, final_estimator=level1, cv=5, n_jobs=-1, passthrough=True)\n",
    "\n",
    "# Train the classifier\n",
    "stack_clf.fit(X_train, y_train)\n",
    "\n",
    "# Predict the validation set\n",
    "y_pred = stack_clf.predict(X_test)\n",
    "\n",
    "# Calculate the accuracy\n",
    "print(\"Test Accuracy:\", accuracy_score(y_test, y_pred))"
   ]
  },
  {
   "cell_type": "code",
   "execution_count": 6,
   "id": "e8e909f0-f498-4193-b94a-a2953b0602c4",
   "metadata": {
    "tags": []
   },
   "outputs": [
    {
     "name": "stdout",
     "output_type": "stream",
     "text": [
      "Test Accuracy: 0.9152\n"
     ]
    }
   ],
   "source": [
    "# Create a voting classifier object\n",
    "from sklearn.ensemble import VotingClassifier\n",
    "\n",
    "# Create a list of classifiers\n",
    "estimators = [('lr_best', lr_best), ('dtclf_best', dtclf_best),('svc',svc), ('stack_clf',stack_clf)]\n",
    "\n",
    "# Create a voting classifier object\n",
    "ensemble = VotingClassifier(estimators, voting='hard')\n",
    "\n",
    "# Train the classifier\n",
    "ensemble.fit(X_train, y_train)\n",
    "\n",
    "# Predict the validation set\n",
    "y_pred = ensemble.predict(X_test)\n",
    "\n",
    "# Calculate the accuracy\n",
    "print(\"Test Accuracy:\", accuracy_score(y_test, y_pred))"
   ]
  },
  {
   "cell_type": "code",
   "execution_count": null,
   "id": "81c512b5-4a77-4b68-9d49-8f903d7fe3ab",
   "metadata": {},
   "outputs": [],
   "source": []
  }
 ],
 "metadata": {
  "kernelspec": {
   "display_name": "Python 3 (ipykernel)",
   "language": "python",
   "name": "python3"
  },
  "language_info": {
   "codemirror_mode": {
    "name": "ipython",
    "version": 3
   },
   "file_extension": ".py",
   "mimetype": "text/x-python",
   "name": "python",
   "nbconvert_exporter": "python",
   "pygments_lexer": "ipython3",
   "version": "3.11.5"
  }
 },
 "nbformat": 4,
 "nbformat_minor": 5
}
