{
 "cells": [
  {
   "cell_type": "markdown",
   "metadata": {},
   "source": [
    "### Logistic Regression"
   ]
  },
  {
   "cell_type": "code",
   "execution_count": 11,
   "metadata": {},
   "outputs": [],
   "source": [
    "import numpy as np\n",
    "import pandas as pd\n",
    "import matplotlib.pyplot as plt\n",
    "\n",
    "from sklearn.linear_model import LogisticRegression\n",
    "from sklearn.model_selection import GridSearchCV\n",
    "\n",
    "from sklearn.metrics import accuracy_score, confusion_matrix, classification_report\n",
    "from sklearn.metrics import roc_curve, auc, roc_auc_score\n",
    "from sklearn.metrics import precision_recall_curve, average_precision_score\n",
    "from sklearn.metrics import f1_score\n",
    "from sklearn.preprocessing import StandardScaler\n",
    "from sklearn.decomposition import PCA"
   ]
  },
  {
   "cell_type": "code",
   "execution_count": 12,
   "metadata": {},
   "outputs": [
    {
     "name": "stdout",
     "output_type": "stream",
     "text": [
      "(22500, 512)\n",
      "(7500, 512)\n"
     ]
    }
   ],
   "source": [
    "# Open the .csv files\n",
    "X_train = pd.read_csv('/Users/arnav/Desktop/MachineLearning/ML_CSE343 Project/CSE343-ML-Project/Embeddings/train_word2vec.csv')\n",
    "X_test = pd.read_csv('/Users/arnav/Desktop/MachineLearning/ML_CSE343 Project/CSE343-ML-Project/Embeddings/test_word2vec.csv')\n",
    "\n",
    "X_train = X_train.drop(['Unnamed: 0'], axis=1)\n",
    "X_test = X_test.drop(['Unnamed: 0'], axis=1)\n",
    "\n",
    "# Check the shape of the data\n",
    "print(X_train.shape)\n",
    "print(X_test.shape)"
   ]
  },
  {
   "cell_type": "code",
   "execution_count": 13,
   "metadata": {},
   "outputs": [],
   "source": [
    "# Extract the features into a numpy array\n",
    "X_train = X_train.values\n",
    "X_test = X_test.values"
   ]
  },
  {
   "cell_type": "code",
   "execution_count": 14,
   "metadata": {},
   "outputs": [
    {
     "name": "stdout",
     "output_type": "stream",
     "text": [
      "(22500, 1)\n",
      "(7500, 1)\n"
     ]
    }
   ],
   "source": [
    "# Open the labels\n",
    "y_train_df = pd.read_csv('/Users/arnav/Desktop/MachineLearning/ML_CSE343 Project/CSE343-ML-Project/Data/Preprocessed-Data/train_labels.csv')\n",
    "y_test_df = pd.read_csv('/Users/arnav/Desktop/MachineLearning/ML_CSE343 Project/CSE343-ML-Project/Data/Preprocessed-Data/test_labels.csv')\n",
    "\n",
    "# Check the shape of the labels\n",
    "print(y_train_df.shape)\n",
    "print(y_test_df.shape)"
   ]
  },
  {
   "cell_type": "code",
   "execution_count": 15,
   "metadata": {},
   "outputs": [
    {
     "name": "stdout",
     "output_type": "stream",
     "text": [
      "(22500,)\n",
      "(7500,)\n"
     ]
    }
   ],
   "source": [
    "# Convert class to non_suicide = 0 and suicide = 1\n",
    "y_train_temp = y_train_df['class'].values\n",
    "y_test_temp = y_test_df['class'].values\n",
    "\n",
    "# Check the shape of the labels\n",
    "print(y_train_temp.shape)\n",
    "print(y_test_temp.shape)"
   ]
  },
  {
   "cell_type": "code",
   "execution_count": 16,
   "metadata": {},
   "outputs": [
    {
     "name": "stdout",
     "output_type": "stream",
     "text": [
      "(22500,)\n",
      "(7500,)\n"
     ]
    }
   ],
   "source": [
    "# Making the Labels Numeric\n",
    "y_train = np.array([0 if label == \"non-suicide\" else 1 for label in y_train_temp])\n",
    "y_test = np.array([0 if label == \"non-suicide\" else 1 for label in y_test_temp])\n",
    "\n",
    "# Check the shape of the labels\n",
    "print(y_train.shape)\n",
    "print(y_test.shape)\n"
   ]
  },
  {
   "cell_type": "code",
   "execution_count": 17,
   "metadata": {},
   "outputs": [
    {
     "name": "stdout",
     "output_type": "stream",
     "text": [
      "0.0029877624999040935 0.18965241040518302\n"
     ]
    }
   ],
   "source": [
    "# Standard Preprocessing\n",
    "# Check the mean and standard deviation of the data\n",
    "print(np.mean(X_train), np.std(X_train))"
   ]
  },
  {
   "cell_type": "markdown",
   "metadata": {},
   "source": [
    "### Without Hyperparameter Tuning"
   ]
  },
  {
   "cell_type": "code",
   "execution_count": 18,
   "metadata": {},
   "outputs": [
    {
     "name": "stderr",
     "output_type": "stream",
     "text": [
      "/Library/Frameworks/Python.framework/Versions/3.10/lib/python3.10/site-packages/sklearn/linear_model/_logistic.py:460: ConvergenceWarning: lbfgs failed to converge (status=1):\n",
      "STOP: TOTAL NO. of ITERATIONS REACHED LIMIT.\n",
      "\n",
      "Increase the number of iterations (max_iter) or scale the data as shown in:\n",
      "    https://scikit-learn.org/stable/modules/preprocessing.html\n",
      "Please also refer to the documentation for alternative solver options:\n",
      "    https://scikit-learn.org/stable/modules/linear_model.html#logistic-regression\n",
      "  n_iter_i = _check_optimize_result(\n"
     ]
    }
   ],
   "source": [
    "# Logistic Regression\n",
    "lr_base = LogisticRegression()\n",
    "\n",
    "# Fit\n",
    "lr_base.fit(X_train, y_train)\n",
    "\n",
    "# Predict\n",
    "y_pred = lr_base.predict(X_test)"
   ]
  },
  {
   "cell_type": "code",
   "execution_count": 19,
   "metadata": {},
   "outputs": [
    {
     "name": "stdout",
     "output_type": "stream",
     "text": [
      "Base Logistic Regression: Test Data\n",
      "Accuracy: 0.8982666666666667\n",
      "Confusion Matrix:\n",
      "[[3245  463]\n",
      " [ 300 3492]]\n",
      "Classification Report:\n",
      "              precision    recall  f1-score   support\n",
      "\n",
      "           0       0.92      0.88      0.89      3708\n",
      "           1       0.88      0.92      0.90      3792\n",
      "\n",
      "    accuracy                           0.90      7500\n",
      "   macro avg       0.90      0.90      0.90      7500\n",
      "weighted avg       0.90      0.90      0.90      7500\n",
      "\n",
      "AUC Score: 0.8980104597654063\n",
      "Weighted F1-score: 0.8981937718582631\n",
      "Macro F1 Score: 0.8981562064355275\n"
     ]
    }
   ],
   "source": [
    "# Print the accuracy\n",
    "print(\"Base Logistic Regression: Test Data\")\n",
    "print(\"Accuracy:\", accuracy_score(y_test, y_pred))\n",
    "\n",
    "# Print the confusion matrix\n",
    "print(\"Confusion Matrix:\")\n",
    "print(confusion_matrix(y_test, y_pred))\n",
    "\n",
    "# Print the classification report\n",
    "print(\"Classification Report:\")\n",
    "print(classification_report(y_test, y_pred))\n",
    "\n",
    "# Print AUC score\n",
    "print(\"AUC Score:\", roc_auc_score(y_test, y_pred))\n",
    "\n",
    "# Print weighted F1-score\n",
    "print(\"Weighted F1-score:\", f1_score(y_test, y_pred, average='weighted'))\n",
    "\n",
    "# Calculate macro F1 Score\n",
    "macro_f1 = f1_score(y_test, y_pred, average='macro')\n",
    "\n",
    "# Print Macro F1 Score\n",
    "print(f'Macro F1 Score: {macro_f1}')"
   ]
  },
  {
   "cell_type": "code",
   "execution_count": 20,
   "metadata": {},
   "outputs": [
    {
     "name": "stdout",
     "output_type": "stream",
     "text": [
      "Base Logistic Regression: Training Data\n",
      "Accuracy: 0.8900888888888889\n",
      "Confusion Matrix:\n",
      "[[ 9876  1416]\n",
      " [ 1057 10151]]\n",
      "Classification Report:\n",
      "              precision    recall  f1-score   support\n",
      "\n",
      "           0       0.90      0.87      0.89     11292\n",
      "           1       0.88      0.91      0.89     11208\n",
      "\n",
      "    accuracy                           0.89     22500\n",
      "   macro avg       0.89      0.89      0.89     22500\n",
      "weighted avg       0.89      0.89      0.89     22500\n",
      "\n",
      "AUC Score: 0.8901469251885513\n",
      "Weighted F1-score: 0.8900674516629439\n"
     ]
    }
   ],
   "source": [
    "# Predict on training data\n",
    "y_pred_train = lr_base.predict(X_train)\n",
    "\n",
    "# Print the accuracy\n",
    "print(\"Base Logistic Regression: Training Data\")\n",
    "print(\"Accuracy:\", accuracy_score(y_train, y_pred_train))\n",
    "\n",
    "# Print the confusion matrix\n",
    "print(\"Confusion Matrix:\")\n",
    "print(confusion_matrix(y_train, y_pred_train))\n",
    "\n",
    "# Print the classification report\n",
    "print(\"Classification Report:\")\n",
    "print(classification_report(y_train, y_pred_train))\n",
    "\n",
    "# Print AUC score\n",
    "print(\"AUC Score:\", roc_auc_score(y_train, y_pred_train))\n",
    "\n",
    "# Print weighted F1-score\n",
    "print(\"Weighted F1-score:\", f1_score(y_train, y_pred_train, average='weighted'))"
   ]
  },
  {
   "cell_type": "code",
   "execution_count": 21,
   "metadata": {},
   "outputs": [
    {
     "name": "stdout",
     "output_type": "stream",
     "text": [
      "Fitting 5 folds for each of 40 candidates, totalling 200 fits\n",
      "[CV] END ...............C=0.01, penalty=l1, solver=newton-cg; total time=   0.3s\n",
      "[CV] END ...............C=0.01, penalty=l1, solver=newton-cg; total time=   0.3s\n",
      "[CV] END ...................C=0.01, penalty=l1, solver=lbfgs; total time=   0.3s\n",
      "[CV] END ...............C=0.01, penalty=l1, solver=newton-cg; total time=   0.3s\n",
      "[CV] END ...............C=0.01, penalty=l1, solver=newton-cg; total time=   0.3s\n",
      "[CV] END ...................C=0.01, penalty=l1, solver=lbfgs; total time=   0.3s\n",
      "[CV] END ...................C=0.01, penalty=l1, solver=lbfgs; total time=   0.3s\n",
      "[CV] END ...............C=0.01, penalty=l1, solver=newton-cg; total time=   0.4s\n",
      "[CV] END ...................C=0.01, penalty=l1, solver=lbfgs; total time=   0.1s\n",
      "[CV] END ...................C=0.01, penalty=l1, solver=lbfgs; total time=   0.2s\n",
      "[CV] END ...............C=0.01, penalty=l1, solver=liblinear; total time=   4.0s\n",
      "[CV] END ...............C=0.01, penalty=l1, solver=liblinear; total time=   4.0s\n",
      "[CV] END ...............C=0.01, penalty=l1, solver=liblinear; total time=   4.3s\n",
      "[CV] END ...............C=0.01, penalty=l1, solver=liblinear; total time=   4.4s\n",
      "[CV] END ...............C=0.01, penalty=l1, solver=liblinear; total time=   4.5s\n",
      "[CV] END ...............C=0.01, penalty=l2, solver=newton-cg; total time=   3.6s\n",
      "[CV] END ...............C=0.01, penalty=l2, solver=newton-cg; total time=   3.5s\n",
      "[CV] END ...............C=0.01, penalty=l2, solver=newton-cg; total time=   3.7s\n",
      "[CV] END ...................C=0.01, penalty=l2, solver=lbfgs; total time=   1.0s\n",
      "[CV] END ...................C=0.01, penalty=l2, solver=lbfgs; total time=   0.8s\n",
      "[CV] END ...............C=0.01, penalty=l2, solver=newton-cg; total time=   2.7s\n",
      "[CV] END ...................C=0.01, penalty=l2, solver=lbfgs; total time=   0.9s\n",
      "[CV] END ...............C=0.01, penalty=l2, solver=newton-cg; total time=   3.0s\n",
      "[CV] END ...................C=0.01, penalty=l2, solver=lbfgs; total time=   0.7s\n",
      "[CV] END ...................C=0.01, penalty=l2, solver=lbfgs; total time=   0.8s\n",
      "[CV] END ...............C=0.01, penalty=l2, solver=liblinear; total time=   5.6s\n",
      "[CV] END ...............C=0.01, penalty=l2, solver=liblinear; total time=   6.7s\n",
      "[CV] END ...............C=0.01, penalty=l2, solver=liblinear; total time=   7.3s\n",
      "[CV] END ...............C=0.01, penalty=l2, solver=liblinear; total time=   3.9s\n",
      "[CV] END ...............C=0.01, penalty=l2, solver=liblinear; total time=   3.3s\n",
      "[CV] END ....................C=0.01, penalty=l2, solver=saga; total time=   4.4s\n",
      "[CV] END ....................C=0.01, penalty=l2, solver=saga; total time=   4.2s\n",
      "[CV] END ....................C=0.01, penalty=l2, solver=saga; total time=   3.9s\n",
      "[CV] END ................C=0.1, penalty=l1, solver=newton-cg; total time=   0.1s\n",
      "[CV] END ................C=0.1, penalty=l1, solver=newton-cg; total time=   0.1s\n",
      "[CV] END ................C=0.1, penalty=l1, solver=newton-cg; total time=   0.1s\n",
      "[CV] END ................C=0.1, penalty=l1, solver=newton-cg; total time=   0.1s\n",
      "[CV] END ................C=0.1, penalty=l1, solver=newton-cg; total time=   0.1s\n",
      "[CV] END ....................C=0.1, penalty=l1, solver=lbfgs; total time=   0.1s\n",
      "[CV] END ....................C=0.1, penalty=l1, solver=lbfgs; total time=   0.1s\n",
      "[CV] END ....................C=0.1, penalty=l1, solver=lbfgs; total time=   0.1s\n",
      "[CV] END ....................C=0.1, penalty=l1, solver=lbfgs; total time=   0.1s\n",
      "[CV] END ....................C=0.1, penalty=l1, solver=lbfgs; total time=   0.1s\n",
      "[CV] END ....................C=0.01, penalty=l2, solver=saga; total time=   3.9s\n",
      "[CV] END ....................C=0.01, penalty=l2, solver=saga; total time=   4.2s\n",
      "[CV] END ................C=0.1, penalty=l1, solver=liblinear; total time=   2.7s\n",
      "[CV] END ....................C=0.01, penalty=l1, solver=saga; total time=  29.5s\n",
      "[CV] END ................C=0.1, penalty=l1, solver=liblinear; total time=   3.9s\n",
      "[CV] END ................C=0.1, penalty=l1, solver=liblinear; total time=   3.6s\n",
      "[CV] END ................C=0.1, penalty=l1, solver=liblinear; total time=   3.3s\n",
      "[CV] END ................C=0.1, penalty=l1, solver=liblinear; total time=   4.4s\n",
      "[CV] END ....................C=0.01, penalty=l1, solver=saga; total time=  31.9s\n",
      "[CV] END ....................C=0.01, penalty=l1, solver=saga; total time=  32.1s\n",
      "[CV] END ....................C=0.01, penalty=l1, solver=saga; total time=  37.2s\n",
      "[CV] END ....................C=0.01, penalty=l1, solver=saga; total time=  37.0s\n",
      "[CV] END ................C=0.1, penalty=l2, solver=newton-cg; total time=   3.5s\n",
      "[CV] END ................C=0.1, penalty=l2, solver=newton-cg; total time=   4.0s\n",
      "[CV] END ................C=0.1, penalty=l2, solver=newton-cg; total time=   4.5s\n",
      "[CV] END ....................C=0.1, penalty=l2, solver=lbfgs; total time=   1.8s\n",
      "[CV] END ................C=0.1, penalty=l2, solver=newton-cg; total time=   3.9s\n",
      "[CV] END ................C=0.1, penalty=l2, solver=newton-cg; total time=   3.7s\n",
      "[CV] END ....................C=0.1, penalty=l2, solver=lbfgs; total time=   2.0s\n",
      "[CV] END ....................C=0.1, penalty=l2, solver=lbfgs; total time=   1.9s\n",
      "[CV] END ....................C=0.1, penalty=l2, solver=lbfgs; total time=   1.3s\n",
      "[CV] END ....................C=0.1, penalty=l2, solver=lbfgs; total time=   1.9s\n",
      "[CV] END ................C=0.1, penalty=l2, solver=liblinear; total time=   5.0s\n",
      "[CV] END ................C=0.1, penalty=l2, solver=liblinear; total time=   8.6s\n",
      "[CV] END ................C=0.1, penalty=l2, solver=liblinear; total time=   8.0s\n",
      "[CV] END ................C=0.1, penalty=l2, solver=liblinear; total time=   7.1s\n",
      "[CV] END ................C=0.1, penalty=l2, solver=liblinear; total time=   3.8s\n",
      "[CV] END .....................C=0.1, penalty=l2, solver=saga; total time=   9.4s\n",
      "[CV] END .....................C=0.1, penalty=l2, solver=saga; total time=   9.3s\n",
      "[CV] END .....................C=0.1, penalty=l2, solver=saga; total time=   9.1s\n",
      "[CV] END ..................C=1, penalty=l1, solver=newton-cg; total time=   0.2s\n",
      "[CV] END ..................C=1, penalty=l1, solver=newton-cg; total time=   0.2s\n",
      "[CV] END ..................C=1, penalty=l1, solver=newton-cg; total time=   0.2s\n",
      "[CV] END ..................C=1, penalty=l1, solver=newton-cg; total time=   0.1s\n",
      "[CV] END ..................C=1, penalty=l1, solver=newton-cg; total time=   0.1s\n",
      "[CV] END ......................C=1, penalty=l1, solver=lbfgs; total time=   0.1s\n",
      "[CV] END ......................C=1, penalty=l1, solver=lbfgs; total time=   0.1s\n",
      "[CV] END ......................C=1, penalty=l1, solver=lbfgs; total time=   0.1s\n",
      "[CV] END ......................C=1, penalty=l1, solver=lbfgs; total time=   0.1s\n",
      "[CV] END ......................C=1, penalty=l1, solver=lbfgs; total time=   0.1s\n",
      "[CV] END .....................C=0.1, penalty=l2, solver=saga; total time=   9.2s\n",
      "[CV] END .....................C=0.1, penalty=l2, solver=saga; total time=   9.7s\n",
      "[CV] END ..................C=1, penalty=l1, solver=liblinear; total time=   8.1s\n",
      "[CV] END ..................C=1, penalty=l1, solver=liblinear; total time=   8.8s\n",
      "[CV] END ..................C=1, penalty=l1, solver=liblinear; total time=   7.9s\n",
      "[CV] END ..................C=1, penalty=l1, solver=liblinear; total time=   8.9s\n",
      "[CV] END ..................C=1, penalty=l1, solver=liblinear; total time=   7.4s\n",
      "[CV] END .....................C=0.1, penalty=l1, solver=saga; total time= 1.6min\n",
      "[CV] END .....................C=0.1, penalty=l1, solver=saga; total time= 1.9min\n",
      "[CV] END .....................C=0.1, penalty=l1, solver=saga; total time= 2.0min\n",
      "[CV] END ..................C=1, penalty=l2, solver=newton-cg; total time=   4.1s\n",
      "[CV] END ..................C=1, penalty=l2, solver=newton-cg; total time=   4.5s\n",
      "[CV] END .....................C=0.1, penalty=l1, solver=saga; total time= 2.2min\n",
      "[CV] END ..................C=1, penalty=l2, solver=newton-cg; total time=   5.4s\n",
      "[CV] END ..................C=1, penalty=l2, solver=newton-cg; total time=   5.6s\n",
      "[CV] END .....................C=0.1, penalty=l1, solver=saga; total time= 2.3min\n",
      "[CV] END ..................C=1, penalty=l2, solver=newton-cg; total time=   6.0s\n",
      "[CV] END ......................C=1, penalty=l2, solver=lbfgs; total time=   6.1s\n",
      "[CV] END ......................C=1, penalty=l2, solver=lbfgs; total time=   6.0s\n",
      "[CV] END ......................C=1, penalty=l2, solver=lbfgs; total time=   4.9s\n",
      "[CV] END ......................C=1, penalty=l2, solver=lbfgs; total time=   6.1s\n",
      "[CV] END ......................C=1, penalty=l2, solver=lbfgs; total time=   5.9s\n",
      "[CV] END ..................C=1, penalty=l2, solver=liblinear; total time=   7.7s\n",
      "[CV] END ..................C=1, penalty=l2, solver=liblinear; total time=   7.4s\n",
      "[CV] END ..................C=1, penalty=l2, solver=liblinear; total time=   6.5s\n",
      "[CV] END ..................C=1, penalty=l2, solver=liblinear; total time=   6.1s\n",
      "[CV] END ..................C=1, penalty=l2, solver=liblinear; total time=   6.2s\n",
      "[CV] END .......................C=1, penalty=l2, solver=saga; total time=  40.3s\n",
      "[CV] END .......................C=1, penalty=l2, solver=saga; total time=  38.1s\n",
      "[CV] END .......................C=1, penalty=l2, solver=saga; total time=  40.3s\n",
      "[CV] END .................C=10, penalty=l1, solver=newton-cg; total time=   0.1s\n",
      "[CV] END .................C=10, penalty=l1, solver=newton-cg; total time=   0.1s\n",
      "[CV] END .................C=10, penalty=l1, solver=newton-cg; total time=   0.1s\n",
      "[CV] END .................C=10, penalty=l1, solver=newton-cg; total time=   0.1s\n",
      "[CV] END .................C=10, penalty=l1, solver=newton-cg; total time=   0.1s\n",
      "[CV] END .....................C=10, penalty=l1, solver=lbfgs; total time=   0.1s\n",
      "[CV] END .....................C=10, penalty=l1, solver=lbfgs; total time=   0.1s\n",
      "[CV] END .....................C=10, penalty=l1, solver=lbfgs; total time=   0.1s\n",
      "[CV] END .....................C=10, penalty=l1, solver=lbfgs; total time=   0.1s\n",
      "[CV] END .....................C=10, penalty=l1, solver=lbfgs; total time=   0.1s\n",
      "[CV] END .......................C=1, penalty=l2, solver=saga; total time=  42.6s\n",
      "[CV] END .......................C=1, penalty=l2, solver=saga; total time=  42.6s\n",
      "[CV] END .................C=10, penalty=l1, solver=liblinear; total time= 1.2min\n"
     ]
    },
    {
     "name": "stderr",
     "output_type": "stream",
     "text": [
      "/Library/Frameworks/Python.framework/Versions/3.10/lib/python3.10/site-packages/sklearn/linear_model/_sag.py:350: ConvergenceWarning: The max_iter was reached which means the coef_ did not converge\n",
      "  warnings.warn(\n",
      "/Library/Frameworks/Python.framework/Versions/3.10/lib/python3.10/site-packages/sklearn/linear_model/_sag.py:350: ConvergenceWarning: The max_iter was reached which means the coef_ did not converge\n",
      "  warnings.warn(\n"
     ]
    },
    {
     "name": "stdout",
     "output_type": "stream",
     "text": [
      "[CV] END .......................C=1, penalty=l1, solver=saga; total time= 4.3min\n",
      "[CV] END .......................C=1, penalty=l1, solver=saga; total time= 4.3min\n"
     ]
    },
    {
     "name": "stderr",
     "output_type": "stream",
     "text": [
      "/Library/Frameworks/Python.framework/Versions/3.10/lib/python3.10/site-packages/sklearn/linear_model/_sag.py:350: ConvergenceWarning: The max_iter was reached which means the coef_ did not converge\n",
      "  warnings.warn(\n"
     ]
    },
    {
     "name": "stdout",
     "output_type": "stream",
     "text": [
      "[CV] END .......................C=1, penalty=l1, solver=saga; total time= 4.3min\n",
      "[CV] END .................C=10, penalty=l1, solver=liblinear; total time= 1.5min\n",
      "[CV] END .................C=10, penalty=l1, solver=liblinear; total time= 1.7min\n"
     ]
    },
    {
     "name": "stderr",
     "output_type": "stream",
     "text": [
      "/Library/Frameworks/Python.framework/Versions/3.10/lib/python3.10/site-packages/sklearn/linear_model/_sag.py:350: ConvergenceWarning: The max_iter was reached which means the coef_ did not converge\n",
      "  warnings.warn(\n"
     ]
    },
    {
     "name": "stdout",
     "output_type": "stream",
     "text": [
      "[CV] END .......................C=1, penalty=l1, solver=saga; total time= 4.3min\n",
      "[CV] END .................C=10, penalty=l1, solver=liblinear; total time= 1.6min\n",
      "[CV] END .................C=10, penalty=l2, solver=newton-cg; total time=   7.9s\n"
     ]
    },
    {
     "name": "stderr",
     "output_type": "stream",
     "text": [
      "/Library/Frameworks/Python.framework/Versions/3.10/lib/python3.10/site-packages/sklearn/linear_model/_sag.py:350: ConvergenceWarning: The max_iter was reached which means the coef_ did not converge\n",
      "  warnings.warn(\n"
     ]
    },
    {
     "name": "stdout",
     "output_type": "stream",
     "text": [
      "[CV] END .......................C=1, penalty=l1, solver=saga; total time= 4.5min\n",
      "[CV] END .................C=10, penalty=l2, solver=newton-cg; total time=   9.3s\n",
      "[CV] END .................C=10, penalty=l2, solver=newton-cg; total time=   9.7s\n",
      "[CV] END .................C=10, penalty=l2, solver=newton-cg; total time=  10.7s\n",
      "[CV] END .................C=10, penalty=l2, solver=newton-cg; total time=  10.7s\n",
      "[CV] END .....................C=10, penalty=l2, solver=lbfgs; total time=  12.9s\n",
      "[CV] END .....................C=10, penalty=l2, solver=lbfgs; total time=  15.3s\n",
      "[CV] END .....................C=10, penalty=l2, solver=lbfgs; total time=  14.1s\n",
      "[CV] END .................C=10, penalty=l1, solver=liblinear; total time= 2.0min\n",
      "[CV] END .....................C=10, penalty=l2, solver=lbfgs; total time=  14.4s\n",
      "[CV] END .....................C=10, penalty=l2, solver=lbfgs; total time=  15.4s\n",
      "[CV] END .................C=10, penalty=l2, solver=liblinear; total time=  18.5s\n",
      "[CV] END .................C=10, penalty=l2, solver=liblinear; total time=  20.1s\n",
      "[CV] END .................C=10, penalty=l2, solver=liblinear; total time=  15.9s\n",
      "[CV] END .................C=10, penalty=l2, solver=liblinear; total time=  18.5s\n",
      "[CV] END .................C=10, penalty=l2, solver=liblinear; total time=  15.0s\n"
     ]
    },
    {
     "name": "stderr",
     "output_type": "stream",
     "text": [
      "/Library/Frameworks/Python.framework/Versions/3.10/lib/python3.10/site-packages/sklearn/linear_model/_sag.py:350: ConvergenceWarning: The max_iter was reached which means the coef_ did not converge\n",
      "  warnings.warn(\n"
     ]
    },
    {
     "name": "stdout",
     "output_type": "stream",
     "text": [
      "[CV] END ......................C=10, penalty=l2, solver=saga; total time= 2.5min\n"
     ]
    },
    {
     "name": "stderr",
     "output_type": "stream",
     "text": [
      "/Library/Frameworks/Python.framework/Versions/3.10/lib/python3.10/site-packages/sklearn/linear_model/_sag.py:350: ConvergenceWarning: The max_iter was reached which means the coef_ did not converge\n",
      "  warnings.warn(\n"
     ]
    },
    {
     "name": "stdout",
     "output_type": "stream",
     "text": [
      "[CV] END ......................C=10, penalty=l1, solver=saga; total time= 5.1min\n"
     ]
    },
    {
     "name": "stderr",
     "output_type": "stream",
     "text": [
      "/Library/Frameworks/Python.framework/Versions/3.10/lib/python3.10/site-packages/sklearn/linear_model/_sag.py:350: ConvergenceWarning: The max_iter was reached which means the coef_ did not converge\n",
      "  warnings.warn(\n"
     ]
    },
    {
     "name": "stdout",
     "output_type": "stream",
     "text": [
      "[CV] END ......................C=10, penalty=l2, solver=saga; total time= 2.5min\n",
      "[CV] END ................C=100, penalty=l1, solver=newton-cg; total time=   0.1s\n",
      "[CV] END ................C=100, penalty=l1, solver=newton-cg; total time=   0.1s\n",
      "[CV] END ................C=100, penalty=l1, solver=newton-cg; total time=   0.1s\n",
      "[CV] END ......................C=10, penalty=l1, solver=saga; total time= 5.0min\n",
      "[CV] END ................C=100, penalty=l1, solver=newton-cg; total time=   0.1s\n",
      "[CV] END ....................C=100, penalty=l1, solver=lbfgs; total time=   0.1s\n",
      "[CV] END ................C=100, penalty=l1, solver=newton-cg; total time=   0.1s\n"
     ]
    },
    {
     "name": "stderr",
     "output_type": "stream",
     "text": [
      "/Library/Frameworks/Python.framework/Versions/3.10/lib/python3.10/site-packages/sklearn/linear_model/_sag.py:350: ConvergenceWarning: The max_iter was reached which means the coef_ did not converge\n",
      "  warnings.warn(\n"
     ]
    },
    {
     "name": "stdout",
     "output_type": "stream",
     "text": [
      "[CV] END ....................C=100, penalty=l1, solver=lbfgs; total time=   0.1s\n",
      "[CV] END ....................C=100, penalty=l1, solver=lbfgs; total time=   0.1s\n",
      "[CV] END ....................C=100, penalty=l1, solver=lbfgs; total time=   0.1s\n",
      "[CV] END ....................C=100, penalty=l1, solver=lbfgs; total time=   0.3s\n"
     ]
    },
    {
     "name": "stderr",
     "output_type": "stream",
     "text": [
      "/Library/Frameworks/Python.framework/Versions/3.10/lib/python3.10/site-packages/sklearn/linear_model/_sag.py:350: ConvergenceWarning: The max_iter was reached which means the coef_ did not converge\n",
      "  warnings.warn(\n"
     ]
    },
    {
     "name": "stdout",
     "output_type": "stream",
     "text": [
      "[CV] END ......................C=10, penalty=l2, solver=saga; total time= 2.5min\n"
     ]
    },
    {
     "name": "stderr",
     "output_type": "stream",
     "text": [
      "/Library/Frameworks/Python.framework/Versions/3.10/lib/python3.10/site-packages/sklearn/linear_model/_sag.py:350: ConvergenceWarning: The max_iter was reached which means the coef_ did not converge\n",
      "  warnings.warn(\n"
     ]
    },
    {
     "name": "stdout",
     "output_type": "stream",
     "text": [
      "[CV] END ......................C=10, penalty=l1, solver=saga; total time= 5.0min\n"
     ]
    },
    {
     "name": "stderr",
     "output_type": "stream",
     "text": [
      "/Library/Frameworks/Python.framework/Versions/3.10/lib/python3.10/site-packages/sklearn/linear_model/_sag.py:350: ConvergenceWarning: The max_iter was reached which means the coef_ did not converge\n",
      "  warnings.warn(\n"
     ]
    },
    {
     "name": "stdout",
     "output_type": "stream",
     "text": [
      "[CV] END ......................C=10, penalty=l1, solver=saga; total time= 5.1min\n"
     ]
    },
    {
     "name": "stderr",
     "output_type": "stream",
     "text": [
      "/Library/Frameworks/Python.framework/Versions/3.10/lib/python3.10/site-packages/sklearn/linear_model/_sag.py:350: ConvergenceWarning: The max_iter was reached which means the coef_ did not converge\n",
      "  warnings.warn(\n"
     ]
    },
    {
     "name": "stdout",
     "output_type": "stream",
     "text": [
      "[CV] END ......................C=10, penalty=l1, solver=saga; total time= 5.4min\n"
     ]
    },
    {
     "name": "stderr",
     "output_type": "stream",
     "text": [
      "/Library/Frameworks/Python.framework/Versions/3.10/lib/python3.10/site-packages/sklearn/linear_model/_sag.py:350: ConvergenceWarning: The max_iter was reached which means the coef_ did not converge\n",
      "  warnings.warn(\n"
     ]
    },
    {
     "name": "stdout",
     "output_type": "stream",
     "text": [
      "[CV] END ......................C=10, penalty=l2, solver=saga; total time= 3.8min\n"
     ]
    },
    {
     "name": "stderr",
     "output_type": "stream",
     "text": [
      "/Library/Frameworks/Python.framework/Versions/3.10/lib/python3.10/site-packages/sklearn/linear_model/_sag.py:350: ConvergenceWarning: The max_iter was reached which means the coef_ did not converge\n",
      "  warnings.warn(\n"
     ]
    },
    {
     "name": "stdout",
     "output_type": "stream",
     "text": [
      "[CV] END ......................C=10, penalty=l2, solver=saga; total time= 3.8min\n"
     ]
    },
    {
     "name": "stderr",
     "output_type": "stream",
     "text": [
      "/Library/Frameworks/Python.framework/Versions/3.10/lib/python3.10/site-packages/sklearn/linear_model/_sag.py:350: ConvergenceWarning: The max_iter was reached which means the coef_ did not converge\n",
      "  warnings.warn(\n"
     ]
    },
    {
     "name": "stdout",
     "output_type": "stream",
     "text": [
      "[CV] END .....................C=100, penalty=l1, solver=saga; total time= 5.3min\n"
     ]
    },
    {
     "name": "stderr",
     "output_type": "stream",
     "text": [
      "/Library/Frameworks/Python.framework/Versions/3.10/lib/python3.10/site-packages/sklearn/linear_model/_sag.py:350: ConvergenceWarning: The max_iter was reached which means the coef_ did not converge\n",
      "  warnings.warn(\n"
     ]
    },
    {
     "name": "stdout",
     "output_type": "stream",
     "text": [
      "[CV] END .....................C=100, penalty=l1, solver=saga; total time= 5.2min\n"
     ]
    },
    {
     "name": "stderr",
     "output_type": "stream",
     "text": [
      "/Library/Frameworks/Python.framework/Versions/3.10/lib/python3.10/site-packages/sklearn/linear_model/_sag.py:350: ConvergenceWarning: The max_iter was reached which means the coef_ did not converge\n",
      "  warnings.warn(\n"
     ]
    },
    {
     "name": "stdout",
     "output_type": "stream",
     "text": [
      "[CV] END .....................C=100, penalty=l1, solver=saga; total time= 5.3min\n",
      "[CV] END ................C=100, penalty=l2, solver=newton-cg; total time=  33.6s\n",
      "[CV] END ................C=100, penalty=l2, solver=newton-cg; total time=  32.5s\n",
      "[CV] END ................C=100, penalty=l2, solver=newton-cg; total time=  34.1s\n",
      "[CV] END ................C=100, penalty=l2, solver=newton-cg; total time=  36.3s\n",
      "[CV] END ................C=100, penalty=l2, solver=newton-cg; total time=  33.1s\n"
     ]
    },
    {
     "name": "stderr",
     "output_type": "stream",
     "text": [
      "/Library/Frameworks/Python.framework/Versions/3.10/lib/python3.10/site-packages/sklearn/linear_model/_logistic.py:460: ConvergenceWarning: lbfgs failed to converge (status=1):\n",
      "STOP: TOTAL NO. of ITERATIONS REACHED LIMIT.\n",
      "\n",
      "Increase the number of iterations (max_iter) or scale the data as shown in:\n",
      "    https://scikit-learn.org/stable/modules/preprocessing.html\n",
      "Please also refer to the documentation for alternative solver options:\n",
      "    https://scikit-learn.org/stable/modules/linear_model.html#logistic-regression\n",
      "  n_iter_i = _check_optimize_result(\n"
     ]
    },
    {
     "name": "stdout",
     "output_type": "stream",
     "text": [
      "[CV] END ....................C=100, penalty=l2, solver=lbfgs; total time=  25.0s\n"
     ]
    },
    {
     "name": "stderr",
     "output_type": "stream",
     "text": [
      "/Library/Frameworks/Python.framework/Versions/3.10/lib/python3.10/site-packages/sklearn/linear_model/_sag.py:350: ConvergenceWarning: The max_iter was reached which means the coef_ did not converge\n",
      "  warnings.warn(\n"
     ]
    },
    {
     "name": "stdout",
     "output_type": "stream",
     "text": [
      "[CV] END .....................C=100, penalty=l1, solver=saga; total time= 6.1min\n"
     ]
    },
    {
     "name": "stderr",
     "output_type": "stream",
     "text": [
      "/Library/Frameworks/Python.framework/Versions/3.10/lib/python3.10/site-packages/sklearn/linear_model/_logistic.py:460: ConvergenceWarning: lbfgs failed to converge (status=1):\n",
      "STOP: TOTAL NO. of ITERATIONS REACHED LIMIT.\n",
      "\n",
      "Increase the number of iterations (max_iter) or scale the data as shown in:\n",
      "    https://scikit-learn.org/stable/modules/preprocessing.html\n",
      "Please also refer to the documentation for alternative solver options:\n",
      "    https://scikit-learn.org/stable/modules/linear_model.html#logistic-regression\n",
      "  n_iter_i = _check_optimize_result(\n"
     ]
    },
    {
     "name": "stdout",
     "output_type": "stream",
     "text": [
      "[CV] END ....................C=100, penalty=l2, solver=lbfgs; total time=  28.0s\n"
     ]
    },
    {
     "name": "stderr",
     "output_type": "stream",
     "text": [
      "/Library/Frameworks/Python.framework/Versions/3.10/lib/python3.10/site-packages/sklearn/linear_model/_logistic.py:460: ConvergenceWarning: lbfgs failed to converge (status=1):\n",
      "STOP: TOTAL NO. of ITERATIONS REACHED LIMIT.\n",
      "\n",
      "Increase the number of iterations (max_iter) or scale the data as shown in:\n",
      "    https://scikit-learn.org/stable/modules/preprocessing.html\n",
      "Please also refer to the documentation for alternative solver options:\n",
      "    https://scikit-learn.org/stable/modules/linear_model.html#logistic-regression\n",
      "  n_iter_i = _check_optimize_result(\n"
     ]
    },
    {
     "name": "stdout",
     "output_type": "stream",
     "text": [
      "[CV] END ....................C=100, penalty=l2, solver=lbfgs; total time=  29.8s\n"
     ]
    },
    {
     "name": "stderr",
     "output_type": "stream",
     "text": [
      "/Library/Frameworks/Python.framework/Versions/3.10/lib/python3.10/site-packages/sklearn/linear_model/_logistic.py:460: ConvergenceWarning: lbfgs failed to converge (status=1):\n",
      "STOP: TOTAL NO. of ITERATIONS REACHED LIMIT.\n",
      "\n",
      "Increase the number of iterations (max_iter) or scale the data as shown in:\n",
      "    https://scikit-learn.org/stable/modules/preprocessing.html\n",
      "Please also refer to the documentation for alternative solver options:\n",
      "    https://scikit-learn.org/stable/modules/linear_model.html#logistic-regression\n",
      "  n_iter_i = _check_optimize_result(\n"
     ]
    },
    {
     "name": "stdout",
     "output_type": "stream",
     "text": [
      "[CV] END ....................C=100, penalty=l2, solver=lbfgs; total time=  30.3s\n"
     ]
    },
    {
     "name": "stderr",
     "output_type": "stream",
     "text": [
      "/Library/Frameworks/Python.framework/Versions/3.10/lib/python3.10/site-packages/sklearn/linear_model/_logistic.py:460: ConvergenceWarning: lbfgs failed to converge (status=1):\n",
      "STOP: TOTAL NO. of ITERATIONS REACHED LIMIT.\n",
      "\n",
      "Increase the number of iterations (max_iter) or scale the data as shown in:\n",
      "    https://scikit-learn.org/stable/modules/preprocessing.html\n",
      "Please also refer to the documentation for alternative solver options:\n",
      "    https://scikit-learn.org/stable/modules/linear_model.html#logistic-regression\n",
      "  n_iter_i = _check_optimize_result(\n"
     ]
    },
    {
     "name": "stdout",
     "output_type": "stream",
     "text": [
      "[CV] END ....................C=100, penalty=l2, solver=lbfgs; total time=  29.9s\n",
      "[CV] END ................C=100, penalty=l2, solver=liblinear; total time=  51.9s\n",
      "[CV] END ................C=100, penalty=l2, solver=liblinear; total time=  56.0s\n",
      "[CV] END ................C=100, penalty=l1, solver=liblinear; total time=14.6min\n",
      "[CV] END ................C=100, penalty=l1, solver=liblinear; total time=14.5min\n",
      "[CV] END ................C=100, penalty=l1, solver=liblinear; total time=14.8min\n",
      "[CV] END ................C=100, penalty=l2, solver=liblinear; total time=  56.7s\n",
      "[CV] END ................C=100, penalty=l2, solver=liblinear; total time=  55.0s\n",
      "[CV] END ................C=100, penalty=l2, solver=liblinear; total time=  46.8s\n"
     ]
    },
    {
     "name": "stderr",
     "output_type": "stream",
     "text": [
      "/Library/Frameworks/Python.framework/Versions/3.10/lib/python3.10/site-packages/sklearn/linear_model/_sag.py:350: ConvergenceWarning: The max_iter was reached which means the coef_ did not converge\n",
      "  warnings.warn(\n"
     ]
    },
    {
     "name": "stdout",
     "output_type": "stream",
     "text": [
      "[CV] END .....................C=100, penalty=l1, solver=saga; total time= 6.5min\n",
      "[CV] END ................C=100, penalty=l1, solver=liblinear; total time=15.1min\n",
      "[CV] END ................C=100, penalty=l1, solver=liblinear; total time=15.7min\n"
     ]
    },
    {
     "name": "stderr",
     "output_type": "stream",
     "text": [
      "/Library/Frameworks/Python.framework/Versions/3.10/lib/python3.10/site-packages/sklearn/linear_model/_sag.py:350: ConvergenceWarning: The max_iter was reached which means the coef_ did not converge\n",
      "  warnings.warn(\n"
     ]
    },
    {
     "name": "stdout",
     "output_type": "stream",
     "text": [
      "[CV] END .....................C=100, penalty=l2, solver=saga; total time= 2.6min\n"
     ]
    },
    {
     "name": "stderr",
     "output_type": "stream",
     "text": [
      "/Library/Frameworks/Python.framework/Versions/3.10/lib/python3.10/site-packages/sklearn/linear_model/_sag.py:350: ConvergenceWarning: The max_iter was reached which means the coef_ did not converge\n",
      "  warnings.warn(\n"
     ]
    },
    {
     "name": "stdout",
     "output_type": "stream",
     "text": [
      "[CV] END .....................C=100, penalty=l2, solver=saga; total time= 2.4min\n"
     ]
    },
    {
     "name": "stderr",
     "output_type": "stream",
     "text": [
      "/Library/Frameworks/Python.framework/Versions/3.10/lib/python3.10/site-packages/sklearn/linear_model/_sag.py:350: ConvergenceWarning: The max_iter was reached which means the coef_ did not converge\n",
      "  warnings.warn(\n"
     ]
    },
    {
     "name": "stdout",
     "output_type": "stream",
     "text": [
      "[CV] END .....................C=100, penalty=l2, solver=saga; total time= 2.3min\n"
     ]
    },
    {
     "name": "stderr",
     "output_type": "stream",
     "text": [
      "/Library/Frameworks/Python.framework/Versions/3.10/lib/python3.10/site-packages/sklearn/linear_model/_sag.py:350: ConvergenceWarning: The max_iter was reached which means the coef_ did not converge\n",
      "  warnings.warn(\n"
     ]
    },
    {
     "name": "stdout",
     "output_type": "stream",
     "text": [
      "[CV] END .....................C=100, penalty=l2, solver=saga; total time= 2.2min\n"
     ]
    },
    {
     "name": "stderr",
     "output_type": "stream",
     "text": [
      "/Library/Frameworks/Python.framework/Versions/3.10/lib/python3.10/site-packages/sklearn/linear_model/_sag.py:350: ConvergenceWarning: The max_iter was reached which means the coef_ did not converge\n",
      "  warnings.warn(\n",
      "/Library/Frameworks/Python.framework/Versions/3.10/lib/python3.10/site-packages/sklearn/model_selection/_validation.py:425: FitFailedWarning: \n",
      "50 fits failed out of a total of 200.\n",
      "The score on these train-test partitions for these parameters will be set to nan.\n",
      "If these failures are not expected, you can try to debug them by setting error_score='raise'.\n",
      "\n",
      "Below are more details about the failures:\n",
      "--------------------------------------------------------------------------------\n",
      "25 fits failed with the following error:\n",
      "Traceback (most recent call last):\n",
      "  File \"/Library/Frameworks/Python.framework/Versions/3.10/lib/python3.10/site-packages/sklearn/model_selection/_validation.py\", line 729, in _fit_and_score\n",
      "    estimator.fit(X_train, y_train, **fit_params)\n",
      "  File \"/Library/Frameworks/Python.framework/Versions/3.10/lib/python3.10/site-packages/sklearn/base.py\", line 1152, in wrapper\n",
      "    return fit_method(estimator, *args, **kwargs)\n",
      "  File \"/Library/Frameworks/Python.framework/Versions/3.10/lib/python3.10/site-packages/sklearn/linear_model/_logistic.py\", line 1169, in fit\n",
      "    solver = _check_solver(self.solver, self.penalty, self.dual)\n",
      "  File \"/Library/Frameworks/Python.framework/Versions/3.10/lib/python3.10/site-packages/sklearn/linear_model/_logistic.py\", line 56, in _check_solver\n",
      "    raise ValueError(\n",
      "ValueError: Solver newton-cg supports only 'l2' or 'none' penalties, got l1 penalty.\n",
      "\n",
      "--------------------------------------------------------------------------------\n",
      "25 fits failed with the following error:\n",
      "Traceback (most recent call last):\n",
      "  File \"/Library/Frameworks/Python.framework/Versions/3.10/lib/python3.10/site-packages/sklearn/model_selection/_validation.py\", line 729, in _fit_and_score\n",
      "    estimator.fit(X_train, y_train, **fit_params)\n",
      "  File \"/Library/Frameworks/Python.framework/Versions/3.10/lib/python3.10/site-packages/sklearn/base.py\", line 1152, in wrapper\n",
      "    return fit_method(estimator, *args, **kwargs)\n",
      "  File \"/Library/Frameworks/Python.framework/Versions/3.10/lib/python3.10/site-packages/sklearn/linear_model/_logistic.py\", line 1169, in fit\n",
      "    solver = _check_solver(self.solver, self.penalty, self.dual)\n",
      "  File \"/Library/Frameworks/Python.framework/Versions/3.10/lib/python3.10/site-packages/sklearn/linear_model/_logistic.py\", line 56, in _check_solver\n",
      "    raise ValueError(\n",
      "ValueError: Solver lbfgs supports only 'l2' or 'none' penalties, got l1 penalty.\n",
      "\n",
      "  warnings.warn(some_fits_failed_message, FitFailedWarning)\n",
      "/Library/Frameworks/Python.framework/Versions/3.10/lib/python3.10/site-packages/sklearn/model_selection/_search.py:979: UserWarning: One or more of the test scores are non-finite: [       nan        nan 0.87355556 0.87008889 0.88013333 0.88013333\n",
      " 0.88008889 0.88017778        nan        nan 0.88257778 0.88213333\n",
      " 0.88426667 0.88431111 0.8844     0.88426667        nan        nan\n",
      " 0.88715556 0.88706667 0.88817778 0.88817778 0.88786667 0.88817778\n",
      "        nan        nan 0.89302222 0.8908     0.89022222 0.89017778\n",
      " 0.89017778 0.88991111        nan        nan 0.89626667 0.89168889\n",
      " 0.89408889 0.89422222 0.89408889 0.89164444]\n",
      "  warnings.warn(\n"
     ]
    },
    {
     "name": "stdout",
     "output_type": "stream",
     "text": [
      "[CV] END .....................C=100, penalty=l2, solver=saga; total time= 2.1min\n"
     ]
    },
    {
     "data": {
      "text/html": [
       "<style>#sk-container-id-1 {color: black;}#sk-container-id-1 pre{padding: 0;}#sk-container-id-1 div.sk-toggleable {background-color: white;}#sk-container-id-1 label.sk-toggleable__label {cursor: pointer;display: block;width: 100%;margin-bottom: 0;padding: 0.3em;box-sizing: border-box;text-align: center;}#sk-container-id-1 label.sk-toggleable__label-arrow:before {content: \"▸\";float: left;margin-right: 0.25em;color: #696969;}#sk-container-id-1 label.sk-toggleable__label-arrow:hover:before {color: black;}#sk-container-id-1 div.sk-estimator:hover label.sk-toggleable__label-arrow:before {color: black;}#sk-container-id-1 div.sk-toggleable__content {max-height: 0;max-width: 0;overflow: hidden;text-align: left;background-color: #f0f8ff;}#sk-container-id-1 div.sk-toggleable__content pre {margin: 0.2em;color: black;border-radius: 0.25em;background-color: #f0f8ff;}#sk-container-id-1 input.sk-toggleable__control:checked~div.sk-toggleable__content {max-height: 200px;max-width: 100%;overflow: auto;}#sk-container-id-1 input.sk-toggleable__control:checked~label.sk-toggleable__label-arrow:before {content: \"▾\";}#sk-container-id-1 div.sk-estimator input.sk-toggleable__control:checked~label.sk-toggleable__label {background-color: #d4ebff;}#sk-container-id-1 div.sk-label input.sk-toggleable__control:checked~label.sk-toggleable__label {background-color: #d4ebff;}#sk-container-id-1 input.sk-hidden--visually {border: 0;clip: rect(1px 1px 1px 1px);clip: rect(1px, 1px, 1px, 1px);height: 1px;margin: -1px;overflow: hidden;padding: 0;position: absolute;width: 1px;}#sk-container-id-1 div.sk-estimator {font-family: monospace;background-color: #f0f8ff;border: 1px dotted black;border-radius: 0.25em;box-sizing: border-box;margin-bottom: 0.5em;}#sk-container-id-1 div.sk-estimator:hover {background-color: #d4ebff;}#sk-container-id-1 div.sk-parallel-item::after {content: \"\";width: 100%;border-bottom: 1px solid gray;flex-grow: 1;}#sk-container-id-1 div.sk-label:hover label.sk-toggleable__label {background-color: #d4ebff;}#sk-container-id-1 div.sk-serial::before {content: \"\";position: absolute;border-left: 1px solid gray;box-sizing: border-box;top: 0;bottom: 0;left: 50%;z-index: 0;}#sk-container-id-1 div.sk-serial {display: flex;flex-direction: column;align-items: center;background-color: white;padding-right: 0.2em;padding-left: 0.2em;position: relative;}#sk-container-id-1 div.sk-item {position: relative;z-index: 1;}#sk-container-id-1 div.sk-parallel {display: flex;align-items: stretch;justify-content: center;background-color: white;position: relative;}#sk-container-id-1 div.sk-item::before, #sk-container-id-1 div.sk-parallel-item::before {content: \"\";position: absolute;border-left: 1px solid gray;box-sizing: border-box;top: 0;bottom: 0;left: 50%;z-index: -1;}#sk-container-id-1 div.sk-parallel-item {display: flex;flex-direction: column;z-index: 1;position: relative;background-color: white;}#sk-container-id-1 div.sk-parallel-item:first-child::after {align-self: flex-end;width: 50%;}#sk-container-id-1 div.sk-parallel-item:last-child::after {align-self: flex-start;width: 50%;}#sk-container-id-1 div.sk-parallel-item:only-child::after {width: 0;}#sk-container-id-1 div.sk-dashed-wrapped {border: 1px dashed gray;margin: 0 0.4em 0.5em 0.4em;box-sizing: border-box;padding-bottom: 0.4em;background-color: white;}#sk-container-id-1 div.sk-label label {font-family: monospace;font-weight: bold;display: inline-block;line-height: 1.2em;}#sk-container-id-1 div.sk-label-container {text-align: center;}#sk-container-id-1 div.sk-container {/* jupyter's `normalize.less` sets `[hidden] { display: none; }` but bootstrap.min.css set `[hidden] { display: none !important; }` so we also need the `!important` here to be able to override the default hidden behavior on the sphinx rendered scikit-learn.org. See: https://github.com/scikit-learn/scikit-learn/issues/21755 */display: inline-block !important;position: relative;}#sk-container-id-1 div.sk-text-repr-fallback {display: none;}</style><div id=\"sk-container-id-1\" class=\"sk-top-container\"><div class=\"sk-text-repr-fallback\"><pre>GridSearchCV(cv=5, estimator=LogisticRegression(max_iter=1000), n_jobs=-1,\n",
       "             param_grid={&#x27;C&#x27;: [0.01, 0.1, 1, 10, 100], &#x27;penalty&#x27;: [&#x27;l1&#x27;, &#x27;l2&#x27;],\n",
       "                         &#x27;solver&#x27;: [&#x27;newton-cg&#x27;, &#x27;lbfgs&#x27;, &#x27;liblinear&#x27;, &#x27;saga&#x27;]},\n",
       "             verbose=2)</pre><b>In a Jupyter environment, please rerun this cell to show the HTML representation or trust the notebook. <br />On GitHub, the HTML representation is unable to render, please try loading this page with nbviewer.org.</b></div><div class=\"sk-container\" hidden><div class=\"sk-item sk-dashed-wrapped\"><div class=\"sk-label-container\"><div class=\"sk-label sk-toggleable\"><input class=\"sk-toggleable__control sk-hidden--visually\" id=\"sk-estimator-id-1\" type=\"checkbox\" ><label for=\"sk-estimator-id-1\" class=\"sk-toggleable__label sk-toggleable__label-arrow\">GridSearchCV</label><div class=\"sk-toggleable__content\"><pre>GridSearchCV(cv=5, estimator=LogisticRegression(max_iter=1000), n_jobs=-1,\n",
       "             param_grid={&#x27;C&#x27;: [0.01, 0.1, 1, 10, 100], &#x27;penalty&#x27;: [&#x27;l1&#x27;, &#x27;l2&#x27;],\n",
       "                         &#x27;solver&#x27;: [&#x27;newton-cg&#x27;, &#x27;lbfgs&#x27;, &#x27;liblinear&#x27;, &#x27;saga&#x27;]},\n",
       "             verbose=2)</pre></div></div></div><div class=\"sk-parallel\"><div class=\"sk-parallel-item\"><div class=\"sk-item\"><div class=\"sk-label-container\"><div class=\"sk-label sk-toggleable\"><input class=\"sk-toggleable__control sk-hidden--visually\" id=\"sk-estimator-id-2\" type=\"checkbox\" ><label for=\"sk-estimator-id-2\" class=\"sk-toggleable__label sk-toggleable__label-arrow\">estimator: LogisticRegression</label><div class=\"sk-toggleable__content\"><pre>LogisticRegression(max_iter=1000)</pre></div></div></div><div class=\"sk-serial\"><div class=\"sk-item\"><div class=\"sk-estimator sk-toggleable\"><input class=\"sk-toggleable__control sk-hidden--visually\" id=\"sk-estimator-id-3\" type=\"checkbox\" ><label for=\"sk-estimator-id-3\" class=\"sk-toggleable__label sk-toggleable__label-arrow\">LogisticRegression</label><div class=\"sk-toggleable__content\"><pre>LogisticRegression(max_iter=1000)</pre></div></div></div></div></div></div></div></div></div></div>"
      ],
      "text/plain": [
       "GridSearchCV(cv=5, estimator=LogisticRegression(max_iter=1000), n_jobs=-1,\n",
       "             param_grid={'C': [0.01, 0.1, 1, 10, 100], 'penalty': ['l1', 'l2'],\n",
       "                         'solver': ['newton-cg', 'lbfgs', 'liblinear', 'saga']},\n",
       "             verbose=2)"
      ]
     },
     "execution_count": 21,
     "metadata": {},
     "output_type": "execute_result"
    }
   ],
   "source": [
    "# Perform Grid Search to find the best parameters for Logistic Regression\n",
    "\n",
    "# Define hyperparameters grid\n",
    "param_grid = {\n",
    "    'C': [0.01, 0.1, 1, 10, 100],\n",
    "    'penalty': ['l1', 'l2'],\n",
    "    'solver': ['newton-cg', 'lbfgs', 'liblinear', 'saga']\n",
    "}\n",
    "\n",
    "# Initialize Logistic Regression\n",
    "clf = LogisticRegression(max_iter=1000)\n",
    "\n",
    "# Initialize GridSearchCV with 5-fold cross-validation\n",
    "grid_search = GridSearchCV(clf, param_grid, cv=5, verbose=2, n_jobs=-1)\n",
    "\n",
    "# Fit the grid search\n",
    "grid_search.fit(X_train, y_train)"
   ]
  },
  {
   "cell_type": "code",
   "execution_count": 22,
   "metadata": {},
   "outputs": [
    {
     "name": "stdout",
     "output_type": "stream",
     "text": [
      "Best Parameters: {'C': 100, 'penalty': 'l1', 'solver': 'liblinear'}\n"
     ]
    }
   ],
   "source": [
    "# Best hyperparameters\n",
    "best_parameters = grid_search.best_params_\n",
    "print(\"Best Parameters:\", best_parameters)"
   ]
  },
  {
   "cell_type": "code",
   "execution_count": 23,
   "metadata": {},
   "outputs": [],
   "source": [
    "# Best Model\n",
    "lr_best = LogisticRegression(max_iter=1000, C=best_parameters['C'], penalty=best_parameters['penalty'], solver=best_parameters['solver'])\n",
    "\n",
    "# Fit the best model    \n",
    "lr_best.fit(X_train, y_train)\n",
    "\n",
    "# Predict the labels of the test set\n",
    "y_pred_test_best = lr_best.predict(X_test)"
   ]
  },
  {
   "cell_type": "code",
   "execution_count": 33,
   "metadata": {},
   "outputs": [
    {
     "name": "stdout",
     "output_type": "stream",
     "text": [
      "Best Logistic Regression: Test Data\n",
      "Accuracy: 0.8982666666666667\n",
      "Confusion Matrix:\n",
      "[[3245  463]\n",
      " [ 300 3492]]\n",
      "Classification Report:\n",
      "              precision    recall  f1-score   support\n",
      "\n",
      "           0       0.92      0.88      0.89      3708\n",
      "           1       0.88      0.92      0.90      3792\n",
      "\n",
      "    accuracy                           0.90      7500\n",
      "   macro avg       0.90      0.90      0.90      7500\n",
      "weighted avg       0.90      0.90      0.90      7500\n",
      "\n",
      "AUC Score: 0.8980104597654063\n",
      "Weighted F1-score: 0.8981937718582631\n",
      "Macro F1-score: 0.8981562064355275\n"
     ]
    }
   ],
   "source": [
    "# Print the accuracy\n",
    "print(\"Best Logistic Regression: Test Data\")\n",
    "print(\"Accuracy:\", accuracy_score(y_test, y_pred))\n",
    "\n",
    "# Print the confusion matrix\n",
    "print(\"Confusion Matrix:\")\n",
    "print(confusion_matrix(y_test, y_pred))\n",
    "\n",
    "# Print the classification report\n",
    "print(\"Classification Report:\")\n",
    "print(classification_report(y_test, y_pred))\n",
    "\n",
    "# Print AUC score\n",
    "print(\"AUC Score:\", roc_auc_score(y_test, y_pred))\n",
    "\n",
    "# Print weighted F1-score\n",
    "print(\"Weighted F1-score:\", f1_score(y_test, y_pred, average='weighted'))\n",
    "\n",
    "# Print macro F1-score\n",
    "print(\"Macro F1-score:\", f1_score(y_test, y_pred, average='macro'))"
   ]
  },
  {
   "cell_type": "code",
   "execution_count": 34,
   "metadata": {},
   "outputs": [
    {
     "name": "stdout",
     "output_type": "stream",
     "text": [
      "Best Logistic Regression: Training Data\n",
      "Accuracy: 0.9008888888888889\n",
      "Confusion Matrix:\n",
      "[[10016  1276]\n",
      " [  954 10254]]\n",
      "Classification Report:\n",
      "              precision    recall  f1-score   support\n",
      "\n",
      "           0       0.91      0.89      0.90     11292\n",
      "           1       0.89      0.91      0.90     11208\n",
      "\n",
      "    accuracy                           0.90     22500\n",
      "   macro avg       0.90      0.90      0.90     22500\n",
      "weighted avg       0.90      0.90      0.90     22500\n",
      "\n",
      "AUC Score: 0.9009409363738212\n",
      "Weighted F1-score: 0.9008738837944499\n"
     ]
    }
   ],
   "source": [
    "# Training Data\n",
    "# Predict the labels of the training set\n",
    "y_pred_train_best = lr_best.predict(X_train)\n",
    "\n",
    "# Print the accuracy\n",
    "print(\"Best Logistic Regression: Training Data\")\n",
    "print(\"Accuracy:\", accuracy_score(y_train, y_pred_train_best))\n",
    "\n",
    "# Print the confusion matrix\n",
    "print(\"Confusion Matrix:\")\n",
    "print(confusion_matrix(y_train, y_pred_train_best))\n",
    "\n",
    "# Print the classification report\n",
    "print(\"Classification Report:\")\n",
    "print(classification_report(y_train, y_pred_train_best))\n",
    "\n",
    "# Print AUC score\n",
    "print(\"AUC Score:\", roc_auc_score(y_train, y_pred_train_best))\n",
    "\n",
    "# Print weighted F1-score\n",
    "print(\"Weighted F1-score:\", f1_score(y_train, y_pred_train_best, average='weighted'))"
   ]
  },
  {
   "cell_type": "markdown",
   "metadata": {},
   "source": [
    "### Principal Component Analysis"
   ]
  },
  {
   "cell_type": "code",
   "execution_count": 26,
   "metadata": {},
   "outputs": [
    {
     "data": {
      "image/png": "[encoded data removed]",
      "text/plain": [
       "<Figure size 432x288 with 1 Axes>"
      ]
     },
     "metadata": {
      "needs_background": "light"
     },
     "output_type": "display_data"
    }
   ],
   "source": [
    "# Plot No. of Components vs. Explained Variance and mark at 75% explained variance\n",
    "pca = PCA().fit(X_train)\n",
    "plt.plot(np.cumsum(pca.explained_variance_ratio_))\n",
    "plt.xlabel('No. of Components')\n",
    "plt.ylabel('Explained Variance')\n",
    "plt.axhline(y=0.75, color='r', linestyle='-')\n",
    "plt.text(0.5, 0.8, '75%', color = 'red', fontsize=16)\n",
    "plt.show()"
   ]
  },
  {
   "cell_type": "code",
   "execution_count": 27,
   "metadata": {},
   "outputs": [
    {
     "name": "stdout",
     "output_type": "stream",
     "text": [
      "No. of Components: 13\n"
     ]
    }
   ],
   "source": [
    "cumulative_explained_variance = np.cumsum(pca.explained_variance_ratio_)\n",
    "n_components = np.argmax(cumulative_explained_variance >= 0.75) + 1\n",
    "print(\"No. of Components:\", n_components)"
   ]
  },
  {
   "cell_type": "code",
   "execution_count": 28,
   "metadata": {},
   "outputs": [],
   "source": [
    "# Perform PCA on the data and extract the features that explain 75% of the variance\n",
    "pca = PCA(n_components=0.75)\n",
    "X_train_pca = pca.fit_transform(X_train)\n",
    "X_test_pca = pca.transform(X_test)"
   ]
  },
  {
   "cell_type": "code",
   "execution_count": 29,
   "metadata": {},
   "outputs": [
    {
     "name": "stdout",
     "output_type": "stream",
     "text": [
      "(22500, 13)\n"
     ]
    }
   ],
   "source": [
    "print(X_train_pca.shape)"
   ]
  },
  {
   "cell_type": "code",
   "execution_count": 30,
   "metadata": {},
   "outputs": [],
   "source": [
    "# Run Logistic Regression \n",
    "# Initialize Logistic Regression\n",
    "lr_pca = LogisticRegression(max_iter=1000, C=best_parameters['C'], penalty=best_parameters['penalty'], solver=best_parameters['solver'])\n",
    "\n",
    "# Fit the model on the training data\n",
    "lr_pca.fit(X_train_pca, y_train)\n",
    "\n",
    "# Predict on the test data\n",
    "y_pred_test_pca = lr_pca.predict(X_test_pca)"
   ]
  },
  {
   "cell_type": "code",
   "execution_count": 31,
   "metadata": {},
   "outputs": [
    {
     "name": "stdout",
     "output_type": "stream",
     "text": [
      "Logistic Regression with PCA: Test Data\n",
      "Accuracy Score: 0.8813333333333333\n",
      "Confusion Matrix:\n",
      " [[3165  543]\n",
      " [ 347 3445]]\n",
      "AUC Score: 0.8810257158657981\n",
      "Classification Report:\n",
      "               precision    recall  f1-score   support\n",
      "\n",
      "           0       0.90      0.85      0.88      3708\n",
      "           1       0.86      0.91      0.89      3792\n",
      "\n",
      "    accuracy                           0.88      7500\n",
      "   macro avg       0.88      0.88      0.88      7500\n",
      "weighted avg       0.88      0.88      0.88      7500\n",
      "\n",
      "Weighted F1-score: 0.8812173952673593\n"
     ]
    }
   ],
   "source": [
    "# Print the accuracy score\n",
    "print(\"Logistic Regression with PCA: Test Data\")\n",
    "print(\"Accuracy Score:\", accuracy_score(y_test, y_pred_test_pca))\n",
    "\n",
    "# Print the confusion matrix\n",
    "print(\"Confusion Matrix:\\n\", confusion_matrix(y_test, y_pred_test_pca))\n",
    "\n",
    "# Print AUC score\n",
    "print(\"AUC Score:\", roc_auc_score(y_test, y_pred_test_pca))\n",
    "\n",
    "# Print the classification report\n",
    "print(\"Classification Report:\\n\", classification_report(y_test, y_pred_test_pca))\n",
    "\n",
    "# Print weighted F1-score\n",
    "print(\"Weighted F1-score:\", f1_score(y_test, y_pred_test_pca, average='weighted'))"
   ]
  },
  {
   "cell_type": "code",
   "execution_count": 32,
   "metadata": {},
   "outputs": [
    {
     "name": "stdout",
     "output_type": "stream",
     "text": [
      "Logistic Regression with PCA: Training Data\n",
      "Accuracy Score: 0.8755111111111111\n",
      "Confusion Matrix:\n",
      " [[ 9693  1599]\n",
      " [ 1202 10006]]\n",
      "AUC Score: 0.8755752494991812\n",
      "Classification Report:\n",
      "               precision    recall  f1-score   support\n",
      "\n",
      "           0       0.89      0.86      0.87     11292\n",
      "           1       0.86      0.89      0.88     11208\n",
      "\n",
      "    accuracy                           0.88     22500\n",
      "   macro avg       0.88      0.88      0.88     22500\n",
      "weighted avg       0.88      0.88      0.88     22500\n",
      "\n",
      "Weighted F1-score: 0.8754805489225298\n"
     ]
    }
   ],
   "source": [
    "# Training Data\n",
    "# Predict on the training data\n",
    "y_pred_train_pca = lr_pca.predict(X_train_pca)\n",
    "\n",
    "# Print the accuracy score\n",
    "print(\"Logistic Regression with PCA: Training Data\")\n",
    "print(\"Accuracy Score:\", accuracy_score(y_train, y_pred_train_pca))\n",
    "\n",
    "# Print the confusion matrix\n",
    "print(\"Confusion Matrix:\\n\", confusion_matrix(y_train, y_pred_train_pca))\n",
    "\n",
    "# Print AUC score\n",
    "print(\"AUC Score:\", roc_auc_score(y_train, y_pred_train_pca))\n",
    "\n",
    "# Print the classification report\n",
    "print(\"Classification Report:\\n\", classification_report(y_train, y_pred_train_pca))\n",
    "\n",
    "# Print weighted F1-score\n",
    "print(\"Weighted F1-score:\", f1_score(y_train, y_pred_train_pca, average='weighted'))"
   ]
  }
 ],
 "metadata": {
  "kernelspec": {
   "display_name": "Python 3",
   "language": "python",
   "name": "python3"
  },
  "language_info": {
   "codemirror_mode": {
    "name": "ipython",
    "version": 3
   },
   "file_extension": ".py",
   "mimetype": "text/x-python",
   "name": "python",
   "nbconvert_exporter": "python",
   "pygments_lexer": "ipython3",
   "version": "3.10.0"
  }
 },
 "nbformat": 4,
 "nbformat_minor": 2
}
