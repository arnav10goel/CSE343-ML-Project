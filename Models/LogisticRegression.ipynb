{
 "cells": [
  {
   "cell_type": "markdown",
   "metadata": {},
   "source": [
    "### Logistic Regression"
   ]
  },
  {
   "cell_type": "code",
   "execution_count": 1,
   "metadata": {},
   "outputs": [],
   "source": [
    "import numpy as np\n",
    "import pandas as pd\n",
    "import matplotlib.pyplot as plt\n",
    "\n",
    "from sklearn.linear_model import LogisticRegression\n",
    "from sklearn.model_selection import GridSearchCV\n",
    "\n",
    "from sklearn.metrics import accuracy_score, confusion_matrix, classification_report\n",
    "from sklearn.metrics import roc_curve, auc, roc_auc_score\n",
    "from sklearn.metrics import precision_recall_curve, average_precision_score\n",
    "from sklearn.metrics import f1_score\n",
    "from sklearn.preprocessing import StandardScaler\n",
    "from sklearn.decomposition import PCA"
   ]
  },
  {
   "cell_type": "code",
   "execution_count": 26,
   "metadata": {},
   "outputs": [
    {
     "name": "stdout",
     "output_type": "stream",
     "text": [
      "(22500, 1000)\n",
      "(7500, 1000)\n"
     ]
    }
   ],
   "source": [
    "# Open the .csv files\n",
    "X_train = pd.read_csv('/Users/arnav/Desktop/MachineLearning/ML_CSE343 Project/train_tfidf.csv')\n",
    "X_test = pd.read_csv('/Users/arnav/Desktop/MachineLearning/ML_CSE343 Project/test_tfidf.csv')\n",
    "\n",
    "X_train = X_train.drop(['Unnamed: 0'], axis=1)\n",
    "X_test = X_test.drop(['Unnamed: 0'], axis=1)\n",
    "\n",
    "# Check the shape of the data\n",
    "print(X_train.shape)\n",
    "print(X_test.shape)"
   ]
  },
  {
   "cell_type": "code",
   "execution_count": 27,
   "metadata": {},
   "outputs": [],
   "source": [
    "# Extract the features into a numpy array\n",
    "X_train = X_train.values\n",
    "X_test = X_test.values"
   ]
  },
  {
   "cell_type": "code",
   "execution_count": 4,
   "metadata": {},
   "outputs": [
    {
     "name": "stdout",
     "output_type": "stream",
     "text": [
      "(22500, 1)\n",
      "(7500, 1)\n"
     ]
    }
   ],
   "source": [
    "# Open the labels\n",
    "y_train_df = pd.read_csv('/Users/arnav/Desktop/MachineLearning/ML_CSE343 Project/CSE343-ML-Project/Data/Preprocessed-Data/train_labels.csv')\n",
    "y_test_df = pd.read_csv('/Users/arnav/Desktop/MachineLearning/ML_CSE343 Project/CSE343-ML-Project/Data/Preprocessed-Data/test_labels.csv')\n",
    "\n",
    "# Check the shape of the labels\n",
    "print(y_train_df.shape)\n",
    "print(y_test_df.shape)"
   ]
  },
  {
   "cell_type": "code",
   "execution_count": 5,
   "metadata": {},
   "outputs": [
    {
     "name": "stdout",
     "output_type": "stream",
     "text": [
      "(22500,)\n",
      "(7500,)\n"
     ]
    }
   ],
   "source": [
    "# Convert class to non_suicide = 0 and suicide = 1\n",
    "y_train_temp = y_train_df['class'].values\n",
    "y_test_temp = y_test_df['class'].values\n",
    "\n",
    "# Check the shape of the labels\n",
    "print(y_train_temp.shape)\n",
    "print(y_test_temp.shape)"
   ]
  },
  {
   "cell_type": "code",
   "execution_count": 6,
   "metadata": {},
   "outputs": [
    {
     "name": "stdout",
     "output_type": "stream",
     "text": [
      "(22500,)\n",
      "(7500,)\n"
     ]
    }
   ],
   "source": [
    "# Making the Labels Numeric\n",
    "y_train = np.array([0 if label == \"non-suicide\" else 1 for label in y_train_temp])\n",
    "y_test = np.array([0 if label == \"non-suicide\" else 1 for label in y_test_temp])\n",
    "\n",
    "# Check the shape of the labels\n",
    "print(y_train.shape)\n",
    "print(y_test.shape)\n"
   ]
  },
  {
   "cell_type": "code",
   "execution_count": 7,
   "metadata": {},
   "outputs": [
    {
     "name": "stdout",
     "output_type": "stream",
     "text": [
      "0.004686103127390068 0.0312074847455884\n"
     ]
    }
   ],
   "source": [
    "# Standard Preprocessing\n",
    "# Check the mean and standard deviation of the data\n",
    "print(np.mean(X_train), np.std(X_train))"
   ]
  },
  {
   "cell_type": "markdown",
   "metadata": {},
   "source": [
    "### Without Hyperparameter Tuning"
   ]
  },
  {
   "cell_type": "code",
   "execution_count": 8,
   "metadata": {},
   "outputs": [],
   "source": [
    "# Logistic Regression\n",
    "lr_base = LogisticRegression()\n",
    "\n",
    "# Fit\n",
    "lr_base.fit(X_train, y_train)\n",
    "\n",
    "# Predict\n",
    "y_pred = lr_base.predict(X_test)"
   ]
  },
  {
   "cell_type": "code",
   "execution_count": 10,
   "metadata": {},
   "outputs": [
    {
     "name": "stdout",
     "output_type": "stream",
     "text": [
      "Base Logistic Regression: Test Data\n",
      "Accuracy: 0.9150666666666667\n",
      "Confusion Matrix:\n",
      "[[3429  279]\n",
      " [ 358 3434]]\n",
      "Classification Report:\n",
      "              precision    recall  f1-score   support\n",
      "\n",
      "           0       0.91      0.92      0.92      3708\n",
      "           1       0.92      0.91      0.92      3792\n",
      "\n",
      "    accuracy                           0.92      7500\n",
      "   macro avg       0.92      0.92      0.92      7500\n",
      "weighted avg       0.92      0.92      0.92      7500\n",
      "\n",
      "AUC Score: 0.9151739994264881\n",
      "Weighted F1-score: 0.9150672630876725\n"
     ]
    }
   ],
   "source": [
    "# Print the accuracy\n",
    "print(\"Base Logistic Regression: Test Data\")\n",
    "print(\"Accuracy:\", accuracy_score(y_test, y_pred))\n",
    "\n",
    "# Print the confusion matrix\n",
    "print(\"Confusion Matrix:\")\n",
    "print(confusion_matrix(y_test, y_pred))\n",
    "\n",
    "# Print the classification report\n",
    "print(\"Classification Report:\")\n",
    "print(classification_report(y_test, y_pred))\n",
    "\n",
    "# Print AUC score\n",
    "print(\"AUC Score:\", roc_auc_score(y_test, y_pred))\n",
    "\n",
    "# Print weighted F1-score\n",
    "print(\"Weighted F1-score:\", f1_score(y_test, y_pred, average='weighted'))"
   ]
  },
  {
   "cell_type": "code",
   "execution_count": 11,
   "metadata": {},
   "outputs": [
    {
     "name": "stdout",
     "output_type": "stream",
     "text": [
      "Base Logistic Regression: Training Data\n",
      "Accuracy: 0.9210666666666667\n",
      "Confusion Matrix:\n",
      "[[10549   743]\n",
      " [ 1033 10175]]\n",
      "Classification Report:\n",
      "              precision    recall  f1-score   support\n",
      "\n",
      "           0       0.91      0.93      0.92     11292\n",
      "           1       0.93      0.91      0.92     11208\n",
      "\n",
      "    accuracy                           0.92     22500\n",
      "   macro avg       0.92      0.92      0.92     22500\n",
      "weighted avg       0.92      0.92      0.92     22500\n",
      "\n",
      "AUC Score: 0.9210174473068803\n",
      "Weighted F1-score: 0.9210497511596902\n"
     ]
    }
   ],
   "source": [
    "# Predict on training data\n",
    "y_pred_train = lr_base.predict(X_train)\n",
    "\n",
    "# Print the accuracy\n",
    "print(\"Base Logistic Regression: Training Data\")\n",
    "print(\"Accuracy:\", accuracy_score(y_train, y_pred_train))\n",
    "\n",
    "# Print the confusion matrix\n",
    "print(\"Confusion Matrix:\")\n",
    "print(confusion_matrix(y_train, y_pred_train))\n",
    "\n",
    "# Print the classification report\n",
    "print(\"Classification Report:\")\n",
    "print(classification_report(y_train, y_pred_train))\n",
    "\n",
    "# Print AUC score\n",
    "print(\"AUC Score:\", roc_auc_score(y_train, y_pred_train))\n",
    "\n",
    "# Print weighted F1-score\n",
    "print(\"Weighted F1-score:\", f1_score(y_train, y_pred_train, average='weighted'))"
   ]
  },
  {
   "cell_type": "code",
   "execution_count": 12,
   "metadata": {},
   "outputs": [
    {
     "name": "stdout",
     "output_type": "stream",
     "text": [
      "Fitting 5 folds for each of 40 candidates, totalling 200 fits\n",
      "[CV] END ...............C=0.01, penalty=l1, solver=newton-cg; total time=   0.6s\n",
      "[CV] END ...................C=0.01, penalty=l1, solver=lbfgs; total time=   0.7s\n",
      "[CV] END ...................C=0.01, penalty=l1, solver=lbfgs; total time=   0.6s\n",
      "[CV] END ...............C=0.01, penalty=l1, solver=newton-cg; total time=   0.7s\n",
      "[CV] END ...............C=0.01, penalty=l1, solver=newton-cg; total time=   0.7s\n",
      "[CV] END ...............C=0.01, penalty=l1, solver=newton-cg; total time=   0.7s\n",
      "[CV] END ...................C=0.01, penalty=l1, solver=lbfgs; total time=   0.6s\n",
      "[CV] END ...............C=0.01, penalty=l1, solver=newton-cg; total time=   0.7s\n",
      "[CV] END ...................C=0.01, penalty=l1, solver=lbfgs; total time=   0.2s\n",
      "[CV] END ...................C=0.01, penalty=l1, solver=lbfgs; total time=   0.2s\n",
      "[CV] END ...............C=0.01, penalty=l1, solver=liblinear; total time=   1.1s\n",
      "[CV] END ...............C=0.01, penalty=l1, solver=liblinear; total time=   1.1s\n",
      "[CV] END ...............C=0.01, penalty=l1, solver=liblinear; total time=   1.1s\n",
      "[CV] END ...............C=0.01, penalty=l1, solver=liblinear; total time=   1.1s\n",
      "[CV] END ...............C=0.01, penalty=l1, solver=liblinear; total time=   1.2s\n",
      "[CV] END ...............C=0.01, penalty=l2, solver=newton-cg; total time=   7.3s\n",
      "[CV] END ...............C=0.01, penalty=l2, solver=newton-cg; total time=   8.0s\n",
      "[CV] END ...............C=0.01, penalty=l2, solver=newton-cg; total time=   8.0s\n",
      "[CV] END ...................C=0.01, penalty=l2, solver=lbfgs; total time=   1.0s\n",
      "[CV] END ...................C=0.01, penalty=l2, solver=lbfgs; total time=   1.1s\n",
      "[CV] END ...................C=0.01, penalty=l2, solver=lbfgs; total time=   1.1s\n",
      "[CV] END ...............C=0.01, penalty=l2, solver=newton-cg; total time=   4.8s\n",
      "[CV] END ....................C=0.01, penalty=l1, solver=saga; total time=  13.1s\n",
      "[CV] END ...................C=0.01, penalty=l2, solver=lbfgs; total time=   0.9s\n",
      "[CV] END ...............C=0.01, penalty=l2, solver=newton-cg; total time=   4.5s\n",
      "[CV] END ....................C=0.01, penalty=l1, solver=saga; total time=  13.7s\n",
      "[CV] END ....................C=0.01, penalty=l1, solver=saga; total time=  13.6s\n",
      "[CV] END ...............C=0.01, penalty=l2, solver=liblinear; total time=   0.6s\n",
      "[CV] END ...............C=0.01, penalty=l2, solver=liblinear; total time=   0.6s\n",
      "[CV] END ...................C=0.01, penalty=l2, solver=lbfgs; total time=   0.7s\n",
      "[CV] END ....................C=0.01, penalty=l1, solver=saga; total time=  13.1s\n",
      "[CV] END ...............C=0.01, penalty=l2, solver=liblinear; total time=   0.6s\n",
      "[CV] END ...............C=0.01, penalty=l2, solver=liblinear; total time=   0.6s\n",
      "[CV] END ................C=0.1, penalty=l1, solver=newton-cg; total time=   0.2s\n",
      "[CV] END ...............C=0.01, penalty=l2, solver=liblinear; total time=   0.8s\n",
      "[CV] END ................C=0.1, penalty=l1, solver=newton-cg; total time=   0.2s\n",
      "[CV] END ....................C=0.01, penalty=l1, solver=saga; total time=  13.7s\n",
      "[CV] END ................C=0.1, penalty=l1, solver=newton-cg; total time=   0.2s\n",
      "[CV] END ................C=0.1, penalty=l1, solver=newton-cg; total time=   0.2s\n",
      "[CV] END ....................C=0.1, penalty=l1, solver=lbfgs; total time=   0.1s\n",
      "[CV] END ................C=0.1, penalty=l1, solver=newton-cg; total time=   0.2s\n",
      "[CV] END ....................C=0.1, penalty=l1, solver=lbfgs; total time=   0.2s\n",
      "[CV] END ....................C=0.1, penalty=l1, solver=lbfgs; total time=   0.1s\n",
      "[CV] END ....................C=0.1, penalty=l1, solver=lbfgs; total time=   0.1s\n",
      "[CV] END ....................C=0.1, penalty=l1, solver=lbfgs; total time=   0.1s\n",
      "[CV] END ................C=0.1, penalty=l1, solver=liblinear; total time=   0.5s\n",
      "[CV] END ................C=0.1, penalty=l1, solver=liblinear; total time=   0.6s\n",
      "[CV] END ................C=0.1, penalty=l1, solver=liblinear; total time=   0.5s\n",
      "[CV] END ................C=0.1, penalty=l1, solver=liblinear; total time=   0.5s\n",
      "[CV] END ................C=0.1, penalty=l1, solver=liblinear; total time=   0.5s\n",
      "[CV] END ....................C=0.01, penalty=l2, solver=saga; total time=   6.0s\n",
      "[CV] END ....................C=0.01, penalty=l2, solver=saga; total time=   6.4s\n",
      "[CV] END ....................C=0.01, penalty=l2, solver=saga; total time=   6.1s\n",
      "[CV] END ....................C=0.01, penalty=l2, solver=saga; total time=   6.7s\n",
      "[CV] END ....................C=0.01, penalty=l2, solver=saga; total time=   6.7s\n",
      "[CV] END .....................C=0.1, penalty=l1, solver=saga; total time=   9.7s\n",
      "[CV] END .....................C=0.1, penalty=l1, solver=saga; total time=   9.4s\n",
      "[CV] END .....................C=0.1, penalty=l1, solver=saga; total time=  10.2s\n",
      "[CV] END ....................C=0.1, penalty=l2, solver=lbfgs; total time=   3.2s\n",
      "[CV] END ....................C=0.1, penalty=l2, solver=lbfgs; total time=   2.3s\n",
      "[CV] END ................C=0.1, penalty=l2, solver=newton-cg; total time=  13.2s\n",
      "[CV] END ....................C=0.1, penalty=l2, solver=lbfgs; total time=   1.8s\n",
      "[CV] END ................C=0.1, penalty=l2, solver=newton-cg; total time=  13.8s\n",
      "[CV] END .....................C=0.1, penalty=l1, solver=saga; total time=  15.5s\n",
      "[CV] END ................C=0.1, penalty=l2, solver=newton-cg; total time=  14.8s\n",
      "[CV] END ................C=0.1, penalty=l2, solver=liblinear; total time=   1.2s\n",
      "[CV] END ....................C=0.1, penalty=l2, solver=lbfgs; total time=   1.8s\n",
      "[CV] END ....................C=0.1, penalty=l2, solver=lbfgs; total time=   2.5s\n",
      "[CV] END ................C=0.1, penalty=l2, solver=liblinear; total time=   1.0s\n",
      "[CV] END ................C=0.1, penalty=l2, solver=liblinear; total time=   1.1s\n",
      "[CV] END ................C=0.1, penalty=l2, solver=liblinear; total time=   1.1s\n",
      "[CV] END ................C=0.1, penalty=l2, solver=liblinear; total time=   1.5s\n",
      "[CV] END .....................C=0.1, penalty=l1, solver=saga; total time=  17.6s\n",
      "[CV] END ..................C=1, penalty=l1, solver=newton-cg; total time=   0.2s\n",
      "[CV] END ..................C=1, penalty=l1, solver=newton-cg; total time=   0.3s\n",
      "[CV] END ..................C=1, penalty=l1, solver=newton-cg; total time=   0.2s\n",
      "[CV] END ..................C=1, penalty=l1, solver=newton-cg; total time=   0.2s\n",
      "[CV] END ..................C=1, penalty=l1, solver=newton-cg; total time=   0.2s\n",
      "[CV] END ......................C=1, penalty=l1, solver=lbfgs; total time=   0.3s\n",
      "[CV] END ......................C=1, penalty=l1, solver=lbfgs; total time=   0.2s\n",
      "[CV] END ................C=0.1, penalty=l2, solver=newton-cg; total time=  14.5s\n",
      "[CV] END ......................C=1, penalty=l1, solver=lbfgs; total time=   0.2s\n",
      "[CV] END ......................C=1, penalty=l1, solver=lbfgs; total time=   0.3s\n",
      "[CV] END ......................C=1, penalty=l1, solver=lbfgs; total time=   0.3s\n",
      "[CV] END ................C=0.1, penalty=l2, solver=newton-cg; total time=  14.8s\n",
      "[CV] END ..................C=1, penalty=l1, solver=liblinear; total time=   0.8s\n",
      "[CV] END ..................C=1, penalty=l1, solver=liblinear; total time=   0.8s\n",
      "[CV] END ..................C=1, penalty=l1, solver=liblinear; total time=   0.8s\n",
      "[CV] END ..................C=1, penalty=l1, solver=liblinear; total time=   0.6s\n",
      "[CV] END ..................C=1, penalty=l1, solver=liblinear; total time=   0.7s\n",
      "[CV] END .....................C=0.1, penalty=l2, solver=saga; total time=   9.2s\n",
      "[CV] END .....................C=0.1, penalty=l2, solver=saga; total time=   9.9s\n",
      "[CV] END .....................C=0.1, penalty=l2, solver=saga; total time=  10.6s\n",
      "[CV] END .....................C=0.1, penalty=l2, solver=saga; total time=   9.8s\n",
      "[CV] END .....................C=0.1, penalty=l2, solver=saga; total time=  10.0s\n",
      "[CV] END ..................C=1, penalty=l2, solver=newton-cg; total time=  12.5s\n",
      "[CV] END ..................C=1, penalty=l2, solver=newton-cg; total time=  12.5s\n",
      "[CV] END ..................C=1, penalty=l2, solver=newton-cg; total time=  12.7s\n",
      "[CV] END ......................C=1, penalty=l2, solver=lbfgs; total time=   4.0s\n",
      "[CV] END ......................C=1, penalty=l2, solver=lbfgs; total time=   3.4s\n",
      "[CV] END ..................C=1, penalty=l2, solver=newton-cg; total time=   8.4s\n",
      "[CV] END ..................C=1, penalty=l2, solver=newton-cg; total time=   8.4s\n",
      "[CV] END .......................C=1, penalty=l1, solver=saga; total time=  26.1s\n",
      "[CV] END ..................C=1, penalty=l2, solver=liblinear; total time=   0.9s\n",
      "[CV] END ..................C=1, penalty=l2, solver=liblinear; total time=   0.8s\n",
      "[CV] END ......................C=1, penalty=l2, solver=lbfgs; total time=   2.5s\n",
      "[CV] END ......................C=1, penalty=l2, solver=lbfgs; total time=   2.6s\n",
      "[CV] END ......................C=1, penalty=l2, solver=lbfgs; total time=   2.7s\n",
      "[CV] END ..................C=1, penalty=l2, solver=liblinear; total time=   1.0s\n",
      "[CV] END ..................C=1, penalty=l2, solver=liblinear; total time=   0.7s\n",
      "[CV] END ..................C=1, penalty=l2, solver=liblinear; total time=   0.7s\n",
      "[CV] END .......................C=1, penalty=l1, solver=saga; total time=  29.6s\n",
      "[CV] END .......................C=1, penalty=l1, solver=saga; total time=  32.6s\n",
      "[CV] END .................C=10, penalty=l1, solver=newton-cg; total time=   0.2s\n",
      "[CV] END .................C=10, penalty=l1, solver=newton-cg; total time=   0.1s\n",
      "[CV] END .......................C=1, penalty=l1, solver=saga; total time=  28.0s\n",
      "[CV] END .................C=10, penalty=l1, solver=newton-cg; total time=   0.2s\n",
      "[CV] END .................C=10, penalty=l1, solver=newton-cg; total time=   0.2s\n",
      "[CV] END .................C=10, penalty=l1, solver=newton-cg; total time=   0.2s\n",
      "[CV] END .....................C=10, penalty=l1, solver=lbfgs; total time=   0.2s\n",
      "[CV] END .....................C=10, penalty=l1, solver=lbfgs; total time=   0.2s\n",
      "[CV] END .....................C=10, penalty=l1, solver=lbfgs; total time=   0.2s\n",
      "[CV] END .....................C=10, penalty=l1, solver=lbfgs; total time=   0.2s\n",
      "[CV] END .....................C=10, penalty=l1, solver=lbfgs; total time=   0.2s\n",
      "[CV] END .................C=10, penalty=l1, solver=liblinear; total time=   0.8s\n",
      "[CV] END .................C=10, penalty=l1, solver=liblinear; total time=   0.8s\n",
      "[CV] END .................C=10, penalty=l1, solver=liblinear; total time=   0.7s\n",
      "[CV] END .................C=10, penalty=l1, solver=liblinear; total time=   0.8s\n",
      "[CV] END .......................C=1, penalty=l2, solver=saga; total time=   6.4s\n",
      "[CV] END .......................C=1, penalty=l2, solver=saga; total time=   5.9s\n",
      "[CV] END .......................C=1, penalty=l2, solver=saga; total time=   6.6s\n",
      "[CV] END .................C=10, penalty=l1, solver=liblinear; total time=   0.9s\n",
      "[CV] END .......................C=1, penalty=l2, solver=saga; total time=   7.0s\n",
      "[CV] END .......................C=1, penalty=l1, solver=saga; total time=  31.8s\n",
      "[CV] END .......................C=1, penalty=l2, solver=saga; total time=   7.7s\n",
      "[CV] END .................C=10, penalty=l2, solver=newton-cg; total time=  16.2s\n",
      "[CV] END .................C=10, penalty=l2, solver=newton-cg; total time=  17.4s\n",
      "[CV] END .................C=10, penalty=l2, solver=newton-cg; total time=  18.2s\n",
      "[CV] END .....................C=10, penalty=l2, solver=lbfgs; total time=   6.7s\n",
      "[CV] END .................C=10, penalty=l2, solver=newton-cg; total time=  11.4s\n",
      "[CV] END .................C=10, penalty=l2, solver=newton-cg; total time=  11.0s\n",
      "[CV] END .....................C=10, penalty=l2, solver=lbfgs; total time=   6.1s\n",
      "[CV] END .....................C=10, penalty=l2, solver=lbfgs; total time=   6.1s\n",
      "[CV] END .....................C=10, penalty=l2, solver=lbfgs; total time=   5.7s\n",
      "[CV] END .................C=10, penalty=l2, solver=liblinear; total time=   1.0s\n",
      "[CV] END .................C=10, penalty=l2, solver=liblinear; total time=   0.9s\n",
      "[CV] END .................C=10, penalty=l2, solver=liblinear; total time=   0.8s\n",
      "[CV] END .................C=10, penalty=l2, solver=liblinear; total time=   0.7s\n",
      "[CV] END .................C=10, penalty=l2, solver=liblinear; total time=   0.7s\n",
      "[CV] END .....................C=10, penalty=l2, solver=lbfgs; total time=   4.2s\n",
      "[CV] END ......................C=10, penalty=l2, solver=saga; total time=  10.1s\n",
      "[CV] END ......................C=10, penalty=l2, solver=saga; total time=  11.6s\n",
      "[CV] END ......................C=10, penalty=l2, solver=saga; total time=  11.7s\n",
      "[CV] END ................C=100, penalty=l1, solver=newton-cg; total time=   0.1s\n",
      "[CV] END ................C=100, penalty=l1, solver=newton-cg; total time=   0.1s\n",
      "[CV] END ................C=100, penalty=l1, solver=newton-cg; total time=   0.1s\n",
      "[CV] END ................C=100, penalty=l1, solver=newton-cg; total time=   0.2s\n",
      "[CV] END ................C=100, penalty=l1, solver=newton-cg; total time=   0.1s\n",
      "[CV] END ....................C=100, penalty=l1, solver=lbfgs; total time=   0.1s\n",
      "[CV] END ....................C=100, penalty=l1, solver=lbfgs; total time=   0.1s\n",
      "[CV] END ....................C=100, penalty=l1, solver=lbfgs; total time=   0.1s\n",
      "[CV] END ....................C=100, penalty=l1, solver=lbfgs; total time=   0.1s\n",
      "[CV] END ....................C=100, penalty=l1, solver=lbfgs; total time=   0.1s\n",
      "[CV] END ................C=100, penalty=l1, solver=liblinear; total time=   0.7s\n",
      "[CV] END ................C=100, penalty=l1, solver=liblinear; total time=   0.7s\n",
      "[CV] END ................C=100, penalty=l1, solver=liblinear; total time=   0.6s\n",
      "[CV] END ................C=100, penalty=l1, solver=liblinear; total time=   0.7s\n",
      "[CV] END ................C=100, penalty=l1, solver=liblinear; total time=   0.7s\n",
      "[CV] END ......................C=10, penalty=l2, solver=saga; total time=  10.9s\n",
      "[CV] END ......................C=10, penalty=l2, solver=saga; total time=  10.3s\n",
      "[CV] END ......................C=10, penalty=l1, solver=saga; total time= 1.3min\n",
      "[CV] END ......................C=10, penalty=l1, solver=saga; total time= 1.4min\n",
      "[CV] END ......................C=10, penalty=l1, solver=saga; total time= 2.1min\n",
      "[CV] END ................C=100, penalty=l2, solver=newton-cg; total time=  10.9s\n",
      "[CV] END ................C=100, penalty=l2, solver=newton-cg; total time=  12.9s\n",
      "[CV] END ................C=100, penalty=l2, solver=newton-cg; total time=  12.9s\n",
      "[CV] END ................C=100, penalty=l2, solver=newton-cg; total time=  13.6s\n",
      "[CV] END ................C=100, penalty=l2, solver=newton-cg; total time=  10.9s\n",
      "[CV] END ......................C=10, penalty=l1, solver=saga; total time= 3.1min\n",
      "[CV] END ....................C=100, penalty=l2, solver=lbfgs; total time=   9.3s\n",
      "[CV] END ....................C=100, penalty=l2, solver=lbfgs; total time=  11.1s\n",
      "[CV] END ....................C=100, penalty=l2, solver=lbfgs; total time=   8.0s\n",
      "[CV] END ....................C=100, penalty=l2, solver=lbfgs; total time=   9.6s\n",
      "[CV] END ................C=100, penalty=l2, solver=liblinear; total time=   1.2s\n",
      "[CV] END ................C=100, penalty=l2, solver=liblinear; total time=   1.2s\n",
      "[CV] END ................C=100, penalty=l2, solver=liblinear; total time=   0.9s\n",
      "[CV] END ....................C=100, penalty=l2, solver=lbfgs; total time=   7.8s\n",
      "[CV] END ................C=100, penalty=l2, solver=liblinear; total time=   1.1s\n",
      "[CV] END ................C=100, penalty=l2, solver=liblinear; total time=   0.9s\n",
      "[CV] END .....................C=100, penalty=l1, solver=saga; total time= 2.8min\n",
      "[CV] END .....................C=100, penalty=l2, solver=saga; total time=  57.7s\n",
      "[CV] END ......................C=10, penalty=l1, solver=saga; total time= 4.7min\n",
      "[CV] END .....................C=100, penalty=l2, solver=saga; total time= 1.2min\n",
      "[CV] END .....................C=100, penalty=l2, solver=saga; total time=  45.1s\n",
      "[CV] END .....................C=100, penalty=l2, solver=saga; total time=  36.0s\n",
      "[CV] END .....................C=100, penalty=l2, solver=saga; total time=  49.1s\n",
      "[CV] END .....................C=100, penalty=l1, solver=saga; total time= 4.4min\n",
      "[CV] END .....................C=100, penalty=l1, solver=saga; total time= 5.5min\n",
      "[CV] END .....................C=100, penalty=l1, solver=saga; total time= 6.6min\n"
     ]
    },
    {
     "name": "stderr",
     "output_type": "stream",
     "text": [
      "/Library/Frameworks/Python.framework/Versions/3.10/lib/python3.10/site-packages/sklearn/linear_model/_sag.py:350: ConvergenceWarning: The max_iter was reached which means the coef_ did not converge\n",
      "  warnings.warn(\n",
      "/Library/Frameworks/Python.framework/Versions/3.10/lib/python3.10/site-packages/sklearn/model_selection/_validation.py:378: FitFailedWarning: \n",
      "50 fits failed out of a total of 200.\n",
      "The score on these train-test partitions for these parameters will be set to nan.\n",
      "If these failures are not expected, you can try to debug them by setting error_score='raise'.\n",
      "\n",
      "Below are more details about the failures:\n",
      "--------------------------------------------------------------------------------\n",
      "25 fits failed with the following error:\n",
      "Traceback (most recent call last):\n",
      "  File \"/Library/Frameworks/Python.framework/Versions/3.10/lib/python3.10/site-packages/sklearn/model_selection/_validation.py\", line 686, in _fit_and_score\n",
      "    estimator.fit(X_train, y_train, **fit_params)\n",
      "  File \"/Library/Frameworks/Python.framework/Versions/3.10/lib/python3.10/site-packages/sklearn/linear_model/_logistic.py\", line 1162, in fit\n",
      "    solver = _check_solver(self.solver, self.penalty, self.dual)\n",
      "  File \"/Library/Frameworks/Python.framework/Versions/3.10/lib/python3.10/site-packages/sklearn/linear_model/_logistic.py\", line 54, in _check_solver\n",
      "    raise ValueError(\n",
      "ValueError: Solver newton-cg supports only 'l2' or 'none' penalties, got l1 penalty.\n",
      "\n",
      "--------------------------------------------------------------------------------\n",
      "25 fits failed with the following error:\n",
      "Traceback (most recent call last):\n",
      "  File \"/Library/Frameworks/Python.framework/Versions/3.10/lib/python3.10/site-packages/sklearn/model_selection/_validation.py\", line 686, in _fit_and_score\n",
      "    estimator.fit(X_train, y_train, **fit_params)\n",
      "  File \"/Library/Frameworks/Python.framework/Versions/3.10/lib/python3.10/site-packages/sklearn/linear_model/_logistic.py\", line 1162, in fit\n",
      "    solver = _check_solver(self.solver, self.penalty, self.dual)\n",
      "  File \"/Library/Frameworks/Python.framework/Versions/3.10/lib/python3.10/site-packages/sklearn/linear_model/_logistic.py\", line 54, in _check_solver\n",
      "    raise ValueError(\n",
      "ValueError: Solver lbfgs supports only 'l2' or 'none' penalties, got l1 penalty.\n",
      "\n",
      "  warnings.warn(some_fits_failed_message, FitFailedWarning)\n",
      "/Library/Frameworks/Python.framework/Versions/3.10/lib/python3.10/site-packages/sklearn/model_selection/_search.py:952: UserWarning: One or more of the test scores are non-finite: [       nan        nan 0.796      0.79448889 0.8708     0.8708\n",
      " 0.87302222 0.8708            nan        nan 0.88066667 0.88035556\n",
      " 0.89826667 0.89826667 0.8984     0.89826667        nan        nan\n",
      " 0.90924444 0.90924444 0.91008889 0.91008889 0.91008889 0.91008889\n",
      "        nan        nan 0.90742222 0.90742222 0.90866667 0.90866667\n",
      " 0.90866667 0.90866667        nan        nan 0.90537778 0.90533333\n",
      " 0.90555556 0.9056     0.90555556 0.90555556]\n",
      "  warnings.warn(\n"
     ]
    },
    {
     "name": "stdout",
     "output_type": "stream",
     "text": [
      "[CV] END .....................C=100, penalty=l1, solver=saga; total time= 7.2min\n"
     ]
    },
    {
     "data": {
      "text/html": [
       "<style>#sk-container-id-1 {color: black;background-color: white;}#sk-container-id-1 pre{padding: 0;}#sk-container-id-1 div.sk-toggleable {background-color: white;}#sk-container-id-1 label.sk-toggleable__label {cursor: pointer;display: block;width: 100%;margin-bottom: 0;padding: 0.3em;box-sizing: border-box;text-align: center;}#sk-container-id-1 label.sk-toggleable__label-arrow:before {content: \"▸\";float: left;margin-right: 0.25em;color: #696969;}#sk-container-id-1 label.sk-toggleable__label-arrow:hover:before {color: black;}#sk-container-id-1 div.sk-estimator:hover label.sk-toggleable__label-arrow:before {color: black;}#sk-container-id-1 div.sk-toggleable__content {max-height: 0;max-width: 0;overflow: hidden;text-align: left;background-color: #f0f8ff;}#sk-container-id-1 div.sk-toggleable__content pre {margin: 0.2em;color: black;border-radius: 0.25em;background-color: #f0f8ff;}#sk-container-id-1 input.sk-toggleable__control:checked~div.sk-toggleable__content {max-height: 200px;max-width: 100%;overflow: auto;}#sk-container-id-1 input.sk-toggleable__control:checked~label.sk-toggleable__label-arrow:before {content: \"▾\";}#sk-container-id-1 div.sk-estimator input.sk-toggleable__control:checked~label.sk-toggleable__label {background-color: #d4ebff;}#sk-container-id-1 div.sk-label input.sk-toggleable__control:checked~label.sk-toggleable__label {background-color: #d4ebff;}#sk-container-id-1 input.sk-hidden--visually {border: 0;clip: rect(1px 1px 1px 1px);clip: rect(1px, 1px, 1px, 1px);height: 1px;margin: -1px;overflow: hidden;padding: 0;position: absolute;width: 1px;}#sk-container-id-1 div.sk-estimator {font-family: monospace;background-color: #f0f8ff;border: 1px dotted black;border-radius: 0.25em;box-sizing: border-box;margin-bottom: 0.5em;}#sk-container-id-1 div.sk-estimator:hover {background-color: #d4ebff;}#sk-container-id-1 div.sk-parallel-item::after {content: \"\";width: 100%;border-bottom: 1px solid gray;flex-grow: 1;}#sk-container-id-1 div.sk-label:hover label.sk-toggleable__label {background-color: #d4ebff;}#sk-container-id-1 div.sk-serial::before {content: \"\";position: absolute;border-left: 1px solid gray;box-sizing: border-box;top: 0;bottom: 0;left: 50%;z-index: 0;}#sk-container-id-1 div.sk-serial {display: flex;flex-direction: column;align-items: center;background-color: white;padding-right: 0.2em;padding-left: 0.2em;position: relative;}#sk-container-id-1 div.sk-item {position: relative;z-index: 1;}#sk-container-id-1 div.sk-parallel {display: flex;align-items: stretch;justify-content: center;background-color: white;position: relative;}#sk-container-id-1 div.sk-item::before, #sk-container-id-1 div.sk-parallel-item::before {content: \"\";position: absolute;border-left: 1px solid gray;box-sizing: border-box;top: 0;bottom: 0;left: 50%;z-index: -1;}#sk-container-id-1 div.sk-parallel-item {display: flex;flex-direction: column;z-index: 1;position: relative;background-color: white;}#sk-container-id-1 div.sk-parallel-item:first-child::after {align-self: flex-end;width: 50%;}#sk-container-id-1 div.sk-parallel-item:last-child::after {align-self: flex-start;width: 50%;}#sk-container-id-1 div.sk-parallel-item:only-child::after {width: 0;}#sk-container-id-1 div.sk-dashed-wrapped {border: 1px dashed gray;margin: 0 0.4em 0.5em 0.4em;box-sizing: border-box;padding-bottom: 0.4em;background-color: white;}#sk-container-id-1 div.sk-label label {font-family: monospace;font-weight: bold;display: inline-block;line-height: 1.2em;}#sk-container-id-1 div.sk-label-container {text-align: center;}#sk-container-id-1 div.sk-container {/* jupyter's `normalize.less` sets `[hidden] { display: none; }` but bootstrap.min.css set `[hidden] { display: none !important; }` so we also need the `!important` here to be able to override the default hidden behavior on the sphinx rendered scikit-learn.org. See: https://github.com/scikit-learn/scikit-learn/issues/21755 */display: inline-block !important;position: relative;}#sk-container-id-1 div.sk-text-repr-fallback {display: none;}</style><div id=\"sk-container-id-1\" class=\"sk-top-container\"><div class=\"sk-text-repr-fallback\"><pre>GridSearchCV(cv=5, estimator=LogisticRegression(max_iter=1000), n_jobs=-1,\n",
       "             param_grid={&#x27;C&#x27;: [0.01, 0.1, 1, 10, 100], &#x27;penalty&#x27;: [&#x27;l1&#x27;, &#x27;l2&#x27;],\n",
       "                         &#x27;solver&#x27;: [&#x27;newton-cg&#x27;, &#x27;lbfgs&#x27;, &#x27;liblinear&#x27;, &#x27;saga&#x27;]},\n",
       "             verbose=2)</pre><b>In a Jupyter environment, please rerun this cell to show the HTML representation or trust the notebook. <br />On GitHub, the HTML representation is unable to render, please try loading this page with nbviewer.org.</b></div><div class=\"sk-container\" hidden><div class=\"sk-item sk-dashed-wrapped\"><div class=\"sk-label-container\"><div class=\"sk-label sk-toggleable\"><input class=\"sk-toggleable__control sk-hidden--visually\" id=\"sk-estimator-id-1\" type=\"checkbox\" ><label for=\"sk-estimator-id-1\" class=\"sk-toggleable__label sk-toggleable__label-arrow\">GridSearchCV</label><div class=\"sk-toggleable__content\"><pre>GridSearchCV(cv=5, estimator=LogisticRegression(max_iter=1000), n_jobs=-1,\n",
       "             param_grid={&#x27;C&#x27;: [0.01, 0.1, 1, 10, 100], &#x27;penalty&#x27;: [&#x27;l1&#x27;, &#x27;l2&#x27;],\n",
       "                         &#x27;solver&#x27;: [&#x27;newton-cg&#x27;, &#x27;lbfgs&#x27;, &#x27;liblinear&#x27;, &#x27;saga&#x27;]},\n",
       "             verbose=2)</pre></div></div></div><div class=\"sk-parallel\"><div class=\"sk-parallel-item\"><div class=\"sk-item\"><div class=\"sk-label-container\"><div class=\"sk-label sk-toggleable\"><input class=\"sk-toggleable__control sk-hidden--visually\" id=\"sk-estimator-id-2\" type=\"checkbox\" ><label for=\"sk-estimator-id-2\" class=\"sk-toggleable__label sk-toggleable__label-arrow\">estimator: LogisticRegression</label><div class=\"sk-toggleable__content\"><pre>LogisticRegression(max_iter=1000)</pre></div></div></div><div class=\"sk-serial\"><div class=\"sk-item\"><div class=\"sk-estimator sk-toggleable\"><input class=\"sk-toggleable__control sk-hidden--visually\" id=\"sk-estimator-id-3\" type=\"checkbox\" ><label for=\"sk-estimator-id-3\" class=\"sk-toggleable__label sk-toggleable__label-arrow\">LogisticRegression</label><div class=\"sk-toggleable__content\"><pre>LogisticRegression(max_iter=1000)</pre></div></div></div></div></div></div></div></div></div></div>"
      ],
      "text/plain": [
       "GridSearchCV(cv=5, estimator=LogisticRegression(max_iter=1000), n_jobs=-1,\n",
       "             param_grid={'C': [0.01, 0.1, 1, 10, 100], 'penalty': ['l1', 'l2'],\n",
       "                         'solver': ['newton-cg', 'lbfgs', 'liblinear', 'saga']},\n",
       "             verbose=2)"
      ]
     },
     "execution_count": 12,
     "metadata": {},
     "output_type": "execute_result"
    }
   ],
   "source": [
    "# Perform Grid Search to find the best parameters for Logistic Regression\n",
    "\n",
    "# Define hyperparameters grid\n",
    "param_grid = {\n",
    "    'C': [0.01, 0.1, 1, 10, 100],\n",
    "    'penalty': ['l1', 'l2'],\n",
    "    'solver': ['newton-cg', 'lbfgs', 'liblinear', 'saga']\n",
    "}\n",
    "\n",
    "# Initialize Logistic Regression\n",
    "clf = LogisticRegression(max_iter=1000)\n",
    "\n",
    "# Initialize GridSearchCV with 5-fold cross-validation\n",
    "grid_search = GridSearchCV(clf, param_grid, cv=5, verbose=2, n_jobs=-1)\n",
    "\n",
    "# Fit the grid search\n",
    "grid_search.fit(X_train, y_train)"
   ]
  },
  {
   "cell_type": "code",
   "execution_count": 13,
   "metadata": {},
   "outputs": [
    {
     "name": "stdout",
     "output_type": "stream",
     "text": [
      "Best Parameters: {'C': 1, 'penalty': 'l2', 'solver': 'newton-cg'}\n"
     ]
    }
   ],
   "source": [
    "# Best hyperparameters\n",
    "best_parameters = grid_search.best_params_\n",
    "print(\"Best Parameters:\", best_parameters)"
   ]
  },
  {
   "cell_type": "code",
   "execution_count": 18,
   "metadata": {},
   "outputs": [],
   "source": [
    "# Best Model\n",
    "lr_best = LogisticRegression(max_iter=1000, C=best_parameters['C'], penalty=best_parameters['penalty'], solver=best_parameters['solver'])\n",
    "\n",
    "# Fit the best model    \n",
    "lr_best.fit(X_train, y_train)\n",
    "\n",
    "# Predict the labels of the test set\n",
    "y_pred_test_best = lr_best.predict(X_test)"
   ]
  },
  {
   "cell_type": "code",
   "execution_count": 16,
   "metadata": {},
   "outputs": [
    {
     "name": "stdout",
     "output_type": "stream",
     "text": [
      "Best Logistic Regression: Test Data\n",
      "Accuracy: 0.9150666666666667\n",
      "Confusion Matrix:\n",
      "[[3429  279]\n",
      " [ 358 3434]]\n",
      "Classification Report:\n",
      "              precision    recall  f1-score   support\n",
      "\n",
      "           0       0.91      0.92      0.92      3708\n",
      "           1       0.92      0.91      0.92      3792\n",
      "\n",
      "    accuracy                           0.92      7500\n",
      "   macro avg       0.92      0.92      0.92      7500\n",
      "weighted avg       0.92      0.92      0.92      7500\n",
      "\n",
      "AUC Score: 0.9151739994264881\n",
      "Weighted F1-score: 0.9150672630876725\n"
     ]
    }
   ],
   "source": [
    "# Print the accuracy\n",
    "print(\"Best Logistic Regression: Test Data\")\n",
    "print(\"Accuracy:\", accuracy_score(y_test, y_pred))\n",
    "\n",
    "# Print the confusion matrix\n",
    "print(\"Confusion Matrix:\")\n",
    "print(confusion_matrix(y_test, y_pred))\n",
    "\n",
    "# Print the classification report\n",
    "print(\"Classification Report:\")\n",
    "print(classification_report(y_test, y_pred))\n",
    "\n",
    "# Print AUC score\n",
    "print(\"AUC Score:\", roc_auc_score(y_test, y_pred))\n",
    "\n",
    "# Print weighted F1-score\n",
    "print(\"Weighted F1-score:\", f1_score(y_test, y_pred, average='weighted'))"
   ]
  },
  {
   "cell_type": "code",
   "execution_count": 17,
   "metadata": {},
   "outputs": [
    {
     "name": "stdout",
     "output_type": "stream",
     "text": [
      "Best Logistic Regression: Training Data\n",
      "Accuracy: 0.9211111111111111\n",
      "Confusion Matrix:\n",
      "[[10549   743]\n",
      " [ 1032 10176]]\n",
      "Classification Report:\n",
      "              precision    recall  f1-score   support\n",
      "\n",
      "           0       0.91      0.93      0.92     11292\n",
      "           1       0.93      0.91      0.92     11208\n",
      "\n",
      "    accuracy                           0.92     22500\n",
      "   macro avg       0.92      0.92      0.92     22500\n",
      "weighted avg       0.92      0.92      0.92     22500\n",
      "\n",
      "AUC Score: 0.9210620582990289\n",
      "Weighted F1-score: 0.921094308497212\n"
     ]
    }
   ],
   "source": [
    "# Training Data\n",
    "# Predict the labels of the training set\n",
    "y_pred_train_best = lr_best.predict(X_train)\n",
    "\n",
    "# Print the accuracy\n",
    "print(\"Best Logistic Regression: Training Data\")\n",
    "print(\"Accuracy:\", accuracy_score(y_train, y_pred_train_best))\n",
    "\n",
    "# Print the confusion matrix\n",
    "print(\"Confusion Matrix:\")\n",
    "print(confusion_matrix(y_train, y_pred_train_best))\n",
    "\n",
    "# Print the classification report\n",
    "print(\"Classification Report:\")\n",
    "print(classification_report(y_train, y_pred_train_best))\n",
    "\n",
    "# Print AUC score\n",
    "print(\"AUC Score:\", roc_auc_score(y_train, y_pred_train_best))\n",
    "\n",
    "# Print weighted F1-score\n",
    "print(\"Weighted F1-score:\", f1_score(y_train, y_pred_train_best, average='weighted'))"
   ]
  },
  {
   "cell_type": "markdown",
   "metadata": {},
   "source": [
    "### Principal Component Analysis"
   ]
  },
  {
   "cell_type": "code",
   "execution_count": 37,
   "metadata": {},
   "outputs": [
    {
     "data": {
      "image/png": "[encoded data removed]",
      "text/plain": [
       "<Figure size 432x288 with 1 Axes>"
      ]
     },
     "metadata": {
      "needs_background": "light"
     },
     "output_type": "display_data"
    }
   ],
   "source": [
    "# Plot No. of Components vs. Explained Variance and mark at 75% explained variance\n",
    "pca = PCA().fit(X_train)\n",
    "plt.plot(np.cumsum(pca.explained_variance_ratio_))\n",
    "plt.xlabel('No. of Components')\n",
    "plt.ylabel('Explained Variance')\n",
    "plt.axhline(y=0.75, color='r', linestyle='-')\n",
    "plt.text(0.5, 0.8, '75%', color = 'red', fontsize=16)\n",
    "plt.show()"
   ]
  },
  {
   "cell_type": "code",
   "execution_count": 38,
   "metadata": {},
   "outputs": [
    {
     "name": "stdout",
     "output_type": "stream",
     "text": [
      "No. of Components: 434\n"
     ]
    }
   ],
   "source": [
    "cumulative_explained_variance = np.cumsum(pca.explained_variance_ratio_)\n",
    "n_components = np.argmax(cumulative_explained_variance >= 0.75) + 1\n",
    "print(\"No. of Components:\", n_components)"
   ]
  },
  {
   "cell_type": "code",
   "execution_count": 39,
   "metadata": {},
   "outputs": [],
   "source": [
    "# Perform PCA on the data and extract the features that explain 75% of the variance\n",
    "pca = PCA(n_components=0.75)\n",
    "X_train_pca = pca.fit_transform(X_train)\n",
    "X_test_pca = pca.transform(X_test)"
   ]
  },
  {
   "cell_type": "code",
   "execution_count": 40,
   "metadata": {},
   "outputs": [
    {
     "name": "stdout",
     "output_type": "stream",
     "text": [
      "(22500, 434)\n"
     ]
    }
   ],
   "source": [
    "print(X_train_pca.shape)"
   ]
  },
  {
   "cell_type": "code",
   "execution_count": 41,
   "metadata": {},
   "outputs": [],
   "source": [
    "# Run Logistic Regression \n",
    "# Initialize Logistic Regression\n",
    "lr_pca = LogisticRegression(max_iter=1000, C=best_parameters['C'], penalty=best_parameters['penalty'], solver=best_parameters['solver'])\n",
    "\n",
    "# Fit the model on the training data\n",
    "lr_pca.fit(X_train_pca, y_train)\n",
    "\n",
    "# Predict on the test data\n",
    "y_pred_test_pca = lr_pca.predict(X_test_pca)"
   ]
  },
  {
   "cell_type": "code",
   "execution_count": 43,
   "metadata": {},
   "outputs": [
    {
     "name": "stdout",
     "output_type": "stream",
     "text": [
      "Logistic Regression with PCA: Test Data\n",
      "Accuracy Score: 0.9134666666666666\n",
      "Confusion Matrix:\n",
      " [[3431  277]\n",
      " [ 372 3420]]\n",
      "AUC Score: 0.9135976950281977\n",
      "Classification Report:\n",
      "               precision    recall  f1-score   support\n",
      "\n",
      "           0       0.90      0.93      0.91      3708\n",
      "           1       0.93      0.90      0.91      3792\n",
      "\n",
      "    accuracy                           0.91      7500\n",
      "   macro avg       0.91      0.91      0.91      7500\n",
      "weighted avg       0.91      0.91      0.91      7500\n",
      "\n",
      "Weighted F1-score: 0.9134650590661715\n"
     ]
    }
   ],
   "source": [
    "# Print the accuracy score\n",
    "print(\"Logistic Regression with PCA: Test Data\")\n",
    "print(\"Accuracy Score:\", accuracy_score(y_test, y_pred_test_pca))\n",
    "\n",
    "# Print the confusion matrix\n",
    "print(\"Confusion Matrix:\\n\", confusion_matrix(y_test, y_pred_test_pca))\n",
    "\n",
    "# Print AUC score\n",
    "print(\"AUC Score:\", roc_auc_score(y_test, y_pred_test_pca))\n",
    "\n",
    "# Print the classification report\n",
    "print(\"Classification Report:\\n\", classification_report(y_test, y_pred_test_pca))\n",
    "\n",
    "# Print weighted F1-score\n",
    "print(\"Weighted F1-score:\", f1_score(y_test, y_pred_test_pca, average='weighted'))"
   ]
  },
  {
   "cell_type": "code",
   "execution_count": 44,
   "metadata": {},
   "outputs": [
    {
     "name": "stdout",
     "output_type": "stream",
     "text": [
      "Logistic Regression with PCA: Training Data\n",
      "Accuracy Score: 0.9144\n",
      "Confusion Matrix:\n",
      " [[10468   824]\n",
      " [ 1102 10106]]\n",
      "AUC Score: 0.9143526788592632\n",
      "Classification Report:\n",
      "               precision    recall  f1-score   support\n",
      "\n",
      "           0       0.90      0.93      0.92     11292\n",
      "           1       0.92      0.90      0.91     11208\n",
      "\n",
      "    accuracy                           0.91     22500\n",
      "   macro avg       0.91      0.91      0.91     22500\n",
      "weighted avg       0.91      0.91      0.91     22500\n",
      "\n",
      "Weighted F1-score: 0.9143829794132429\n"
     ]
    }
   ],
   "source": [
    "# Training Data\n",
    "# Predict on the training data\n",
    "y_pred_train_pca = lr_pca.predict(X_train_pca)\n",
    "\n",
    "# Print the accuracy score\n",
    "print(\"Logistic Regression with PCA: Training Data\")\n",
    "print(\"Accuracy Score:\", accuracy_score(y_train, y_pred_train_pca))\n",
    "\n",
    "# Print the confusion matrix\n",
    "print(\"Confusion Matrix:\\n\", confusion_matrix(y_train, y_pred_train_pca))\n",
    "\n",
    "# Print AUC score\n",
    "print(\"AUC Score:\", roc_auc_score(y_train, y_pred_train_pca))\n",
    "\n",
    "# Print the classification report\n",
    "print(\"Classification Report:\\n\", classification_report(y_train, y_pred_train_pca))\n",
    "\n",
    "# Print weighted F1-score\n",
    "print(\"Weighted F1-score:\", f1_score(y_train, y_pred_train_pca, average='weighted'))"
   ]
  }
 ],
 "metadata": {
  "kernelspec": {
   "display_name": "Python 3",
   "language": "python",
   "name": "python3"
  },
  "language_info": {
   "codemirror_mode": {
    "name": "ipython",
    "version": 3
   },
   "file_extension": ".py",
   "mimetype": "text/x-python",
   "name": "python",
   "nbconvert_exporter": "python",
   "pygments_lexer": "ipython3",
   "version": "3.10.0"
  }
 },
 "nbformat": 4,
 "nbformat_minor": 2
}
