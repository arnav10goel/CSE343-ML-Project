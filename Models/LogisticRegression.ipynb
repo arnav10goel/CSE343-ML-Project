{
 "cells": [
  {
   "cell_type": "code",
   "execution_count": 1,
   "metadata": {},
   "outputs": [],
   "source": [
    "import numpy as np\n",
    "import pandas as pd\n",
    "import matplotlib.pyplot as plt\n",
    "\n",
    "from sklearn.linear_model import LogisticRegression\n",
    "from sklearn.model_selection import GridSearchCV\n",
    "\n",
    "from sklearn.metrics import accuracy_score, confusion_matrix, classification_report\n",
    "from sklearn.metrics import roc_curve, auc, roc_auc_score\n",
    "from sklearn.metrics import precision_recall_curve, average_precision_score\n",
    "from sklearn.metrics import f1_score\n",
    "from sklearn.preprocessing import StandardScaler\n",
    "from sklearn.decomposition import PCA"
   ]
  },
  {
   "cell_type": "code",
   "execution_count": 2,
   "metadata": {},
   "outputs": [
    {
     "name": "stdout",
     "output_type": "stream",
     "text": [
      "(22500, 1000)\n",
      "(7500, 1000)\n"
     ]
    }
   ],
   "source": [
    "# Open the .csv files\n",
    "X_train = pd.read_csv('/Users/arnav/Desktop/MachineLearning/ML_CSE343 Project/train_tfidf.csv')\n",
    "X_test = pd.read_csv('/Users/arnav/Desktop/MachineLearning/ML_CSE343 Project/test_tfidf.csv')\n",
    "\n",
    "X_train = X_train.drop(['Unnamed: 0'], axis=1)\n",
    "X_test = X_test.drop(['Unnamed: 0'], axis=1)\n",
    "\n",
    "# Check the shape of the data\n",
    "print(X_train.shape)\n",
    "print(X_test.shape)"
   ]
  },
  {
   "cell_type": "code",
   "execution_count": 3,
   "metadata": {},
   "outputs": [],
   "source": [
    "# Extract the features into a numpy array\n",
    "X_train = X_train.values\n",
    "X_test = X_test.values"
   ]
  },
  {
   "cell_type": "code",
   "execution_count": 4,
   "metadata": {},
   "outputs": [
    {
     "name": "stdout",
     "output_type": "stream",
     "text": [
      "(22500, 1)\n",
      "(7500, 1)\n"
     ]
    }
   ],
   "source": [
    "# Open the labels\n",
    "y_train_df = pd.read_csv('/Users/arnav/Desktop/MachineLearning/ML_CSE343 Project/CSE343-ML-Project/Data/Preprocessed-Data/train_labels.csv')\n",
    "y_test_df = pd.read_csv('/Users/arnav/Desktop/MachineLearning/ML_CSE343 Project/CSE343-ML-Project/Data/Preprocessed-Data/test_labels.csv')\n",
    "\n",
    "# Check the shape of the labels\n",
    "print(y_train_df.shape)\n",
    "print(y_test_df.shape)"
   ]
  },
  {
   "cell_type": "code",
   "execution_count": 5,
   "metadata": {},
   "outputs": [
    {
     "name": "stdout",
     "output_type": "stream",
     "text": [
      "(22500,)\n",
      "(7500,)\n"
     ]
    }
   ],
   "source": [
    "# Convert class to non_suicide = 0 and suicide = 1\n",
    "y_train_temp = y_train_df['class'].values\n",
    "y_test_temp = y_test_df['class'].values\n",
    "\n",
    "# Check the shape of the labels\n",
    "print(y_train_temp.shape)\n",
    "print(y_test_temp.shape)"
   ]
  },
  {
   "cell_type": "code",
   "execution_count": 6,
   "metadata": {},
   "outputs": [
    {
     "name": "stdout",
     "output_type": "stream",
     "text": [
      "(22500,)\n",
      "(7500,)\n"
     ]
    }
   ],
   "source": [
    "# Making the Labels Numeric\n",
    "y_train = np.array([0 if label == \"non-suicide\" else 1 for label in y_train_temp])\n",
    "y_test = np.array([0 if label == \"non-suicide\" else 1 for label in y_test_temp])\n",
    "\n",
    "# Check the shape of the labels\n",
    "print(y_train.shape)\n",
    "print(y_test.shape)\n"
   ]
  },
  {
   "cell_type": "code",
   "execution_count": 7,
   "metadata": {},
   "outputs": [
    {
     "name": "stdout",
     "output_type": "stream",
     "text": [
      "0.004686103127390068 0.0312074847455884\n"
     ]
    }
   ],
   "source": [
    "# Standard Preprocessing\n",
    "# Check the mean and standard deviation of the data\n",
    "print(np.mean(X_train), np.std(X_train))"
   ]
  },
  {
   "cell_type": "code",
   "execution_count": 8,
   "metadata": {},
   "outputs": [
    {
     "name": "stdout",
     "output_type": "stream",
     "text": [
      "Fitting 5 folds for each of 70 candidates, totalling 350 fits\n",
      "[CV] END ..............C=0.001, penalty=l1, solver=newton-cg; total time=   0.8s\n",
      "[CV] END ..............C=0.001, penalty=l1, solver=newton-cg; total time=   0.8s\n",
      "[CV] END ..............C=0.001, penalty=l1, solver=newton-cg; total time=   0.8s\n",
      "[CV] END ..............C=0.001, penalty=l1, solver=newton-cg; total time=   0.8s\n",
      "[CV] END ..................C=0.001, penalty=l1, solver=lbfgs; total time=   0.8s\n",
      "[CV] END ..................C=0.001, penalty=l1, solver=lbfgs; total time=   0.8s\n",
      "[CV] END ..............C=0.001, penalty=l1, solver=newton-cg; total time=   0.8s\n",
      "[CV] END ..................C=0.001, penalty=l1, solver=lbfgs; total time=   0.8s\n",
      "[CV] END ..................C=0.001, penalty=l1, solver=lbfgs; total time=   0.1s\n",
      "[CV] END ..................C=0.001, penalty=l1, solver=lbfgs; total time=   0.2s\n",
      "[CV] END ....................C=0.001, penalty=l1, solver=sag; total time=   0.2s\n",
      "[CV] END ....................C=0.001, penalty=l1, solver=sag; total time=   0.1s\n",
      "[CV] END ....................C=0.001, penalty=l1, solver=sag; total time=   0.1s\n",
      "[CV] END ....................C=0.001, penalty=l1, solver=sag; total time=   0.1s\n",
      "[CV] END ....................C=0.001, penalty=l1, solver=sag; total time=   0.2s\n",
      "[CV] END ..............C=0.001, penalty=l1, solver=liblinear; total time=   0.8s\n",
      "[CV] END ..............C=0.001, penalty=l1, solver=liblinear; total time=   0.8s\n",
      "[CV] END ..............C=0.001, penalty=l1, solver=liblinear; total time=   0.8s\n",
      "[CV] END ..............C=0.001, penalty=l1, solver=liblinear; total time=   0.8s\n",
      "[CV] END ..............C=0.001, penalty=l1, solver=liblinear; total time=   0.8s\n",
      "[CV] END ...................C=0.001, penalty=l1, solver=saga; total time=   2.1s\n",
      "[CV] END ...................C=0.001, penalty=l1, solver=saga; total time=   2.1s\n",
      "[CV] END ...................C=0.001, penalty=l1, solver=saga; total time=   2.4s\n",
      "[CV] END ...................C=0.001, penalty=l1, solver=saga; total time=   2.4s\n",
      "[CV] END ...................C=0.001, penalty=l1, solver=saga; total time=   2.7s\n",
      "[CV] END ..................C=0.001, penalty=l2, solver=lbfgs; total time=   1.0s\n",
      "[CV] END ..................C=0.001, penalty=l2, solver=lbfgs; total time=   0.8s\n",
      "[CV] END ..................C=0.001, penalty=l2, solver=lbfgs; total time=   0.8s\n",
      "[CV] END ..................C=0.001, penalty=l2, solver=lbfgs; total time=   0.7s\n",
      "[CV] END ..................C=0.001, penalty=l2, solver=lbfgs; total time=   0.9s\n",
      "[CV] END ..............C=0.001, penalty=l2, solver=liblinear; total time=   0.7s\n",
      "[CV] END ..............C=0.001, penalty=l2, solver=newton-cg; total time=   4.3s\n",
      "[CV] END ..............C=0.001, penalty=l2, solver=newton-cg; total time=   4.5s\n",
      "[CV] END ..............C=0.001, penalty=l2, solver=liblinear; total time=   0.4s\n",
      "[CV] END ..............C=0.001, penalty=l2, solver=liblinear; total time=   0.8s\n",
      "[CV] END ..............C=0.001, penalty=l2, solver=liblinear; total time=   1.0s\n",
      "[CV] END ..............C=0.001, penalty=l2, solver=liblinear; total time=   0.7s\n",
      "[CV] END ..............C=0.001, penalty=l2, solver=newton-cg; total time=   5.6s\n",
      "[CV] END ..............C=0.001, penalty=l2, solver=newton-cg; total time=   4.5s\n",
      "[CV] END ..............C=0.001, penalty=l2, solver=newton-cg; total time=   4.3s\n",
      "[CV] END ....................C=0.001, penalty=l2, solver=sag; total time=   3.2s\n",
      "[CV] END ....................C=0.001, penalty=l2, solver=sag; total time=   3.0s\n",
      "[CV] END ....................C=0.001, penalty=l2, solver=sag; total time=   3.5s\n",
      "[CV] END ....................C=0.001, penalty=l2, solver=sag; total time=   3.9s\n",
      "[CV] END ...............C=0.01, penalty=l1, solver=newton-cg; total time=   0.1s\n",
      "[CV] END ...............C=0.01, penalty=l1, solver=newton-cg; total time=   0.1s\n",
      "[CV] END ....................C=0.001, penalty=l2, solver=sag; total time=   3.8s\n",
      "[CV] END ...............C=0.01, penalty=l1, solver=newton-cg; total time=   0.1s\n",
      "[CV] END ...............C=0.01, penalty=l1, solver=newton-cg; total time=   0.1s\n",
      "[CV] END ...............C=0.01, penalty=l1, solver=newton-cg; total time=   0.1s\n",
      "[CV] END ...................C=0.01, penalty=l1, solver=lbfgs; total time=   0.1s\n",
      "[CV] END ...................C=0.001, penalty=l2, solver=saga; total time=   3.1s\n",
      "[CV] END ...................C=0.01, penalty=l1, solver=lbfgs; total time=   0.1s\n",
      "[CV] END ...................C=0.01, penalty=l1, solver=lbfgs; total time=   0.1s\n",
      "[CV] END ...................C=0.01, penalty=l1, solver=lbfgs; total time=   0.1s\n",
      "[CV] END ...................C=0.01, penalty=l1, solver=lbfgs; total time=   0.1s\n",
      "[CV] END ...............C=0.01, penalty=l1, solver=liblinear; total time=   0.2s\n",
      "[CV] END ...............C=0.01, penalty=l1, solver=liblinear; total time=   0.2s\n",
      "[CV] END ...............C=0.01, penalty=l1, solver=liblinear; total time=   0.3s\n",
      "[CV] END ...............C=0.01, penalty=l1, solver=liblinear; total time=   0.2s\n",
      "[CV] END .....................C=0.01, penalty=l1, solver=sag; total time=   0.1s\n",
      "[CV] END .....................C=0.01, penalty=l1, solver=sag; total time=   0.1s\n",
      "[CV] END .....................C=0.01, penalty=l1, solver=sag; total time=   0.1s\n",
      "[CV] END ...............C=0.01, penalty=l1, solver=liblinear; total time=   0.2s\n",
      "[CV] END .....................C=0.01, penalty=l1, solver=sag; total time=   0.1s\n",
      "[CV] END .....................C=0.01, penalty=l1, solver=sag; total time=   0.1s\n",
      "[CV] END ...................C=0.001, penalty=l2, solver=saga; total time=   3.1s\n",
      "[CV] END ...................C=0.001, penalty=l2, solver=saga; total time=   3.3s\n",
      "[CV] END ...............C=0.01, penalty=l2, solver=newton-cg; total time=   1.3s\n",
      "[CV] END ...................C=0.001, penalty=l2, solver=saga; total time=   3.0s\n",
      "[CV] END ...................C=0.001, penalty=l2, solver=saga; total time=   3.6s\n",
      "[CV] END ...............C=0.01, penalty=l2, solver=newton-cg; total time=   2.1s\n",
      "[CV] END ...............C=0.01, penalty=l2, solver=newton-cg; total time=   2.5s\n",
      "[CV] END ....................C=0.01, penalty=l1, solver=saga; total time=   4.7s\n",
      "[CV] END ....................C=0.01, penalty=l1, solver=saga; total time=   4.7s\n",
      "[CV] END ....................C=0.01, penalty=l1, solver=saga; total time=   4.8s\n",
      "[CV] END ...................C=0.01, penalty=l2, solver=lbfgs; total time=   0.6s\n",
      "[CV] END ....................C=0.01, penalty=l1, solver=saga; total time=   5.1s\n",
      "[CV] END ...................C=0.01, penalty=l2, solver=lbfgs; total time=   0.7s\n",
      "[CV] END ....................C=0.01, penalty=l1, solver=saga; total time=   5.6s\n",
      "[CV] END ...................C=0.01, penalty=l2, solver=lbfgs; total time=   0.8s\n",
      "[CV] END ...................C=0.01, penalty=l2, solver=lbfgs; total time=   0.8s\n",
      "[CV] END ...............C=0.01, penalty=l2, solver=liblinear; total time=   0.6s\n",
      "[CV] END ...............C=0.01, penalty=l2, solver=newton-cg; total time=   3.1s\n",
      "[CV] END ...................C=0.01, penalty=l2, solver=lbfgs; total time=   0.7s\n",
      "[CV] END ...............C=0.01, penalty=l2, solver=liblinear; total time=   0.5s\n",
      "[CV] END ...............C=0.01, penalty=l2, solver=liblinear; total time=   0.5s\n",
      "[CV] END ...............C=0.01, penalty=l2, solver=liblinear; total time=   0.5s\n",
      "[CV] END ...............C=0.01, penalty=l2, solver=liblinear; total time=   0.5s\n",
      "[CV] END ...............C=0.01, penalty=l2, solver=newton-cg; total time=   2.6s\n",
      "[CV] END .....................C=0.01, penalty=l2, solver=sag; total time=   2.4s\n",
      "[CV] END .....................C=0.01, penalty=l2, solver=sag; total time=   2.3s\n",
      "[CV] END .....................C=0.01, penalty=l2, solver=sag; total time=   2.5s\n",
      "[CV] END ................C=0.1, penalty=l1, solver=newton-cg; total time=   0.1s\n",
      "[CV] END ................C=0.1, penalty=l1, solver=newton-cg; total time=   0.1s\n",
      "[CV] END ................C=0.1, penalty=l1, solver=newton-cg; total time=   0.1s\n",
      "[CV] END .....................C=0.01, penalty=l2, solver=sag; total time=   2.5s\n",
      "[CV] END ................C=0.1, penalty=l1, solver=newton-cg; total time=   0.1s\n",
      "[CV] END .....................C=0.01, penalty=l2, solver=sag; total time=   2.4s\n",
      "[CV] END ................C=0.1, penalty=l1, solver=newton-cg; total time=   0.1s\n",
      "[CV] END ....................C=0.1, penalty=l1, solver=lbfgs; total time=   0.1s\n",
      "[CV] END ....................C=0.1, penalty=l1, solver=lbfgs; total time=   0.1s\n",
      "[CV] END ....................C=0.1, penalty=l1, solver=lbfgs; total time=   0.1s\n",
      "[CV] END ....................C=0.1, penalty=l1, solver=lbfgs; total time=   0.1s\n",
      "[CV] END ....................C=0.1, penalty=l1, solver=lbfgs; total time=   0.1s\n",
      "[CV] END ................C=0.1, penalty=l1, solver=liblinear; total time=   0.2s\n",
      "[CV] END ................C=0.1, penalty=l1, solver=liblinear; total time=   0.2s\n",
      "[CV] END ................C=0.1, penalty=l1, solver=liblinear; total time=   0.2s\n",
      "[CV] END ......................C=0.1, penalty=l1, solver=sag; total time=   0.1s\n",
      "[CV] END ....................C=0.01, penalty=l2, solver=saga; total time=   2.7s\n",
      "[CV] END ....................C=0.01, penalty=l2, solver=saga; total time=   2.9s\n",
      "[CV] END ......................C=0.1, penalty=l1, solver=sag; total time=   0.1s\n",
      "[CV] END ................C=0.1, penalty=l1, solver=liblinear; total time=   0.2s\n",
      "[CV] END ......................C=0.1, penalty=l1, solver=sag; total time=   0.1s\n",
      "[CV] END ................C=0.1, penalty=l1, solver=liblinear; total time=   0.3s\n",
      "[CV] END ......................C=0.1, penalty=l1, solver=sag; total time=   0.1s\n",
      "[CV] END ......................C=0.1, penalty=l1, solver=sag; total time=   0.1s\n",
      "[CV] END ....................C=0.01, penalty=l2, solver=saga; total time=   3.2s\n",
      "[CV] END ................C=0.1, penalty=l2, solver=newton-cg; total time=   1.4s\n",
      "[CV] END ....................C=0.01, penalty=l2, solver=saga; total time=   2.7s\n",
      "[CV] END ....................C=0.01, penalty=l2, solver=saga; total time=   3.2s\n",
      "[CV] END .....................C=0.1, penalty=l1, solver=saga; total time=   4.6s\n",
      "[CV] END ................C=0.1, penalty=l2, solver=newton-cg; total time=   3.0s\n",
      "[CV] END .....................C=0.1, penalty=l1, solver=saga; total time=   4.7s\n",
      "[CV] END .....................C=0.1, penalty=l1, solver=saga; total time=   5.1s\n",
      "[CV] END .....................C=0.1, penalty=l1, solver=saga; total time=   5.1s\n",
      "[CV] END .....................C=0.1, penalty=l1, solver=saga; total time=   5.2s\n",
      "[CV] END ................C=0.1, penalty=l2, solver=newton-cg; total time=   4.0s\n",
      "[CV] END ................C=0.1, penalty=l2, solver=newton-cg; total time=   3.7s\n",
      "[CV] END ................C=0.1, penalty=l2, solver=liblinear; total time=   0.5s\n",
      "[CV] END ................C=0.1, penalty=l2, solver=liblinear; total time=   0.4s\n",
      "[CV] END ....................C=0.1, penalty=l2, solver=lbfgs; total time=   1.8s\n",
      "[CV] END ....................C=0.1, penalty=l2, solver=lbfgs; total time=   1.3s\n",
      "[CV] END ................C=0.1, penalty=l2, solver=liblinear; total time=   0.5s\n",
      "[CV] END ....................C=0.1, penalty=l2, solver=lbfgs; total time=   1.4s\n",
      "[CV] END ................C=0.1, penalty=l2, solver=liblinear; total time=   0.5s\n",
      "[CV] END ....................C=0.1, penalty=l2, solver=lbfgs; total time=   2.0s\n",
      "[CV] END ....................C=0.1, penalty=l2, solver=lbfgs; total time=   1.7s\n",
      "[CV] END ................C=0.1, penalty=l2, solver=liblinear; total time=   0.6s\n",
      "[CV] END ................C=0.1, penalty=l2, solver=newton-cg; total time=   3.1s\n",
      "[CV] END ......................C=0.1, penalty=l2, solver=sag; total time=   2.4s\n",
      "[CV] END ......................C=0.1, penalty=l2, solver=sag; total time=   2.9s\n",
      "[CV] END ......................C=0.1, penalty=l2, solver=sag; total time=   3.1s\n",
      "[CV] END ......................C=0.1, penalty=l2, solver=sag; total time=   2.9s\n",
      "[CV] END ..................C=1, penalty=l1, solver=newton-cg; total time=   0.1s\n",
      "[CV] END ..................C=1, penalty=l1, solver=newton-cg; total time=   0.1s\n",
      "[CV] END ......................C=0.1, penalty=l2, solver=sag; total time=   3.2s\n",
      "[CV] END ..................C=1, penalty=l1, solver=newton-cg; total time=   0.1s\n",
      "[CV] END .....................C=0.1, penalty=l2, solver=saga; total time=   2.8s\n",
      "[CV] END ..................C=1, penalty=l1, solver=newton-cg; total time=   0.1s\n",
      "[CV] END ..................C=1, penalty=l1, solver=newton-cg; total time=   0.1s\n",
      "[CV] END ......................C=1, penalty=l1, solver=lbfgs; total time=   0.1s\n",
      "[CV] END ......................C=1, penalty=l1, solver=lbfgs; total time=   0.1s\n",
      "[CV] END ......................C=1, penalty=l1, solver=lbfgs; total time=   0.1s\n",
      "[CV] END ......................C=1, penalty=l1, solver=lbfgs; total time=   0.1s\n",
      "[CV] END .....................C=0.1, penalty=l2, solver=saga; total time=   3.1s\n",
      "[CV] END ......................C=1, penalty=l1, solver=lbfgs; total time=   0.1s\n",
      "[CV] END ..................C=1, penalty=l1, solver=liblinear; total time=   0.4s\n",
      "[CV] END ..................C=1, penalty=l1, solver=liblinear; total time=   0.4s\n",
      "[CV] END ..................C=1, penalty=l1, solver=liblinear; total time=   0.4s\n",
      "[CV] END ........................C=1, penalty=l1, solver=sag; total time=   0.1s\n",
      "[CV] END ..................C=1, penalty=l1, solver=liblinear; total time=   0.4s\n",
      "[CV] END ........................C=1, penalty=l1, solver=sag; total time=   0.1s\n",
      "[CV] END ........................C=1, penalty=l1, solver=sag; total time=   0.1s\n",
      "[CV] END ..................C=1, penalty=l1, solver=liblinear; total time=   0.5s\n",
      "[CV] END ........................C=1, penalty=l1, solver=sag; total time=   0.1s\n",
      "[CV] END ........................C=1, penalty=l1, solver=sag; total time=   0.1s\n",
      "[CV] END .....................C=0.1, penalty=l2, solver=saga; total time=   3.4s\n",
      "[CV] END .....................C=0.1, penalty=l2, solver=saga; total time=   2.7s\n",
      "[CV] END .....................C=0.1, penalty=l2, solver=saga; total time=   3.2s\n",
      "[CV] END ..................C=1, penalty=l2, solver=newton-cg; total time=   3.4s\n",
      "[CV] END ..................C=1, penalty=l2, solver=newton-cg; total time=   4.6s\n",
      "[CV] END ..................C=1, penalty=l2, solver=newton-cg; total time=   5.0s\n",
      "[CV] END ..................C=1, penalty=l2, solver=newton-cg; total time=   4.0s\n",
      "[CV] END ......................C=1, penalty=l2, solver=lbfgs; total time=   1.9s\n",
      "[CV] END ......................C=1, penalty=l2, solver=lbfgs; total time=   1.4s\n",
      "[CV] END ..................C=1, penalty=l2, solver=newton-cg; total time=   3.7s\n",
      "[CV] END .......................C=1, penalty=l1, solver=saga; total time=  10.0s\n",
      "[CV] END ......................C=1, penalty=l2, solver=lbfgs; total time=   1.5s\n",
      "[CV] END ..................C=1, penalty=l2, solver=liblinear; total time=   0.3s\n",
      "[CV] END ..................C=1, penalty=l2, solver=liblinear; total time=   0.4s\n",
      "[CV] END ..................C=1, penalty=l2, solver=liblinear; total time=   0.4s\n",
      "[CV] END ......................C=1, penalty=l2, solver=lbfgs; total time=   1.6s\n",
      "[CV] END ..................C=1, penalty=l2, solver=liblinear; total time=   0.4s\n",
      "[CV] END ..................C=1, penalty=l2, solver=liblinear; total time=   0.4s\n",
      "[CV] END ......................C=1, penalty=l2, solver=lbfgs; total time=   1.4s\n",
      "[CV] END .......................C=1, penalty=l1, solver=saga; total time=  11.8s\n",
      "[CV] END .......................C=1, penalty=l1, solver=saga; total time=  12.0s\n",
      "[CV] END .......................C=1, penalty=l1, solver=saga; total time=  12.4s\n",
      "[CV] END .......................C=1, penalty=l1, solver=saga; total time=  12.7s\n",
      "[CV] END ........................C=1, penalty=l2, solver=sag; total time=   3.6s\n",
      "[CV] END ........................C=1, penalty=l2, solver=sag; total time=   3.8s\n",
      "[CV] END .......................C=1, penalty=l2, solver=saga; total time=   3.1s\n",
      "[CV] END .................C=10, penalty=l1, solver=newton-cg; total time=   0.1s\n",
      "[CV] END .................C=10, penalty=l1, solver=newton-cg; total time=   0.1s\n",
      "[CV] END .................C=10, penalty=l1, solver=newton-cg; total time=   0.1s\n",
      "[CV] END .......................C=1, penalty=l2, solver=saga; total time=   2.7s\n",
      "[CV] END .................C=10, penalty=l1, solver=newton-cg; total time=   0.1s\n",
      "[CV] END .................C=10, penalty=l1, solver=newton-cg; total time=   0.1s\n",
      "[CV] END .....................C=10, penalty=l1, solver=lbfgs; total time=   0.1s\n",
      "[CV] END ........................C=1, penalty=l2, solver=sag; total time=   4.5s\n",
      "[CV] END .....................C=10, penalty=l1, solver=lbfgs; total time=   0.1s\n",
      "[CV] END .....................C=10, penalty=l1, solver=lbfgs; total time=   0.1s\n",
      "[CV] END .....................C=10, penalty=l1, solver=lbfgs; total time=   0.1s\n",
      "[CV] END .....................C=10, penalty=l1, solver=lbfgs; total time=   0.1s\n",
      "[CV] END .......................C=1, penalty=l2, solver=saga; total time=   3.6s\n",
      "[CV] END .................C=10, penalty=l1, solver=liblinear; total time=   0.4s\n",
      "[CV] END .................C=10, penalty=l1, solver=liblinear; total time=   0.5s\n",
      "[CV] END .................C=10, penalty=l1, solver=liblinear; total time=   0.5s\n",
      "[CV] END ........................C=1, penalty=l2, solver=sag; total time=   5.2s\n",
      "[CV] END ........................C=1, penalty=l2, solver=sag; total time=   4.6s\n",
      "[CV] END .................C=10, penalty=l1, solver=liblinear; total time=   0.4s\n",
      "[CV] END .......................C=10, penalty=l1, solver=sag; total time=   0.1s\n",
      "[CV] END .......................C=10, penalty=l1, solver=sag; total time=   0.1s\n",
      "[CV] END .......................C=10, penalty=l1, solver=sag; total time=   0.1s\n",
      "[CV] END .......................C=10, penalty=l1, solver=sag; total time=   0.1s\n",
      "[CV] END .......................C=10, penalty=l1, solver=sag; total time=   0.1s\n",
      "[CV] END .................C=10, penalty=l1, solver=liblinear; total time=   0.5s\n",
      "[CV] END .......................C=1, penalty=l2, solver=saga; total time=   3.6s\n",
      "[CV] END .......................C=1, penalty=l2, solver=saga; total time=   3.4s\n",
      "[CV] END .................C=10, penalty=l2, solver=newton-cg; total time=   4.5s\n",
      "[CV] END .................C=10, penalty=l2, solver=newton-cg; total time=   5.7s\n",
      "[CV] END .................C=10, penalty=l2, solver=newton-cg; total time=   6.3s\n",
      "[CV] END .................C=10, penalty=l2, solver=newton-cg; total time=   6.1s\n",
      "[CV] END .....................C=10, penalty=l2, solver=lbfgs; total time=   3.9s\n",
      "[CV] END .................C=10, penalty=l2, solver=newton-cg; total time=   5.0s\n",
      "[CV] END .....................C=10, penalty=l2, solver=lbfgs; total time=   3.1s\n",
      "[CV] END .....................C=10, penalty=l2, solver=lbfgs; total time=   2.9s\n",
      "[CV] END .....................C=10, penalty=l2, solver=lbfgs; total time=   2.8s\n",
      "[CV] END .................C=10, penalty=l2, solver=liblinear; total time=   0.4s\n",
      "[CV] END .................C=10, penalty=l2, solver=liblinear; total time=   0.5s\n",
      "[CV] END .................C=10, penalty=l2, solver=liblinear; total time=   0.5s\n",
      "[CV] END .....................C=10, penalty=l2, solver=lbfgs; total time=   2.1s\n",
      "[CV] END .................C=10, penalty=l2, solver=liblinear; total time=   0.5s\n",
      "[CV] END .................C=10, penalty=l2, solver=liblinear; total time=   0.5s\n",
      "[CV] END .......................C=10, penalty=l2, solver=sag; total time=   6.7s\n",
      "[CV] END .......................C=10, penalty=l2, solver=sag; total time=   7.3s\n",
      "[CV] END .......................C=10, penalty=l2, solver=sag; total time=   7.4s\n",
      "[CV] END .......................C=10, penalty=l2, solver=sag; total time=   6.1s\n",
      "[CV] END .......................C=10, penalty=l2, solver=sag; total time=   6.6s\n",
      "[CV] END ......................C=10, penalty=l2, solver=saga; total time=   7.6s\n",
      "[CV] END ......................C=10, penalty=l2, solver=saga; total time=   6.4s\n",
      "[CV] END ......................C=10, penalty=l2, solver=saga; total time=   7.8s\n",
      "[CV] END ................C=100, penalty=l1, solver=newton-cg; total time=   0.1s\n",
      "[CV] END ......................C=10, penalty=l2, solver=saga; total time=   6.5s\n",
      "[CV] END ................C=100, penalty=l1, solver=newton-cg; total time=   0.1s\n",
      "[CV] END ................C=100, penalty=l1, solver=newton-cg; total time=   0.1s\n",
      "[CV] END ................C=100, penalty=l1, solver=newton-cg; total time=   0.1s\n",
      "[CV] END ................C=100, penalty=l1, solver=newton-cg; total time=   0.1s\n",
      "[CV] END ....................C=100, penalty=l1, solver=lbfgs; total time=   0.1s\n",
      "[CV] END ....................C=100, penalty=l1, solver=lbfgs; total time=   0.1s\n",
      "[CV] END ....................C=100, penalty=l1, solver=lbfgs; total time=   0.1s\n",
      "[CV] END ....................C=100, penalty=l1, solver=lbfgs; total time=   0.1s\n",
      "[CV] END ....................C=100, penalty=l1, solver=lbfgs; total time=   0.1s\n",
      "[CV] END ................C=100, penalty=l1, solver=liblinear; total time=   0.4s\n",
      "[CV] END ................C=100, penalty=l1, solver=liblinear; total time=   0.4s\n",
      "[CV] END ................C=100, penalty=l1, solver=liblinear; total time=   0.4s\n",
      "[CV] END ................C=100, penalty=l1, solver=liblinear; total time=   0.4s\n",
      "[CV] END ......................C=100, penalty=l1, solver=sag; total time=   0.1s\n",
      "[CV] END ......................C=100, penalty=l1, solver=sag; total time=   0.1s\n",
      "[CV] END ......................C=100, penalty=l1, solver=sag; total time=   0.1s\n",
      "[CV] END ......................C=100, penalty=l1, solver=sag; total time=   0.1s\n",
      "[CV] END ................C=100, penalty=l1, solver=liblinear; total time=   0.5s\n",
      "[CV] END ......................C=100, penalty=l1, solver=sag; total time=   0.1s\n",
      "[CV] END ......................C=10, penalty=l1, solver=saga; total time=  41.1s\n",
      "[CV] END ......................C=10, penalty=l1, solver=saga; total time=  42.4s\n",
      "[CV] END ......................C=10, penalty=l2, solver=saga; total time=   7.5s\n",
      "[CV] END ......................C=10, penalty=l1, solver=saga; total time= 1.2min\n",
      "[CV] END ................C=100, penalty=l2, solver=newton-cg; total time=   5.6s\n",
      "[CV] END ................C=100, penalty=l2, solver=newton-cg; total time=   7.8s\n",
      "[CV] END ................C=100, penalty=l2, solver=newton-cg; total time=   8.7s\n",
      "[CV] END ................C=100, penalty=l2, solver=newton-cg; total time=   6.3s\n",
      "[CV] END ......................C=10, penalty=l1, solver=saga; total time= 1.7min\n",
      "[CV] END ................C=100, penalty=l2, solver=newton-cg; total time=   7.0s\n",
      "[CV] END ....................C=100, penalty=l2, solver=lbfgs; total time=   5.6s\n",
      "[CV] END ....................C=100, penalty=l2, solver=lbfgs; total time=   6.9s\n",
      "[CV] END ....................C=100, penalty=l2, solver=lbfgs; total time=   5.2s\n",
      "[CV] END ....................C=100, penalty=l2, solver=lbfgs; total time=   6.0s\n",
      "[CV] END ....................C=100, penalty=l2, solver=lbfgs; total time=   5.0s\n",
      "[CV] END ................C=100, penalty=l2, solver=liblinear; total time=   0.9s\n",
      "[CV] END ................C=100, penalty=l2, solver=liblinear; total time=   0.7s\n",
      "[CV] END ................C=100, penalty=l2, solver=liblinear; total time=   0.7s\n",
      "[CV] END ................C=100, penalty=l2, solver=liblinear; total time=   0.5s\n",
      "[CV] END ................C=100, penalty=l2, solver=liblinear; total time=   0.7s\n",
      "[CV] END ......................C=100, penalty=l2, solver=sag; total time=  18.5s\n",
      "[CV] END .....................C=100, penalty=l1, solver=saga; total time= 1.7min\n",
      "[CV] END ......................C=100, penalty=l2, solver=sag; total time=  22.0s\n",
      "[CV] END ......................C=10, penalty=l1, solver=saga; total time= 2.7min\n",
      "[CV] END ......................C=100, penalty=l2, solver=sag; total time=  18.0s\n",
      "[CV] END ......................C=100, penalty=l2, solver=sag; total time=  17.8s\n",
      "[CV] END ......................C=100, penalty=l2, solver=sag; total time=  22.6s\n",
      "[CV] END .....................C=100, penalty=l2, solver=saga; total time=  38.4s\n",
      "[CV] END .....................C=100, penalty=l2, solver=saga; total time=  36.3s\n",
      "[CV] END ...............C=1000, penalty=l1, solver=newton-cg; total time=   0.1s\n",
      "[CV] END ...............C=1000, penalty=l1, solver=newton-cg; total time=   0.1s\n",
      "[CV] END ...............C=1000, penalty=l1, solver=newton-cg; total time=   0.1s\n",
      "[CV] END ...............C=1000, penalty=l1, solver=newton-cg; total time=   0.1s\n",
      "[CV] END ...............C=1000, penalty=l1, solver=newton-cg; total time=   0.1s\n",
      "[CV] END ...................C=1000, penalty=l1, solver=lbfgs; total time=   0.1s\n",
      "[CV] END ...................C=1000, penalty=l1, solver=lbfgs; total time=   0.1s\n",
      "[CV] END ...................C=1000, penalty=l1, solver=lbfgs; total time=   0.1s\n",
      "[CV] END ...................C=1000, penalty=l1, solver=lbfgs; total time=   0.1s\n",
      "[CV] END ...................C=1000, penalty=l1, solver=lbfgs; total time=   0.1s\n",
      "[CV] END ...............C=1000, penalty=l1, solver=liblinear; total time=   0.5s\n",
      "[CV] END ...............C=1000, penalty=l1, solver=liblinear; total time=   0.5s\n",
      "[CV] END ...............C=1000, penalty=l1, solver=liblinear; total time=   0.5s\n",
      "[CV] END ...............C=1000, penalty=l1, solver=liblinear; total time=   0.5s\n",
      "[CV] END ...............C=1000, penalty=l1, solver=liblinear; total time=   0.5s\n",
      "[CV] END .....................C=1000, penalty=l1, solver=sag; total time=   0.1s\n",
      "[CV] END .....................C=1000, penalty=l1, solver=sag; total time=   0.1s\n",
      "[CV] END .....................C=1000, penalty=l1, solver=sag; total time=   0.1s\n",
      "[CV] END .....................C=1000, penalty=l1, solver=sag; total time=   0.1s\n",
      "[CV] END .....................C=1000, penalty=l1, solver=sag; total time=   0.1s\n",
      "[CV] END .....................C=100, penalty=l2, solver=saga; total time=  39.5s\n",
      "[CV] END .....................C=100, penalty=l2, solver=saga; total time=  47.5s\n",
      "[CV] END .....................C=100, penalty=l1, solver=saga; total time= 2.9min\n",
      "[CV] END .....................C=100, penalty=l2, solver=saga; total time=  30.9s\n",
      "[CV] END .....................C=100, penalty=l1, solver=saga; total time= 4.0min\n",
      "[CV] END ...............C=1000, penalty=l2, solver=newton-cg; total time=   8.3s\n",
      "[CV] END ...............C=1000, penalty=l2, solver=newton-cg; total time=   8.7s\n",
      "[CV] END ...............C=1000, penalty=l2, solver=newton-cg; total time=   9.5s\n",
      "[CV] END ...............C=1000, penalty=l2, solver=newton-cg; total time=   8.3s\n",
      "[CV] END ...............C=1000, penalty=l2, solver=newton-cg; total time=  10.9s\n",
      "[CV] END ...................C=1000, penalty=l2, solver=lbfgs; total time=   6.3s\n",
      "[CV] END ...................C=1000, penalty=l2, solver=lbfgs; total time=   6.6s\n",
      "[CV] END ...................C=1000, penalty=l2, solver=lbfgs; total time=   8.4s\n",
      "[CV] END ...................C=1000, penalty=l2, solver=lbfgs; total time=   9.6s\n",
      "[CV] END ...................C=1000, penalty=l2, solver=lbfgs; total time=   6.7s\n",
      "[CV] END ...............C=1000, penalty=l2, solver=liblinear; total time=   0.8s\n",
      "[CV] END ...............C=1000, penalty=l2, solver=liblinear; total time=   0.6s\n",
      "[CV] END ...............C=1000, penalty=l2, solver=liblinear; total time=   0.6s\n",
      "[CV] END ...............C=1000, penalty=l2, solver=liblinear; total time=   0.6s\n",
      "[CV] END ...............C=1000, penalty=l2, solver=liblinear; total time=   0.6s\n",
      "[CV] END ....................C=1000, penalty=l1, solver=saga; total time= 3.0min\n",
      "[CV] END .....................C=1000, penalty=l2, solver=sag; total time=  43.3s\n",
      "[CV] END ....................C=1000, penalty=l1, solver=saga; total time= 3.4min\n",
      "[CV] END .....................C=100, penalty=l1, solver=saga; total time= 6.7min\n",
      "[CV] END .....................C=1000, penalty=l2, solver=sag; total time= 1.4min\n"
     ]
    },
    {
     "name": "stderr",
     "output_type": "stream",
     "text": [
      "/Library/Frameworks/Python.framework/Versions/3.10/lib/python3.10/site-packages/sklearn/linear_model/_sag.py:350: ConvergenceWarning: The max_iter was reached which means the coef_ did not converge\n",
      "  warnings.warn(\n"
     ]
    },
    {
     "name": "stdout",
     "output_type": "stream",
     "text": [
      "[CV] END .....................C=100, penalty=l1, solver=saga; total time= 7.2min\n",
      "[CV] END .....................C=1000, penalty=l2, solver=sag; total time=  43.9s\n",
      "[CV] END .....................C=1000, penalty=l2, solver=sag; total time= 1.1min\n",
      "[CV] END .....................C=1000, penalty=l2, solver=sag; total time= 1.6min\n",
      "[CV] END ....................C=1000, penalty=l2, solver=saga; total time= 1.4min\n",
      "[CV] END ....................C=1000, penalty=l2, solver=saga; total time= 1.2min\n",
      "[CV] END ....................C=1000, penalty=l2, solver=saga; total time= 2.4min\n",
      "[CV] END ....................C=1000, penalty=l1, solver=saga; total time= 6.6min\n"
     ]
    },
    {
     "name": "stderr",
     "output_type": "stream",
     "text": [
      "/Library/Frameworks/Python.framework/Versions/3.10/lib/python3.10/site-packages/sklearn/linear_model/_sag.py:350: ConvergenceWarning: The max_iter was reached which means the coef_ did not converge\n",
      "  warnings.warn(\n"
     ]
    },
    {
     "name": "stdout",
     "output_type": "stream",
     "text": [
      "[CV] END ....................C=1000, penalty=l1, solver=saga; total time= 6.8min\n"
     ]
    },
    {
     "name": "stderr",
     "output_type": "stream",
     "text": [
      "/Library/Frameworks/Python.framework/Versions/3.10/lib/python3.10/site-packages/sklearn/linear_model/_sag.py:350: ConvergenceWarning: The max_iter was reached which means the coef_ did not converge\n",
      "  warnings.warn(\n"
     ]
    },
    {
     "name": "stdout",
     "output_type": "stream",
     "text": [
      "[CV] END ....................C=1000, penalty=l1, solver=saga; total time= 6.8min\n",
      "[CV] END ....................C=1000, penalty=l2, solver=saga; total time= 2.4min\n",
      "[CV] END ....................C=1000, penalty=l2, solver=saga; total time= 2.2min\n"
     ]
    },
    {
     "name": "stderr",
     "output_type": "stream",
     "text": [
      "/Library/Frameworks/Python.framework/Versions/3.10/lib/python3.10/site-packages/sklearn/model_selection/_validation.py:378: FitFailedWarning: \n",
      "105 fits failed out of a total of 350.\n",
      "The score on these train-test partitions for these parameters will be set to nan.\n",
      "If these failures are not expected, you can try to debug them by setting error_score='raise'.\n",
      "\n",
      "Below are more details about the failures:\n",
      "--------------------------------------------------------------------------------\n",
      "35 fits failed with the following error:\n",
      "Traceback (most recent call last):\n",
      "  File \"/Library/Frameworks/Python.framework/Versions/3.10/lib/python3.10/site-packages/sklearn/model_selection/_validation.py\", line 686, in _fit_and_score\n",
      "    estimator.fit(X_train, y_train, **fit_params)\n",
      "  File \"/Library/Frameworks/Python.framework/Versions/3.10/lib/python3.10/site-packages/sklearn/linear_model/_logistic.py\", line 1162, in fit\n",
      "    solver = _check_solver(self.solver, self.penalty, self.dual)\n",
      "  File \"/Library/Frameworks/Python.framework/Versions/3.10/lib/python3.10/site-packages/sklearn/linear_model/_logistic.py\", line 54, in _check_solver\n",
      "    raise ValueError(\n",
      "ValueError: Solver newton-cg supports only 'l2' or 'none' penalties, got l1 penalty.\n",
      "\n",
      "--------------------------------------------------------------------------------\n",
      "35 fits failed with the following error:\n",
      "Traceback (most recent call last):\n",
      "  File \"/Library/Frameworks/Python.framework/Versions/3.10/lib/python3.10/site-packages/sklearn/model_selection/_validation.py\", line 686, in _fit_and_score\n",
      "    estimator.fit(X_train, y_train, **fit_params)\n",
      "  File \"/Library/Frameworks/Python.framework/Versions/3.10/lib/python3.10/site-packages/sklearn/linear_model/_logistic.py\", line 1162, in fit\n",
      "    solver = _check_solver(self.solver, self.penalty, self.dual)\n",
      "  File \"/Library/Frameworks/Python.framework/Versions/3.10/lib/python3.10/site-packages/sklearn/linear_model/_logistic.py\", line 54, in _check_solver\n",
      "    raise ValueError(\n",
      "ValueError: Solver lbfgs supports only 'l2' or 'none' penalties, got l1 penalty.\n",
      "\n",
      "--------------------------------------------------------------------------------\n",
      "35 fits failed with the following error:\n",
      "Traceback (most recent call last):\n",
      "  File \"/Library/Frameworks/Python.framework/Versions/3.10/lib/python3.10/site-packages/sklearn/model_selection/_validation.py\", line 686, in _fit_and_score\n",
      "    estimator.fit(X_train, y_train, **fit_params)\n",
      "  File \"/Library/Frameworks/Python.framework/Versions/3.10/lib/python3.10/site-packages/sklearn/linear_model/_logistic.py\", line 1162, in fit\n",
      "    solver = _check_solver(self.solver, self.penalty, self.dual)\n",
      "  File \"/Library/Frameworks/Python.framework/Versions/3.10/lib/python3.10/site-packages/sklearn/linear_model/_logistic.py\", line 54, in _check_solver\n",
      "    raise ValueError(\n",
      "ValueError: Solver sag supports only 'l2' or 'none' penalties, got l1 penalty.\n",
      "\n",
      "  warnings.warn(some_fits_failed_message, FitFailedWarning)\n",
      "/Library/Frameworks/Python.framework/Versions/3.10/lib/python3.10/site-packages/sklearn/model_selection/_search.py:952: UserWarning: One or more of the test scores are non-finite: [       nan        nan 0.50186667        nan 0.49964444 0.85591111\n",
      " 0.85591111 0.86266667 0.85573333 0.85591111        nan        nan\n",
      " 0.796             nan 0.79448889 0.8708     0.8708     0.87302222\n",
      " 0.87071111 0.8708            nan        nan 0.88066667        nan\n",
      " 0.88031111 0.89826667 0.89826667 0.8984     0.89822222 0.89826667\n",
      "        nan        nan 0.90924444        nan 0.90924444 0.91008889\n",
      " 0.91008889 0.91008889 0.91008889 0.91008889        nan        nan\n",
      " 0.90742222        nan 0.90742222 0.90866667 0.90866667 0.90866667\n",
      " 0.90866667 0.90866667        nan        nan 0.90537778        nan\n",
      " 0.90533333 0.90555556 0.9056     0.90555556 0.90555556 0.90555556\n",
      "        nan        nan 0.90484444        nan 0.90493333 0.90475556\n",
      " 0.90475556 0.90475556 0.90475556 0.90475556]\n",
      "  warnings.warn(\n"
     ]
    },
    {
     "name": "stdout",
     "output_type": "stream",
     "text": [
      "Best Parameters: {'C': 1, 'penalty': 'l2', 'solver': 'newton-cg'}\n"
     ]
    }
   ],
   "source": [
    "# Perform Grid Search to find the best parameters for Logistic Regression\n",
    "\n",
    "# Define hyperparameters grid\n",
    "param_grid = {\n",
    "    'C': [0.001, 0.01, 0.1, 1, 10, 100, 1000],\n",
    "    'penalty': ['l1', 'l2'],\n",
    "    'solver': ['newton-cg', 'lbfgs', 'liblinear', 'sag', 'saga']\n",
    "}\n",
    "\n",
    "# Initialize Logistic Regression\n",
    "clf = LogisticRegression(max_iter=1000)\n",
    "\n",
    "# Initialize GridSearchCV with 5-fold cross-validation\n",
    "grid_search = GridSearchCV(clf, param_grid, cv=5, verbose=2, n_jobs=-1)\n",
    "\n",
    "# Fit the grid search\n",
    "grid_search.fit(X_train, y_train)\n",
    "\n",
    "\n",
    "# Best hyperparameters\n",
    "best_parameters = grid_search.best_params_\n",
    "print(\"Best Parameters:\", best_parameters)\n",
    "\n",
    "# Optionally, you can retrieve the best estimator directly:\n",
    "best_estimator = grid_search.best_estimator_\n"
   ]
  },
  {
   "cell_type": "code",
   "execution_count": 9,
   "metadata": {},
   "outputs": [
    {
     "name": "stdout",
     "output_type": "stream",
     "text": [
      "Accuracy: 0.9150666666666667\n",
      "Confusion Matrix:\n",
      "[[3429  279]\n",
      " [ 358 3434]]\n",
      "Classification Report:\n",
      "              precision    recall  f1-score   support\n",
      "\n",
      "           0       0.91      0.92      0.92      3708\n",
      "           1       0.92      0.91      0.92      3792\n",
      "\n",
      "    accuracy                           0.92      7500\n",
      "   macro avg       0.92      0.92      0.92      7500\n",
      "weighted avg       0.92      0.92      0.92      7500\n",
      "\n",
      "AUC Score: 0.9151739994264881\n",
      "Precision-Recall Metrics:\n",
      "               precision    recall  f1-score   support\n",
      "\n",
      "           0      0.905     0.925     0.915      3708\n",
      "           1      0.925     0.906     0.915      3792\n",
      "\n",
      "    accuracy                          0.915      7500\n",
      "   macro avg      0.915     0.915     0.915      7500\n",
      "weighted avg      0.915     0.915     0.915      7500\n",
      "\n",
      "Weighted F1-score: 0.9150672630876725\n"
     ]
    }
   ],
   "source": [
    "# Predict the labels of the test set\n",
    "y_pred = best_estimator.predict(X_test)\n",
    "\n",
    "# Print the accuracy\n",
    "print(\"Accuracy:\", accuracy_score(y_test, y_pred))\n",
    "\n",
    "# Print the confusion matrix\n",
    "print(\"Confusion Matrix:\")\n",
    "print(confusion_matrix(y_test, y_pred))\n",
    "\n",
    "# Print the classification report\n",
    "print(\"Classification Report:\")\n",
    "print(classification_report(y_test, y_pred))\n",
    "\n",
    "# Print AUC score\n",
    "print(\"AUC Score:\", roc_auc_score(y_test, y_pred))\n",
    "\n",
    "# Print the precision and recall, among other metrics\n",
    "print(\"Precision-Recall Metrics:\\n\", classification_report(y_test, y_pred, digits=3))\n",
    "\n",
    "# Print weighted F1-score\n",
    "print(\"Weighted F1-score:\", f1_score(y_test, y_pred, average='weighted'))"
   ]
  },
  {
   "cell_type": "code",
   "execution_count": 50,
   "metadata": {},
   "outputs": [
    {
     "data": {
      "image/png": "[encoded data removed]",
      "text/plain": [
       "<Figure size 432x288 with 1 Axes>"
      ]
     },
     "metadata": {
      "needs_background": "light"
     },
     "output_type": "display_data"
    }
   ],
   "source": [
    "# Perform PCA on the data and plot the explained variance ratio and mark 85% on the graph\n",
    "pca = PCA()\n",
    "pca.fit(X_train)\n",
    "plt.plot(np.cumsum(pca.explained_variance_ratio_))\n",
    "plt.xlabel('Number of Components')\n",
    "plt.ylabel('Variance (%)')\n",
    "plt.title('Explained Variance')\n",
    "plt.show()"
   ]
  },
  {
   "cell_type": "code",
   "execution_count": 52,
   "metadata": {},
   "outputs": [],
   "source": [
    "# Perform PCA on the data and extract the features that explain 85% of the variance\n",
    "pca = PCA(n_components=0.85)\n",
    "X_train = pca.fit_transform(X_train)\n",
    "X_test = pca.transform(X_test)"
   ]
  },
  {
   "cell_type": "code",
   "execution_count": 53,
   "metadata": {},
   "outputs": [],
   "source": [
    "# Run Logistic Regression \n",
    "# Initialize Logistic Regression\n",
    "lr = LogisticRegression()\n",
    "\n",
    "# Fit the model on the training data\n",
    "lr.fit(X_train, y_train)\n",
    "\n",
    "# Predict on the test data\n",
    "y_pred = lr.predict(X_test)"
   ]
  },
  {
   "cell_type": "code",
   "execution_count": 54,
   "metadata": {},
   "outputs": [
    {
     "name": "stdout",
     "output_type": "stream",
     "text": [
      "Accuracy Score: 0.9126666666666666\n",
      "Confusion Matrix:\n",
      " [[3428  280]\n",
      " [ 375 3417]]\n",
      "AUC Score: 0.912797594663608\n",
      "Classification Report:\n",
      "               precision    recall  f1-score   support\n",
      "\n",
      "           0       0.90      0.92      0.91      3708\n",
      "           1       0.92      0.90      0.91      3792\n",
      "\n",
      "    accuracy                           0.91      7500\n",
      "   macro avg       0.91      0.91      0.91      7500\n",
      "weighted avg       0.91      0.91      0.91      7500\n",
      "\n"
     ]
    }
   ],
   "source": [
    "# Print the accuracy score\n",
    "print(\"Accuracy Score:\", accuracy_score(y_test, y_pred))\n",
    "\n",
    "# Print the confusion matrix\n",
    "print(\"Confusion Matrix:\\n\", confusion_matrix(y_test, y_pred))\n",
    "\n",
    "# Print AUC score\n",
    "print(\"AUC Score:\", roc_auc_score(y_test, y_pred))\n",
    "\n",
    "# Print the classification report\n",
    "print(\"Classification Report:\\n\", classification_report(y_test, y_pred))"
   ]
  },
  {
   "cell_type": "code",
   "execution_count": 55,
   "metadata": {},
   "outputs": [
    {
     "name": "stdout",
     "output_type": "stream",
     "text": [
      "Weighted F1-score: 0.9126650442039174\n"
     ]
    }
   ],
   "source": [
    "# Print weighted F1-score\n",
    "print(\"Weighted F1-score:\", f1_score(y_test, y_pred, average='weighted'))"
   ]
  },
  {
   "cell_type": "code",
   "execution_count": 59,
   "metadata": {},
   "outputs": [
    {
     "name": "stdout",
     "output_type": "stream",
     "text": [
      "Precision-Recall Metrics:\n",
      "               precision    recall  f1-score   support\n",
      "\n",
      "           0      0.901     0.924     0.913      3708\n",
      "           1      0.924     0.901     0.913      3792\n",
      "\n",
      "    accuracy                          0.913      7500\n",
      "   macro avg      0.913     0.913     0.913      7500\n",
      "weighted avg      0.913     0.913     0.913      7500\n",
      "\n"
     ]
    },
    {
     "data": {
      "image/png": "[encoded data removed]",
      "text/plain": [
       "<Figure size 720x720 with 1 Axes>"
      ]
     },
     "metadata": {
      "needs_background": "light"
     },
     "output_type": "display_data"
    }
   ],
   "source": [
    "# Print the precision and recall, among other metrics\n",
    "print(\"Precision-Recall Metrics:\\n\", classification_report(y_test, y_pred, digits=3))\n",
    "\n",
    "# # Plot the ROC curve\n",
    "# fpr, tpr, thresholds = roc_curve(y_test, y_pred)\n",
    "# roc_auc = auc(fpr, tpr)\n",
    "\n",
    "# plt.figure(figsize=(10, 10))\n",
    "# plt.title('ROC Curve')\n",
    "# plt.plot(fpr, tpr, 'b', label='AUC = %0.2f' % roc_auc)\n",
    "# plt.legend(loc='lower right')\n",
    "\n",
    "# Plot the precision-recall curve\n",
    "precision, recall, thresholds = precision_recall_curve(y_test, y_pred)\n",
    "\n",
    "plt.figure(figsize=(10, 10))\n",
    "plt.title('Precision-Recall Curve')\n",
    "plt.plot(recall, precision, 'b')\n",
    "plt.xlabel('Recall')\n",
    "plt.ylabel('Precision')\n",
    "plt.show()"
   ]
  }
 ],
 "metadata": {
  "kernelspec": {
   "display_name": "Python 3",
   "language": "python",
   "name": "python3"
  },
  "language_info": {
   "codemirror_mode": {
    "name": "ipython",
    "version": 3
   },
   "file_extension": ".py",
   "mimetype": "text/x-python",
   "name": "python",
   "nbconvert_exporter": "python",
   "pygments_lexer": "ipython3",
   "version": "3.10.0"
  }
 },
 "nbformat": 4,
 "nbformat_minor": 2
}
